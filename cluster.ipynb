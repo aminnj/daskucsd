{
 "cells": [
  {
   "cell_type": "code",
   "execution_count": 1,
   "metadata": {
    "ExecuteTime": {
     "end_time": "2020-11-29T01:21:09.131276Z",
     "start_time": "2020-11-29T01:21:07.243550Z"
    }
   },
   "outputs": [],
   "source": [
    "%matplotlib inline\n",
    "import pandas as pd\n",
    "import uproot\n",
    "import matplotlib.pyplot as plt\n",
    "import numpy as np\n",
    "import glob\n",
    "\n",
    "from dask.distributed import Client, LocalCluster\n",
    "from yahist import Hist1D, Hist2D\n",
    "\n",
    "from condor_utils import make_htcondor_cluster"
   ]
  },
  {
   "cell_type": "code",
   "execution_count": 136,
   "metadata": {
    "ExecuteTime": {
     "end_time": "2020-11-29T02:27:46.837039Z",
     "start_time": "2020-11-29T02:27:46.832233Z"
    }
   },
   "outputs": [],
   "source": [
    "from utils import get_results, clear_tree_cache, plot_timeflow"
   ]
  },
  {
   "cell_type": "code",
   "execution_count": 3,
   "metadata": {
    "ExecuteTime": {
     "end_time": "2020-11-29T01:21:10.658557Z",
     "start_time": "2020-11-29T01:21:09.889242Z"
    }
   },
   "outputs": [
    {
     "data": {
      "application/vnd.jupyter.widget-view+json": {
       "model_id": "69a427077f18493cbc8106617be35948",
       "version_major": 2,
       "version_minor": 0
      },
      "text/plain": [
       "VBox(children=(HTML(value='<h2>UCSDHTCondorCluster</h2>'), HBox(children=(HTML(value='\\n<div>\\n  <style scoped…"
      ]
     },
     "metadata": {},
     "output_type": "display_data"
    }
   ],
   "source": [
    "cluster = make_htcondor_cluster(dashboard_address=12347)\n",
    "cluster.scale(16)\n",
    "cluster"
   ]
  },
  {
   "cell_type": "code",
   "execution_count": 162,
   "metadata": {
    "ExecuteTime": {
     "end_time": "2020-11-29T02:38:14.561839Z",
     "start_time": "2020-11-29T02:38:14.528458Z"
    }
   },
   "outputs": [
    {
     "data": {
      "text/html": [
       "<table style=\"border: 2px solid white;\">\n",
       "<tr>\n",
       "<td style=\"vertical-align: top; border: 0px solid white\">\n",
       "<h3 style=\"text-align: left;\">Client</h3>\n",
       "<ul style=\"text-align: left; list-style: none; margin: 0; padding: 0;\">\n",
       "  <li><b>Scheduler: </b>tcp://169.228.130.74:23365</li>\n",
       "  <li><b>Dashboard: </b><a href='http://169.228.130.74:12347/status' target='_blank'>http://169.228.130.74:12347/status</a></li>\n",
       "</ul>\n",
       "</td>\n",
       "<td style=\"vertical-align: top; border: 0px solid white\">\n",
       "<h3 style=\"text-align: left;\">Cluster</h3>\n",
       "<ul style=\"text-align: left; list-style:none; margin: 0; padding: 0;\">\n",
       "  <li><b>Workers: </b>30</li>\n",
       "  <li><b>Cores: </b>30</li>\n",
       "  <li><b>Memory: </b>120.00 GB</li>\n",
       "</ul>\n",
       "</td>\n",
       "</tr>\n",
       "</table>"
      ],
      "text/plain": [
       "<Client: 'tcp://169.228.130.74:23365' processes=30 threads=30, memory=120.00 GB>"
      ]
     },
     "execution_count": 162,
     "metadata": {},
     "output_type": "execute_result"
    }
   ],
   "source": [
    "client = Client(cluster)\n",
    "client"
   ]
  },
  {
   "cell_type": "code",
   "execution_count": 163,
   "metadata": {
    "ExecuteTime": {
     "end_time": "2020-11-29T02:38:15.029969Z",
     "start_time": "2020-11-29T02:38:14.892064Z"
    }
   },
   "outputs": [
    {
     "name": "stdout",
     "output_type": "stream",
     "text": [
      "155\n"
     ]
    }
   ],
   "source": [
    "fnames = glob.glob(\"/hadoop/cms/store/user/legianni/ProjectMetis/DoubleEG_Run201*x3/*.root\")\n",
    "print(len(fnames))"
   ]
  },
  {
   "cell_type": "code",
   "execution_count": 164,
   "metadata": {
    "ExecuteTime": {
     "end_time": "2020-11-29T02:38:27.250572Z",
     "start_time": "2020-11-29T02:38:27.244083Z"
    }
   },
   "outputs": [],
   "source": [
    "# Takes in a dataframe-like object based on a chunk of a file\n",
    "# must return a dictionary of things that can be added with `+`\n",
    "def process(df):\n",
    "    out = dict()\n",
    "    out[\"mycounter\"] = len(df)\n",
    "    out[\"hmet\"] = Hist1D(df[\"MET_pt\"], bins=\"200,0,1000\", label=\"MET_pt\")\n",
    "    return out"
   ]
  },
  {
   "cell_type": "code",
   "execution_count": 165,
   "metadata": {
    "ExecuteTime": {
     "end_time": "2020-11-29T02:39:45.282378Z",
     "start_time": "2020-11-29T02:38:29.569702Z"
    }
   },
   "outputs": [
    {
     "name": "stdout",
     "output_type": "stream",
     "text": [
      "Making chunks for workers\n",
      "Processing 457 chunks\n"
     ]
    },
    {
     "data": {
      "application/vnd.jupyter.widget-view+json": {
       "model_id": "09080647079d4a25a8a9ad7ee21254f7",
       "version_major": 2,
       "version_minor": 0
      },
      "text/plain": [
       "HBox(children=(HTML(value=''), FloatProgress(value=0.0, max=190545799.0), HTML(value='')))"
      ]
     },
     "metadata": {},
     "output_type": "display_data"
    },
    {
     "name": "stdout",
     "output_type": "stream",
     "text": [
      "\n",
      "Processed 1.9055e+08 input events in 75.5s (2525.44kHz)\n"
     ]
    }
   ],
   "source": [
    "results = get_results(process, fnames, use_tree_cache=True, chunksize=500e3)"
   ]
  },
  {
   "cell_type": "code",
   "execution_count": 166,
   "metadata": {
    "ExecuteTime": {
     "end_time": "2020-11-29T02:39:55.739534Z",
     "start_time": "2020-11-29T02:39:51.399011Z"
    }
   },
   "outputs": [
    {
     "name": "stdout",
     "output_type": "stream",
     "text": [
      "Making chunks for workers\n",
      "Processing 457 chunks\n"
     ]
    },
    {
     "data": {
      "application/vnd.jupyter.widget-view+json": {
       "model_id": "69ca975f16e7441e87acca0338220533",
       "version_major": 2,
       "version_minor": 0
      },
      "text/plain": [
       "HBox(children=(HTML(value=''), FloatProgress(value=0.0, max=190545799.0), HTML(value='')))"
      ]
     },
     "metadata": {},
     "output_type": "display_data"
    },
    {
     "name": "stdout",
     "output_type": "stream",
     "text": [
      "\n",
      "Processed 1.9055e+08 input events in 4.1s (46317.96kHz)\n"
     ]
    }
   ],
   "source": [
    "# use_tree_cache speeds things up the second time you run on the same files (if you're looping on <200 files)\n",
    "# so we run it again. In principle, `process` can be changed and we'll still see a speedup due to the\n",
    "# overhead of opening up a nanoaod ttree with uproot\n",
    "results = get_results(process, fnames, use_tree_cache=True, chunksize=500e3)"
   ]
  },
  {
   "cell_type": "code",
   "execution_count": 167,
   "metadata": {
    "ExecuteTime": {
     "end_time": "2020-11-29T02:40:15.373505Z",
     "start_time": "2020-11-29T02:40:13.938499Z"
    }
   },
   "outputs": [
    {
     "name": "stderr",
     "output_type": "stream",
     "text": [
      "/home/users/namin/miniconda3/envs/nanoanalysisenv/lib/python3.7/site-packages/yahist/utils.py:1: RuntimeWarning: overflow encountered in exp\n",
      "  from __future__ import print_function\n"
     ]
    },
    {
     "data": {
      "image/png": "[encoded data removed]",
      "text/plain": [
       "<Figure size 432x288 with 1 Axes>"
      ]
     },
     "metadata": {
      "image/png": {
       "height": 263,
       "width": 374
      },
      "needs_background": "light"
     },
     "output_type": "display_data"
    }
   ],
   "source": [
    "fig, ax = plt.subplots()\n",
    "\n",
    "h = results[\"hmet\"]\n",
    "\n",
    "h.plot(histtype=\"step\")\n",
    "h.restrict(400, 1e6).fit(\"a*np.exp(-b*(x-400))\")\n",
    "\n",
    "ax.set_title(str(results[\"mycounter\"]))\n",
    "ax.set_yscale(\"log\")"
   ]
  },
  {
   "cell_type": "code",
   "execution_count": null,
   "metadata": {
    "ExecuteTime": {
     "end_time": "2020-11-29T02:37:24.331891Z",
     "start_time": "2020-11-29T02:37:24.312529Z"
    }
   },
   "outputs": [],
   "source": []
  },
  {
   "cell_type": "code",
   "execution_count": 168,
   "metadata": {
    "ExecuteTime": {
     "end_time": "2020-11-29T02:40:24.848223Z",
     "start_time": "2020-11-29T02:40:24.423560Z"
    }
   },
   "outputs": [
    {
     "data": {
      "text/html": [
       "\n",
       "    <div class=\"bk-root\">\n",
       "        <a href=\"https://bokeh.org\" target=\"_blank\" class=\"bk-logo bk-logo-small bk-logo-notebook\"></a>\n",
       "        <span id=\"21372\">Loading BokehJS ...</span>\n",
       "    </div>"
      ]
     },
     "metadata": {},
     "output_type": "display_data"
    },
    {
     "data": {
      "application/javascript": [
       "\n",
       "(function(root) {\n",
       "  function now() {\n",
       "    return new Date();\n",
       "  }\n",
       "\n",
       "  var force = true;\n",
       "\n",
       "  if (typeof root._bokeh_onload_callbacks === \"undefined\" || force === true) {\n",
       "    root._bokeh_onload_callbacks = [];\n",
       "    root._bokeh_is_loading = undefined;\n",
       "  }\n",
       "\n",
       "  var JS_MIME_TYPE = 'application/javascript';\n",
       "  var HTML_MIME_TYPE = 'text/html';\n",
       "  var EXEC_MIME_TYPE = 'application/vnd.bokehjs_exec.v0+json';\n",
       "  var CLASS_NAME = 'output_bokeh rendered_html';\n",
       "\n",
       "  /**\n",
       "   * Render data to the DOM node\n",
       "   */\n",
       "  function render(props, node) {\n",
       "    var script = document.createElement(\"script\");\n",
       "    node.appendChild(script);\n",
       "  }\n",
       "\n",
       "  /**\n",
       "   * Handle when an output is cleared or removed\n",
       "   */\n",
       "  function handleClearOutput(event, handle) {\n",
       "    var cell = handle.cell;\n",
       "\n",
       "    var id = cell.output_area._bokeh_element_id;\n",
       "    var server_id = cell.output_area._bokeh_server_id;\n",
       "    // Clean up Bokeh references\n",
       "    if (id != null && id in Bokeh.index) {\n",
       "      Bokeh.index[id].model.document.clear();\n",
       "      delete Bokeh.index[id];\n",
       "    }\n",
       "\n",
       "    if (server_id !== undefined) {\n",
       "      // Clean up Bokeh references\n",
       "      var cmd = \"from bokeh.io.state import curstate; print(curstate().uuid_to_server['\" + server_id + \"'].get_sessions()[0].document.roots[0]._id)\";\n",
       "      cell.notebook.kernel.execute(cmd, {\n",
       "        iopub: {\n",
       "          output: function(msg) {\n",
       "            var id = msg.content.text.trim();\n",
       "            if (id in Bokeh.index) {\n",
       "              Bokeh.index[id].model.document.clear();\n",
       "              delete Bokeh.index[id];\n",
       "            }\n",
       "          }\n",
       "        }\n",
       "      });\n",
       "      // Destroy server and session\n",
       "      var cmd = \"import bokeh.io.notebook as ion; ion.destroy_server('\" + server_id + \"')\";\n",
       "      cell.notebook.kernel.execute(cmd);\n",
       "    }\n",
       "  }\n",
       "\n",
       "  /**\n",
       "   * Handle when a new output is added\n",
       "   */\n",
       "  function handleAddOutput(event, handle) {\n",
       "    var output_area = handle.output_area;\n",
       "    var output = handle.output;\n",
       "\n",
       "    // limit handleAddOutput to display_data with EXEC_MIME_TYPE content only\n",
       "    if ((output.output_type != \"display_data\") || (!output.data.hasOwnProperty(EXEC_MIME_TYPE))) {\n",
       "      return\n",
       "    }\n",
       "\n",
       "    var toinsert = output_area.element.find(\".\" + CLASS_NAME.split(' ')[0]);\n",
       "\n",
       "    if (output.metadata[EXEC_MIME_TYPE][\"id\"] !== undefined) {\n",
       "      toinsert[toinsert.length - 1].firstChild.textContent = output.data[JS_MIME_TYPE];\n",
       "      // store reference to embed id on output_area\n",
       "      output_area._bokeh_element_id = output.metadata[EXEC_MIME_TYPE][\"id\"];\n",
       "    }\n",
       "    if (output.metadata[EXEC_MIME_TYPE][\"server_id\"] !== undefined) {\n",
       "      var bk_div = document.createElement(\"div\");\n",
       "      bk_div.innerHTML = output.data[HTML_MIME_TYPE];\n",
       "      var script_attrs = bk_div.children[0].attributes;\n",
       "      for (var i = 0; i < script_attrs.length; i++) {\n",
       "        toinsert[toinsert.length - 1].firstChild.setAttribute(script_attrs[i].name, script_attrs[i].value);\n",
       "        toinsert[toinsert.length - 1].firstChild.textContent = bk_div.children[0].textContent\n",
       "      }\n",
       "      // store reference to server id on output_area\n",
       "      output_area._bokeh_server_id = output.metadata[EXEC_MIME_TYPE][\"server_id\"];\n",
       "    }\n",
       "  }\n",
       "\n",
       "  function register_renderer(events, OutputArea) {\n",
       "\n",
       "    function append_mime(data, metadata, element) {\n",
       "      // create a DOM node to render to\n",
       "      var toinsert = this.create_output_subarea(\n",
       "        metadata,\n",
       "        CLASS_NAME,\n",
       "        EXEC_MIME_TYPE\n",
       "      );\n",
       "      this.keyboard_manager.register_events(toinsert);\n",
       "      // Render to node\n",
       "      var props = {data: data, metadata: metadata[EXEC_MIME_TYPE]};\n",
       "      render(props, toinsert[toinsert.length - 1]);\n",
       "      element.append(toinsert);\n",
       "      return toinsert\n",
       "    }\n",
       "\n",
       "    /* Handle when an output is cleared or removed */\n",
       "    events.on('clear_output.CodeCell', handleClearOutput);\n",
       "    events.on('delete.Cell', handleClearOutput);\n",
       "\n",
       "    /* Handle when a new output is added */\n",
       "    events.on('output_added.OutputArea', handleAddOutput);\n",
       "\n",
       "    /**\n",
       "     * Register the mime type and append_mime function with output_area\n",
       "     */\n",
       "    OutputArea.prototype.register_mime_type(EXEC_MIME_TYPE, append_mime, {\n",
       "      /* Is output safe? */\n",
       "      safe: true,\n",
       "      /* Index of renderer in `output_area.display_order` */\n",
       "      index: 0\n",
       "    });\n",
       "  }\n",
       "\n",
       "  // register the mime type if in Jupyter Notebook environment and previously unregistered\n",
       "  if (root.Jupyter !== undefined) {\n",
       "    var events = require('base/js/events');\n",
       "    var OutputArea = require('notebook/js/outputarea').OutputArea;\n",
       "\n",
       "    if (OutputArea.prototype.mime_types().indexOf(EXEC_MIME_TYPE) == -1) {\n",
       "      register_renderer(events, OutputArea);\n",
       "    }\n",
       "  }\n",
       "\n",
       "  \n",
       "  if (typeof (root._bokeh_timeout) === \"undefined\" || force === true) {\n",
       "    root._bokeh_timeout = Date.now() + 5000;\n",
       "    root._bokeh_failed_load = false;\n",
       "  }\n",
       "\n",
       "  var NB_LOAD_WARNING = {'data': {'text/html':\n",
       "     \"<div style='background-color: #fdd'>\\n\"+\n",
       "     \"<p>\\n\"+\n",
       "     \"BokehJS does not appear to have successfully loaded. If loading BokehJS from CDN, this \\n\"+\n",
       "     \"may be due to a slow or bad network connection. Possible fixes:\\n\"+\n",
       "     \"</p>\\n\"+\n",
       "     \"<ul>\\n\"+\n",
       "     \"<li>re-rerun `output_notebook()` to attempt to load from CDN again, or</li>\\n\"+\n",
       "     \"<li>use INLINE resources instead, as so:</li>\\n\"+\n",
       "     \"</ul>\\n\"+\n",
       "     \"<code>\\n\"+\n",
       "     \"from bokeh.resources import INLINE\\n\"+\n",
       "     \"output_notebook(resources=INLINE)\\n\"+\n",
       "     \"</code>\\n\"+\n",
       "     \"</div>\"}};\n",
       "\n",
       "  function display_loaded() {\n",
       "    var el = document.getElementById(\"21372\");\n",
       "    if (el != null) {\n",
       "      el.textContent = \"BokehJS is loading...\";\n",
       "    }\n",
       "    if (root.Bokeh !== undefined) {\n",
       "      if (el != null) {\n",
       "        el.textContent = \"BokehJS \" + root.Bokeh.version + \" successfully loaded.\";\n",
       "      }\n",
       "    } else if (Date.now() < root._bokeh_timeout) {\n",
       "      setTimeout(display_loaded, 100)\n",
       "    }\n",
       "  }\n",
       "\n",
       "\n",
       "  function run_callbacks() {\n",
       "    try {\n",
       "      root._bokeh_onload_callbacks.forEach(function(callback) {\n",
       "        if (callback != null)\n",
       "          callback();\n",
       "      });\n",
       "    } finally {\n",
       "      delete root._bokeh_onload_callbacks\n",
       "    }\n",
       "    console.debug(\"Bokeh: all callbacks have finished\");\n",
       "  }\n",
       "\n",
       "  function load_libs(css_urls, js_urls, callback) {\n",
       "    if (css_urls == null) css_urls = [];\n",
       "    if (js_urls == null) js_urls = [];\n",
       "\n",
       "    root._bokeh_onload_callbacks.push(callback);\n",
       "    if (root._bokeh_is_loading > 0) {\n",
       "      console.debug(\"Bokeh: BokehJS is being loaded, scheduling callback at\", now());\n",
       "      return null;\n",
       "    }\n",
       "    if (js_urls == null || js_urls.length === 0) {\n",
       "      run_callbacks();\n",
       "      return null;\n",
       "    }\n",
       "    console.debug(\"Bokeh: BokehJS not loaded, scheduling load and callback at\", now());\n",
       "    root._bokeh_is_loading = css_urls.length + js_urls.length;\n",
       "\n",
       "    function on_load() {\n",
       "      root._bokeh_is_loading--;\n",
       "      if (root._bokeh_is_loading === 0) {\n",
       "        console.debug(\"Bokeh: all BokehJS libraries/stylesheets loaded\");\n",
       "        run_callbacks()\n",
       "      }\n",
       "    }\n",
       "\n",
       "    function on_error() {\n",
       "      console.error(\"failed to load \" + url);\n",
       "    }\n",
       "\n",
       "    for (var i = 0; i < css_urls.length; i++) {\n",
       "      var url = css_urls[i];\n",
       "      const element = document.createElement(\"link\");\n",
       "      element.onload = on_load;\n",
       "      element.onerror = on_error;\n",
       "      element.rel = \"stylesheet\";\n",
       "      element.type = \"text/css\";\n",
       "      element.href = url;\n",
       "      console.debug(\"Bokeh: injecting link tag for BokehJS stylesheet: \", url);\n",
       "      document.body.appendChild(element);\n",
       "    }\n",
       "\n",
       "    const hashes = {\"https://cdn.bokeh.org/bokeh/release/bokeh-2.2.3.min.js\": \"T2yuo9Oe71Cz/I4X9Ac5+gpEa5a8PpJCDlqKYO0CfAuEszu1JrXLl8YugMqYe3sM\", \"https://cdn.bokeh.org/bokeh/release/bokeh-widgets-2.2.3.min.js\": \"98GDGJ0kOMCUMUePhksaQ/GYgB3+NH9h996V88sh3aOiUNX3N+fLXAtry6xctSZ6\", \"https://cdn.bokeh.org/bokeh/release/bokeh-tables-2.2.3.min.js\": \"89bArO+nlbP3sgakeHjCo1JYxYR5wufVgA3IbUvDY+K7w4zyxJqssu7wVnfeKCq8\"};\n",
       "\n",
       "    for (var i = 0; i < js_urls.length; i++) {\n",
       "      var url = js_urls[i];\n",
       "      var element = document.createElement('script');\n",
       "      element.onload = on_load;\n",
       "      element.onerror = on_error;\n",
       "      element.async = false;\n",
       "      element.src = url;\n",
       "      if (url in hashes) {\n",
       "        element.crossOrigin = \"anonymous\";\n",
       "        element.integrity = \"sha384-\" + hashes[url];\n",
       "      }\n",
       "      console.debug(\"Bokeh: injecting script tag for BokehJS library: \", url);\n",
       "      document.head.appendChild(element);\n",
       "    }\n",
       "  };\n",
       "\n",
       "  function inject_raw_css(css) {\n",
       "    const element = document.createElement(\"style\");\n",
       "    element.appendChild(document.createTextNode(css));\n",
       "    document.body.appendChild(element);\n",
       "  }\n",
       "\n",
       "  \n",
       "  var js_urls = [\"https://cdn.bokeh.org/bokeh/release/bokeh-2.2.3.min.js\", \"https://cdn.bokeh.org/bokeh/release/bokeh-widgets-2.2.3.min.js\", \"https://cdn.bokeh.org/bokeh/release/bokeh-tables-2.2.3.min.js\"];\n",
       "  var css_urls = [];\n",
       "  \n",
       "\n",
       "  var inline_js = [\n",
       "    function(Bokeh) {\n",
       "      Bokeh.set_log_level(\"info\");\n",
       "    },\n",
       "    function(Bokeh) {\n",
       "    \n",
       "    \n",
       "    }\n",
       "  ];\n",
       "\n",
       "  function run_inline_js() {\n",
       "    \n",
       "    if (root.Bokeh !== undefined || force === true) {\n",
       "      \n",
       "    for (var i = 0; i < inline_js.length; i++) {\n",
       "      inline_js[i].call(root, root.Bokeh);\n",
       "    }\n",
       "    if (force === true) {\n",
       "        display_loaded();\n",
       "      }} else if (Date.now() < root._bokeh_timeout) {\n",
       "      setTimeout(run_inline_js, 100);\n",
       "    } else if (!root._bokeh_failed_load) {\n",
       "      console.log(\"Bokeh: BokehJS failed to load within specified timeout.\");\n",
       "      root._bokeh_failed_load = true;\n",
       "    } else if (force !== true) {\n",
       "      var cell = $(document.getElementById(\"21372\")).parents('.cell').data().cell;\n",
       "      cell.output_area.append_execute_result(NB_LOAD_WARNING)\n",
       "    }\n",
       "\n",
       "  }\n",
       "\n",
       "  if (root._bokeh_is_loading === 0) {\n",
       "    console.debug(\"Bokeh: BokehJS loaded, going straight to plotting\");\n",
       "    run_inline_js();\n",
       "  } else {\n",
       "    load_libs(css_urls, js_urls, function() {\n",
       "      console.debug(\"Bokeh: BokehJS plotting callback run at\", now());\n",
       "      run_inline_js();\n",
       "    });\n",
       "  }\n",
       "}(window));"
      ],
      "application/vnd.bokehjs_load.v0+json": "\n(function(root) {\n  function now() {\n    return new Date();\n  }\n\n  var force = true;\n\n  if (typeof root._bokeh_onload_callbacks === \"undefined\" || force === true) {\n    root._bokeh_onload_callbacks = [];\n    root._bokeh_is_loading = undefined;\n  }\n\n  \n\n  \n  if (typeof (root._bokeh_timeout) === \"undefined\" || force === true) {\n    root._bokeh_timeout = Date.now() + 5000;\n    root._bokeh_failed_load = false;\n  }\n\n  var NB_LOAD_WARNING = {'data': {'text/html':\n     \"<div style='background-color: #fdd'>\\n\"+\n     \"<p>\\n\"+\n     \"BokehJS does not appear to have successfully loaded. If loading BokehJS from CDN, this \\n\"+\n     \"may be due to a slow or bad network connection. Possible fixes:\\n\"+\n     \"</p>\\n\"+\n     \"<ul>\\n\"+\n     \"<li>re-rerun `output_notebook()` to attempt to load from CDN again, or</li>\\n\"+\n     \"<li>use INLINE resources instead, as so:</li>\\n\"+\n     \"</ul>\\n\"+\n     \"<code>\\n\"+\n     \"from bokeh.resources import INLINE\\n\"+\n     \"output_notebook(resources=INLINE)\\n\"+\n     \"</code>\\n\"+\n     \"</div>\"}};\n\n  function display_loaded() {\n    var el = document.getElementById(\"21372\");\n    if (el != null) {\n      el.textContent = \"BokehJS is loading...\";\n    }\n    if (root.Bokeh !== undefined) {\n      if (el != null) {\n        el.textContent = \"BokehJS \" + root.Bokeh.version + \" successfully loaded.\";\n      }\n    } else if (Date.now() < root._bokeh_timeout) {\n      setTimeout(display_loaded, 100)\n    }\n  }\n\n\n  function run_callbacks() {\n    try {\n      root._bokeh_onload_callbacks.forEach(function(callback) {\n        if (callback != null)\n          callback();\n      });\n    } finally {\n      delete root._bokeh_onload_callbacks\n    }\n    console.debug(\"Bokeh: all callbacks have finished\");\n  }\n\n  function load_libs(css_urls, js_urls, callback) {\n    if (css_urls == null) css_urls = [];\n    if (js_urls == null) js_urls = [];\n\n    root._bokeh_onload_callbacks.push(callback);\n    if (root._bokeh_is_loading > 0) {\n      console.debug(\"Bokeh: BokehJS is being loaded, scheduling callback at\", now());\n      return null;\n    }\n    if (js_urls == null || js_urls.length === 0) {\n      run_callbacks();\n      return null;\n    }\n    console.debug(\"Bokeh: BokehJS not loaded, scheduling load and callback at\", now());\n    root._bokeh_is_loading = css_urls.length + js_urls.length;\n\n    function on_load() {\n      root._bokeh_is_loading--;\n      if (root._bokeh_is_loading === 0) {\n        console.debug(\"Bokeh: all BokehJS libraries/stylesheets loaded\");\n        run_callbacks()\n      }\n    }\n\n    function on_error() {\n      console.error(\"failed to load \" + url);\n    }\n\n    for (var i = 0; i < css_urls.length; i++) {\n      var url = css_urls[i];\n      const element = document.createElement(\"link\");\n      element.onload = on_load;\n      element.onerror = on_error;\n      element.rel = \"stylesheet\";\n      element.type = \"text/css\";\n      element.href = url;\n      console.debug(\"Bokeh: injecting link tag for BokehJS stylesheet: \", url);\n      document.body.appendChild(element);\n    }\n\n    const hashes = {\"https://cdn.bokeh.org/bokeh/release/bokeh-2.2.3.min.js\": \"T2yuo9Oe71Cz/I4X9Ac5+gpEa5a8PpJCDlqKYO0CfAuEszu1JrXLl8YugMqYe3sM\", \"https://cdn.bokeh.org/bokeh/release/bokeh-widgets-2.2.3.min.js\": \"98GDGJ0kOMCUMUePhksaQ/GYgB3+NH9h996V88sh3aOiUNX3N+fLXAtry6xctSZ6\", \"https://cdn.bokeh.org/bokeh/release/bokeh-tables-2.2.3.min.js\": \"89bArO+nlbP3sgakeHjCo1JYxYR5wufVgA3IbUvDY+K7w4zyxJqssu7wVnfeKCq8\"};\n\n    for (var i = 0; i < js_urls.length; i++) {\n      var url = js_urls[i];\n      var element = document.createElement('script');\n      element.onload = on_load;\n      element.onerror = on_error;\n      element.async = false;\n      element.src = url;\n      if (url in hashes) {\n        element.crossOrigin = \"anonymous\";\n        element.integrity = \"sha384-\" + hashes[url];\n      }\n      console.debug(\"Bokeh: injecting script tag for BokehJS library: \", url);\n      document.head.appendChild(element);\n    }\n  };\n\n  function inject_raw_css(css) {\n    const element = document.createElement(\"style\");\n    element.appendChild(document.createTextNode(css));\n    document.body.appendChild(element);\n  }\n\n  \n  var js_urls = [\"https://cdn.bokeh.org/bokeh/release/bokeh-2.2.3.min.js\", \"https://cdn.bokeh.org/bokeh/release/bokeh-widgets-2.2.3.min.js\", \"https://cdn.bokeh.org/bokeh/release/bokeh-tables-2.2.3.min.js\"];\n  var css_urls = [];\n  \n\n  var inline_js = [\n    function(Bokeh) {\n      Bokeh.set_log_level(\"info\");\n    },\n    function(Bokeh) {\n    \n    \n    }\n  ];\n\n  function run_inline_js() {\n    \n    if (root.Bokeh !== undefined || force === true) {\n      \n    for (var i = 0; i < inline_js.length; i++) {\n      inline_js[i].call(root, root.Bokeh);\n    }\n    if (force === true) {\n        display_loaded();\n      }} else if (Date.now() < root._bokeh_timeout) {\n      setTimeout(run_inline_js, 100);\n    } else if (!root._bokeh_failed_load) {\n      console.log(\"Bokeh: BokehJS failed to load within specified timeout.\");\n      root._bokeh_failed_load = true;\n    } else if (force !== true) {\n      var cell = $(document.getElementById(\"21372\")).parents('.cell').data().cell;\n      cell.output_area.append_execute_result(NB_LOAD_WARNING)\n    }\n\n  }\n\n  if (root._bokeh_is_loading === 0) {\n    console.debug(\"Bokeh: BokehJS loaded, going straight to plotting\");\n    run_inline_js();\n  } else {\n    load_libs(css_urls, js_urls, function() {\n      console.debug(\"Bokeh: BokehJS plotting callback run at\", now());\n      run_inline_js();\n    });\n  }\n}(window));"
     },
     "metadata": {},
     "output_type": "display_data"
    },
    {
     "data": {
      "text/html": [
       "\n",
       "\n",
       "\n",
       "\n",
       "\n",
       "\n",
       "  <div class=\"bk-root\" id=\"0730b1ad-6a60-4630-8c47-bb37d816ac13\" data-root-id=\"21374\"></div>\n"
      ]
     },
     "metadata": {},
     "output_type": "display_data"
    },
    {
     "data": {
      "application/javascript": [
       "(function(root) {\n",
       "  function embed_document(root) {\n",
       "    \n",
       "  var docs_json = {\"8e4e016b-3890-43af-8a40-d3de4875027f\":{\"roots\":{\"references\":[{\"attributes\":{\"below\":[{\"id\":\"21385\"}],\"center\":[{\"id\":\"21388\"},{\"id\":\"21392\"}],\"left\":[{\"id\":\"21389\"}],\"plot_height\":300,\"renderers\":[{\"id\":\"21413\"}],\"title\":{\"id\":\"21375\"},\"toolbar\":{\"id\":\"21401\"},\"x_range\":{\"id\":\"21377\"},\"x_scale\":{\"id\":\"21381\"},\"y_range\":{\"id\":\"21379\"},\"y_scale\":{\"id\":\"21383\"}},\"id\":\"21374\",\"subtype\":\"Figure\",\"type\":\"Plot\"},{\"attributes\":{},\"id\":\"21397\",\"type\":\"ResetTool\"},{\"attributes\":{},\"id\":\"21386\",\"type\":\"BasicTicker\"},{\"attributes\":{},\"id\":\"21394\",\"type\":\"WheelZoomTool\"},{\"attributes\":{},\"id\":\"21379\",\"type\":\"DataRange1d\"},{\"attributes\":{},\"id\":\"21381\",\"type\":\"LinearScale\"},{\"attributes\":{},\"id\":\"21434\",\"type\":\"BasicTickFormatter\"},{\"attributes\":{\"text\":\"30 workers, efficiency = 80.3%, median task time = 0.19s, median intertask time = 0.00s\"},\"id\":\"21375\",\"type\":\"Title\"},{\"attributes\":{},\"id\":\"21393\",\"type\":\"PanTool\"},{\"attributes\":{\"axis\":{\"id\":\"21385\"},\"ticker\":null},\"id\":\"21388\",\"type\":\"Grid\"},{\"attributes\":{},\"id\":\"21398\",\"type\":\"HelpTool\"},{\"attributes\":{},\"id\":\"21436\",\"type\":\"Selection\"},{\"attributes\":{\"bottom_units\":\"screen\",\"fill_alpha\":0.5,\"fill_color\":\"lightgrey\",\"left_units\":\"screen\",\"level\":\"overlay\",\"line_alpha\":1.0,\"line_color\":\"black\",\"line_dash\":[4,4],\"line_width\":2,\"right_units\":\"screen\",\"top_units\":\"screen\"},\"id\":\"21399\",\"type\":\"BoxAnnotation\"},{\"attributes\":{},\"id\":\"21383\",\"type\":\"LinearScale\"},{\"attributes\":{},\"id\":\"21390\",\"type\":\"BasicTicker\"},{\"attributes\":{\"data_source\":{\"id\":\"21409\"},\"glyph\":{\"id\":\"21411\"},\"hover_glyph\":null,\"muted_glyph\":null,\"nonselection_glyph\":{\"id\":\"21412\"},\"selection_glyph\":null,\"view\":{\"id\":\"21414\"}},\"id\":\"21413\",\"type\":\"GlyphRenderer\"},{\"attributes\":{\"axis_label\":\"worker\",\"formatter\":{\"id\":\"21432\"},\"ticker\":{\"id\":\"21390\"}},\"id\":\"21389\",\"type\":\"LinearAxis\"},{\"attributes\":{},\"id\":\"21377\",\"type\":\"DataRange1d\"},{\"attributes\":{\"active_drag\":\"auto\",\"active_inspect\":\"auto\",\"active_multi\":null,\"active_scroll\":\"auto\",\"active_tap\":\"auto\",\"tools\":[{\"id\":\"21393\"},{\"id\":\"21394\"},{\"id\":\"21395\"},{\"id\":\"21396\"},{\"id\":\"21397\"},{\"id\":\"21398\"},{\"id\":\"21400\"}]},\"id\":\"21401\",\"type\":\"Toolbar\"},{\"attributes\":{\"axis\":{\"id\":\"21389\"},\"dimension\":1,\"ticker\":null},\"id\":\"21392\",\"type\":\"Grid\"},{\"attributes\":{\"axis_label\":\"elapsed time since start (s)\",\"formatter\":{\"id\":\"21434\"},\"ticker\":{\"id\":\"21386\"}},\"id\":\"21385\",\"type\":\"LinearAxis\"},{\"attributes\":{},\"id\":\"21396\",\"type\":\"SaveTool\"},{\"attributes\":{\"fill_alpha\":{\"value\":0.1},\"fill_color\":{\"value\":\"#1f77b4\"},\"height\":{\"value\":1.0},\"left\":{\"field\":\"tstart\"},\"line_alpha\":{\"value\":0.1},\"right\":{\"field\":\"tstop\"},\"y\":{\"field\":\"worker\"}},\"id\":\"21412\",\"type\":\"HBar\"},{\"attributes\":{},\"id\":\"21432\",\"type\":\"BasicTickFormatter\"},{\"attributes\":{\"data\":{\"duration\":{\"__ndarray__\":\"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\",\"dtype\":\"float64\",\"order\":\"little\",\"shape\":[457]},\"index\":[0,1,2,3,4,5,6,7,8,9,10,11,12,13,14,15,16,17,18,19,20,21,22,23,24,25,26,27,28,29,30,31,32,33,34,35,36,37,38,39,40,41,42,43,44,45,46,47,48,49,50,51,52,53,54,55,56,57,58,59,60,61,62,63,64,65,66,67,68,69,70,71,72,73,74,75,76,77,78,79,80,81,82,83,84,85,86,87,88,89,90,91,92,93,94,95,96,97,98,99,100,101,102,103,104,105,106,107,108,109,110,111,112,113,114,115,116,117,118,119,120,121,122,123,124,125,126,127,128,129,130,131,132,133,134,135,136,137,138,139,140,141,142,143,144,145,146,147,148,149,150,151,152,153,154,155,156,157,158,159,160,161,162,163,164,165,166,167,168,169,170,171,172,173,174,175,176,177,178,179,180,181,182,183,184,185,186,187,188,189,190,191,192,193,194,195,196,197,198,199,200,201,202,203,204,205,206,207,208,209,210,211,212,213,214,215,216,217,218,219,220,221,222,223,224,225,226,227,228,229,230,231,232,233,234,235,236,237,238,239,240,241,242,243,244,245,246,247,248,249,250,251,252,253,254,255,256,257,258,259,260,261,262,263,264,265,266,267,268,269,270,271,272,273,274,275,276,277,278,279,280,281,282,283,284,285,286,287,288,289,290,291,292,293,294,295,296,297,298,299,300,301,302,303,304,305,306,307,308,309,310,311,312,313,314,315,316,317,318,319,320,321,322,323,324,325,326,327,328,329,330,331,332,333,334,335,336,337,338,339,340,341,342,343,344,345,346,347,348,349,350,351,352,353,354,355,356,357,358,359,360,361,362,363,364,365,366,367,368,369,370,371,372,373,374,375,376,377,378,379,380,381,382,383,384,385,386,387,388,389,390,391,392,393,394,395,396,397,398,399,400,401,402,403,404,405,406,407,408,409,410,411,412,413,414,415,416,417,418,419,420,421,422,423,424,425,426,427,428,429,430,431,432,433,434,435,436,437,438,439,440,441,442,443,444,445,446,447,448,449,450,451,452,453,454,455,456],\"tstart\":{\"__ndarray__\":\"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\",\"dtype\":\"float64\",\"order\":\"little\",\"shape\":[457]},\"tstop\":{\"__ndarray__\":\"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\",\"dtype\":\"float64\",\"order\":\"little\",\"shape\":[457]},\"worker\":{\"__ndarray__\":\"DwUbAREUDgcFFRsUHRcMAhMcDQQaCQsaDhQPGxADBQgaAAcdGRYcFwUYEhUBERMDCRUNAQQRFAwOGwISHQgPFRYaBRwUFwYLGwAQExEEAwENGAIIFRsZDgwWBBIKGhwRCQEdCAwQBQATGxcPGhUMAg0KBhEWDAcUEg4UGAsBGxEcFwkAEAMTDwQIHRYDGQkNGhUMChYUERsXBxgSHBYFAxcIBhoLBBAdEw0bDgcIFRgbFgwGAhEJHAUKFwsRAAcQGRQaCAMYDRMOFQ8KHRsEEhUWFwkIBg0MHQQSBwocGBYQCx0XDA8VDggRAhsNExsJGRoEBxgFFBwVFwkKEhAIAxwWAhUAAQwdDQYUERsOBxoYFRMUBAsXAAkTEAwEBhkIFRcFHA4aEBEdFAsSBxYJERcPEwQZGwcYFwgQFRwOARoPBwMRDRQdGAgVGRQLCRkYAgILARgNChsMHAQKFhEFDRwJAxsdEAoWGhkTAhIQARoAFxMHDwgCEQsEBQ0ZDhUcAgEbEAkSCBQcBB0MFwsBGhkFHBMJBAcCCBUKAx0WDBEcFxsZEhAaDggJAgAJCxMMFg8ZGhAXARsVDgIcAx0IFxUAHRwIFBUUFw==\",\"dtype\":\"int8\",\"order\":\"little\",\"shape\":[457]}},\"selected\":{\"id\":\"21436\"},\"selection_policy\":{\"id\":\"21437\"}},\"id\":\"21409\",\"type\":\"ColumnDataSource\"},{\"attributes\":{\"source\":{\"id\":\"21409\"}},\"id\":\"21414\",\"type\":\"CDSView\"},{\"attributes\":{\"overlay\":{\"id\":\"21399\"}},\"id\":\"21395\",\"type\":\"BoxZoomTool\"},{\"attributes\":{\"callback\":null,\"tooltips\":[[\"worker\",\"@worker\"],[\"start\",\"@{tstart}s\"],[\"stop\",\"@{tstop}s\"],[\"duration\",\"@{duration}s\"]]},\"id\":\"21400\",\"type\":\"HoverTool\"},{\"attributes\":{},\"id\":\"21437\",\"type\":\"UnionRenderers\"},{\"attributes\":{\"fill_color\":{\"value\":\"#1f77b4\"},\"height\":{\"value\":1.0},\"left\":{\"field\":\"tstart\"},\"right\":{\"field\":\"tstop\"},\"y\":{\"field\":\"worker\"}},\"id\":\"21411\",\"type\":\"HBar\"}],\"root_ids\":[\"21374\"]},\"title\":\"Bokeh Application\",\"version\":\"2.2.3\"}};\n",
       "  var render_items = [{\"docid\":\"8e4e016b-3890-43af-8a40-d3de4875027f\",\"root_ids\":[\"21374\"],\"roots\":{\"21374\":\"0730b1ad-6a60-4630-8c47-bb37d816ac13\"}}];\n",
       "  root.Bokeh.embed.embed_items_notebook(docs_json, render_items);\n",
       "\n",
       "  }\n",
       "  if (root.Bokeh !== undefined) {\n",
       "    embed_document(root);\n",
       "  } else {\n",
       "    var attempts = 0;\n",
       "    var timer = setInterval(function(root) {\n",
       "      if (root.Bokeh !== undefined) {\n",
       "        clearInterval(timer);\n",
       "        embed_document(root);\n",
       "      } else {\n",
       "        attempts++;\n",
       "        if (attempts > 100) {\n",
       "          clearInterval(timer);\n",
       "          console.log(\"Bokeh: ERROR: Unable to run BokehJS code because BokehJS library is missing\");\n",
       "        }\n",
       "      }\n",
       "    }, 10, root)\n",
       "  }\n",
       "})(window);"
      ],
      "application/vnd.bokehjs_exec.v0+json": ""
     },
     "metadata": {
      "application/vnd.bokehjs_exec.v0+json": {
       "id": "21374"
      }
     },
     "output_type": "display_data"
    }
   ],
   "source": [
    "plot_timeflow(results)"
   ]
  },
  {
   "cell_type": "code",
   "execution_count": 169,
   "metadata": {
    "ExecuteTime": {
     "end_time": "2020-11-29T02:40:28.637985Z",
     "start_time": "2020-11-29T02:40:28.630488Z"
    }
   },
   "outputs": [
    {
     "data": {
      "text/plain": [
       "[12,\n",
       " 12,\n",
       " 12,\n",
       " 14,\n",
       " 10,\n",
       " 10,\n",
       " 3,\n",
       " 15,\n",
       " 16,\n",
       " 18,\n",
       " 15,\n",
       " 12,\n",
       " 13,\n",
       " 13,\n",
       " 13,\n",
       " 15,\n",
       " 16,\n",
       " 15,\n",
       " 16,\n",
       " 16,\n",
       " 18,\n",
       " 22,\n",
       " 21,\n",
       " 20,\n",
       " 15,\n",
       " 23,\n",
       " 14,\n",
       " 14,\n",
       " 22,\n",
       " 19]"
      ]
     },
     "execution_count": 169,
     "metadata": {},
     "output_type": "execute_result"
    }
   ],
   "source": [
    "[v[\"metrics\"][\"numtreescached\"] for v in client._scheduler_identity[\"workers\"].values()]"
   ]
  },
  {
   "cell_type": "code",
   "execution_count": null,
   "metadata": {},
   "outputs": [],
   "source": []
  }
 ],
 "metadata": {
  "kernelspec": {
   "display_name": "Python 3",
   "language": "python",
   "name": "python3"
  },
  "language_info": {
   "codemirror_mode": {
    "name": "ipython",
    "version": 3
   },
   "file_extension": ".py",
   "mimetype": "text/x-python",
   "name": "python",
   "nbconvert_exporter": "python",
   "pygments_lexer": "ipython3",
   "version": "3.7.8"
  }
 },
 "nbformat": 4,
 "nbformat_minor": 2
}
