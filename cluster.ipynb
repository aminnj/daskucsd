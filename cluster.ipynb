{
 "cells": [
  {
   "cell_type": "code",
   "execution_count": 1,
   "metadata": {
    "ExecuteTime": {
     "end_time": "2020-11-28T07:52:03.635052Z",
     "start_time": "2020-11-28T07:52:02.201694Z"
    }
   },
   "outputs": [],
   "source": [
    "%matplotlib inline\n",
    "import pandas as pd\n",
    "import uproot\n",
    "import matplotlib.pyplot as plt\n",
    "import numpy as np\n",
    "import glob\n",
    "\n",
    "from dask.distributed import Client, LocalCluster\n",
    "from yahist import Hist1D, Hist2D\n",
    "\n",
    "from condor_utils import make_htcondor_cluster"
   ]
  },
  {
   "cell_type": "code",
   "execution_count": 11,
   "metadata": {
    "ExecuteTime": {
     "end_time": "2020-11-28T07:55:25.503395Z",
     "start_time": "2020-11-28T07:55:25.480045Z"
    }
   },
   "outputs": [],
   "source": [
    "from utils import get_results"
   ]
  },
  {
   "cell_type": "code",
   "execution_count": 2,
   "metadata": {
    "ExecuteTime": {
     "end_time": "2020-11-28T07:52:04.236797Z",
     "start_time": "2020-11-28T07:52:03.640989Z"
    }
   },
   "outputs": [
    {
     "data": {
      "application/vnd.jupyter.widget-view+json": {
       "model_id": "fa0ebe27d7d547bea7e7adf47eede568",
       "version_major": 2,
       "version_minor": 0
      },
      "text/plain": [
       "VBox(children=(HTML(value='<h2>UCSDHTCondorCluster</h2>'), HBox(children=(HTML(value='\\n<div>\\n  <style scoped…"
      ]
     },
     "metadata": {},
     "output_type": "display_data"
    }
   ],
   "source": [
    "cluster = make_htcondor_cluster(dashboard_address=12347)\n",
    "cluster.scale(16)\n",
    "cluster"
   ]
  },
  {
   "cell_type": "code",
   "execution_count": 36,
   "metadata": {
    "ExecuteTime": {
     "end_time": "2020-11-28T08:06:03.973510Z",
     "start_time": "2020-11-28T08:06:03.950297Z"
    }
   },
   "outputs": [
    {
     "data": {
      "text/html": [
       "<table style=\"border: 2px solid white;\">\n",
       "<tr>\n",
       "<td style=\"vertical-align: top; border: 0px solid white\">\n",
       "<h3 style=\"text-align: left;\">Client</h3>\n",
       "<ul style=\"text-align: left; list-style: none; margin: 0; padding: 0;\">\n",
       "  <li><b>Scheduler: </b>tcp://169.228.130.74:29130</li>\n",
       "  <li><b>Dashboard: </b><a href='http://169.228.130.74:12347/status' target='_blank'>http://169.228.130.74:12347/status</a></li>\n",
       "</ul>\n",
       "</td>\n",
       "<td style=\"vertical-align: top; border: 0px solid white\">\n",
       "<h3 style=\"text-align: left;\">Cluster</h3>\n",
       "<ul style=\"text-align: left; list-style:none; margin: 0; padding: 0;\">\n",
       "  <li><b>Workers: </b>4</li>\n",
       "  <li><b>Cores: </b>4</li>\n",
       "  <li><b>Memory: </b>16.00 GB</li>\n",
       "</ul>\n",
       "</td>\n",
       "</tr>\n",
       "</table>"
      ],
      "text/plain": [
       "<Client: 'tcp://169.228.130.74:29130' processes=4 threads=4, memory=16.00 GB>"
      ]
     },
     "execution_count": 36,
     "metadata": {},
     "output_type": "execute_result"
    }
   ],
   "source": [
    "client = Client(cluster)\n",
    "client"
   ]
  },
  {
   "cell_type": "code",
   "execution_count": 37,
   "metadata": {
    "ExecuteTime": {
     "end_time": "2020-11-28T08:06:09.320149Z",
     "start_time": "2020-11-28T08:06:09.263179Z"
    }
   },
   "outputs": [
    {
     "name": "stdout",
     "output_type": "stream",
     "text": [
      "35\n"
     ]
    }
   ],
   "source": [
    "fnames = glob.glob(\"/hadoop/cms/store/user/legianni/ProjectMetis/DoubleEG_Run2017C____x3//*.root\")\n",
    "print(len(fnames))"
   ]
  },
  {
   "cell_type": "code",
   "execution_count": 38,
   "metadata": {
    "ExecuteTime": {
     "end_time": "2020-11-28T08:06:11.401063Z",
     "start_time": "2020-11-28T08:06:11.392167Z"
    }
   },
   "outputs": [],
   "source": [
    "# Takes in a dataframe-like object based on a chunk of a file\n",
    "# must return a dictionary of things that can be added with `+`\n",
    "def process(df):\n",
    "    out = dict()\n",
    "    out[\"mycounter\"] = len(df)\n",
    "    out[\"hmet\"] = Hist1D(df[\"MET_pt\"], bins=\"100,0,1000\")\n",
    "    return out"
   ]
  },
  {
   "cell_type": "code",
   "execution_count": 39,
   "metadata": {
    "ExecuteTime": {
     "end_time": "2020-11-28T08:06:18.963697Z",
     "start_time": "2020-11-28T08:06:13.823789Z"
    }
   },
   "outputs": [
    {
     "name": "stdout",
     "output_type": "stream",
     "text": [
      "Making chunks for workers\n"
     ]
    },
    {
     "data": {
      "application/vnd.jupyter.widget-view+json": {
       "model_id": "435d9ad6de654a919bbcf5ece2e9d4f2",
       "version_major": 2,
       "version_minor": 0
      },
      "text/plain": [
       "HBox(children=(HTML(value=''), FloatProgress(value=0.0, max=5.0), HTML(value='')))"
      ]
     },
     "metadata": {},
     "output_type": "display_data"
    },
    {
     "name": "stdout",
     "output_type": "stream",
     "text": [
      "\n",
      "Processing 65 chunks\n"
     ]
    },
    {
     "data": {
      "application/vnd.jupyter.widget-view+json": {
       "model_id": "10435941a88541f59fcde8596603061e",
       "version_major": 2,
       "version_minor": 0
      },
      "text/plain": [
       "HBox(children=(HTML(value=''), FloatProgress(value=0.0, max=6281235.0), HTML(value='')))"
      ]
     },
     "metadata": {},
     "output_type": "display_data"
    },
    {
     "name": "stdout",
     "output_type": "stream",
     "text": [
      "\n",
      "Processed 6.2812e+06 input events in 4.7s (1340.55kHz)\n"
     ]
    }
   ],
   "source": [
    "results = get_results(process, fnames[:5], use_tree_cache=True)"
   ]
  },
  {
   "cell_type": "code",
   "execution_count": 40,
   "metadata": {
    "ExecuteTime": {
     "end_time": "2020-11-28T08:06:20.850169Z",
     "start_time": "2020-11-28T08:06:19.807364Z"
    }
   },
   "outputs": [
    {
     "name": "stdout",
     "output_type": "stream",
     "text": [
      "Making chunks for workers\n",
      "Processing 65 chunks\n"
     ]
    },
    {
     "data": {
      "application/vnd.jupyter.widget-view+json": {
       "model_id": "644084e1d9b84991a20613c46265e9fb",
       "version_major": 2,
       "version_minor": 0
      },
      "text/plain": [
       "HBox(children=(HTML(value=''), FloatProgress(value=0.0, max=6281235.0), HTML(value='')))"
      ]
     },
     "metadata": {},
     "output_type": "display_data"
    },
    {
     "name": "stdout",
     "output_type": "stream",
     "text": [
      "\n",
      "Processed 6.2812e+06 input events in 1.0s (6300.81kHz)\n"
     ]
    }
   ],
   "source": [
    "# use_tree_cache speeds things up the second time you run on the same files (if you're looping on <200 files)\n",
    "# so we run it again. In principle, `process` can be changed and we'll still see a speedup due to the\n",
    "# overhead of opening up a nanoaod ttree with uproot\n",
    "results = get_results(process, fnames[:5], use_tree_cache=True)"
   ]
  },
  {
   "cell_type": "code",
   "execution_count": 41,
   "metadata": {
    "ExecuteTime": {
     "end_time": "2020-11-28T08:06:24.485955Z",
     "start_time": "2020-11-28T08:06:23.430220Z"
    }
   },
   "outputs": [
    {
     "data": {
      "image/png": "[encoded data removed]",
      "text/plain": [
       "<Figure size 432x288 with 1 Axes>"
      ]
     },
     "metadata": {
      "image/png": {
       "height": 263,
       "width": 374
      },
      "needs_background": "light"
     },
     "output_type": "display_data"
    }
   ],
   "source": [
    "fig, ax = plt.subplots()\n",
    "\n",
    "results[\"hmet\"].plot(histtype=\"step\", label=\"ht\")\n",
    "\n",
    "ax.set_title(str(results[\"mycounter\"]))\n",
    "\n",
    "ax.set_yscale(\"log\")"
   ]
  },
  {
   "cell_type": "code",
   "execution_count": null,
   "metadata": {},
   "outputs": [],
   "source": []
  }
 ],
 "metadata": {
  "kernelspec": {
   "display_name": "Python 3",
   "language": "python",
   "name": "python3"
  },
  "language_info": {
   "codemirror_mode": {
    "name": "ipython",
    "version": 3
   },
   "file_extension": ".py",
   "mimetype": "text/x-python",
   "name": "python",
   "nbconvert_exporter": "python",
   "pygments_lexer": "ipython3",
   "version": "3.7.8"
  }
 },
 "nbformat": 4,
 "nbformat_minor": 2
}
