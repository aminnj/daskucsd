{
 "cells": [
  {
   "cell_type": "code",
   "execution_count": 1,
   "metadata": {
    "ExecuteTime": {
     "end_time": "2021-02-12T06:54:12.920237Z",
     "start_time": "2021-02-12T06:54:10.375644Z"
    }
   },
   "outputs": [],
   "source": [
    "%matplotlib inline\n",
    "import pandas as pd\n",
    "import uproot\n",
    "import matplotlib.pyplot as plt\n",
    "import numpy as np\n",
    "import glob\n",
    "\n",
    "from dask.distributed import Client, LocalCluster\n",
    "from yahist import Hist1D, Hist2D\n",
    "\n",
    "from condor_utils import make_htcondor_cluster\n",
    "import pdroot"
   ]
  },
  {
   "cell_type": "code",
   "execution_count": 2,
   "metadata": {
    "ExecuteTime": {
     "end_time": "2021-02-12T06:54:12.967464Z",
     "start_time": "2021-02-12T06:54:12.923881Z"
    }
   },
   "outputs": [],
   "source": [
    "from utils import get_results, clear_tree_cache, plot_timeflow"
   ]
  },
  {
   "cell_type": "code",
   "execution_count": 3,
   "metadata": {
    "ExecuteTime": {
     "end_time": "2021-02-12T06:54:13.823986Z",
     "start_time": "2021-02-12T06:54:12.974782Z"
    },
    "scrolled": true
   },
   "outputs": [
    {
     "name": "stderr",
     "output_type": "stream",
     "text": [
      "/home/users/namin/miniconda3/envs/newanalysisenv/lib/python3.7/site-packages/distributed/node.py:145: ResourceWarning: unclosed <socket.socket fd=51, family=AddressFamily.AF_INET, type=SocketKind.SOCK_STREAM, proto=6, laddr=('0.0.0.0', 0)>\n",
      "  raise\n",
      "/home/users/namin/miniconda3/envs/newanalysisenv/lib/python3.7/site-packages/distributed/node.py:155: UserWarning: Port 8787 is already in use.\n",
      "Perhaps you already have a cluster running?\n",
      "Hosting the HTTP server on port 17072 instead\n",
      "  http_address[\"port\"], self.http_server.port\n"
     ]
    },
    {
     "data": {
      "application/vnd.jupyter.widget-view+json": {
       "model_id": "c66af0cbda694b94afcfdb478a3da577",
       "version_major": 2,
       "version_minor": 0
      },
      "text/plain": [
       "VBox(children=(HTML(value='<h2>UCSDHTCondorCluster</h2>'), HBox(children=(HTML(value='\\n<div>\\n  <style scoped…"
      ]
     },
     "metadata": {},
     "output_type": "display_data"
    }
   ],
   "source": [
    "cluster = make_htcondor_cluster()\n",
    "cluster.scale(8)\n",
    "cluster"
   ]
  },
  {
   "cell_type": "code",
   "execution_count": 21,
   "metadata": {
    "ExecuteTime": {
     "end_time": "2021-02-12T07:03:55.354343Z",
     "start_time": "2021-02-12T07:03:55.326148Z"
    }
   },
   "outputs": [
    {
     "data": {
      "text/html": [
       "<table style=\"border: 2px solid white;\">\n",
       "<tr>\n",
       "<td style=\"vertical-align: top; border: 0px solid white\">\n",
       "<h3 style=\"text-align: left;\">Client</h3>\n",
       "<ul style=\"text-align: left; list-style: none; margin: 0; padding: 0;\">\n",
       "  <li><b>Scheduler: </b>tcp://169.228.130.74:29020</li>\n",
       "  <li><b>Dashboard: </b><a href='http://169.228.130.74:17072/status' target='_blank'>http://169.228.130.74:17072/status</a></li>\n",
       "</ul>\n",
       "</td>\n",
       "<td style=\"vertical-align: top; border: 0px solid white\">\n",
       "<h3 style=\"text-align: left;\">Cluster</h3>\n",
       "<ul style=\"text-align: left; list-style:none; margin: 0; padding: 0;\">\n",
       "  <li><b>Workers: </b>24</li>\n",
       "  <li><b>Cores: </b>24</li>\n",
       "  <li><b>Memory: </b>96.00 GB</li>\n",
       "</ul>\n",
       "</td>\n",
       "</tr>\n",
       "</table>"
      ],
      "text/plain": [
       "<Client: 'tcp://169.228.130.74:29020' processes=24 threads=24, memory=96.00 GB>"
      ]
     },
     "execution_count": 21,
     "metadata": {},
     "output_type": "execute_result"
    }
   ],
   "source": [
    "client = Client(cluster)\n",
    "client"
   ]
  },
  {
   "cell_type": "code",
   "execution_count": 22,
   "metadata": {
    "ExecuteTime": {
     "end_time": "2021-02-12T07:03:55.645324Z",
     "start_time": "2021-02-12T07:03:55.641832Z"
    }
   },
   "outputs": [],
   "source": [
    "# client.wait_for_workers(5)"
   ]
  },
  {
   "cell_type": "code",
   "execution_count": 23,
   "metadata": {
    "ExecuteTime": {
     "end_time": "2021-02-12T07:03:56.160520Z",
     "start_time": "2021-02-12T07:03:55.991752Z"
    }
   },
   "outputs": [
    {
     "name": "stdout",
     "output_type": "stream",
     "text": [
      "344\n"
     ]
    }
   ],
   "source": [
    "fnames = glob.glob(\"/hadoop/cms/store/user/legianni/ProjectMetis/DoubleEG_Run201*x3/*.root\")\n",
    "print(len(fnames))"
   ]
  },
  {
   "cell_type": "code",
   "execution_count": 24,
   "metadata": {
    "ExecuteTime": {
     "end_time": "2021-02-12T07:03:57.428479Z",
     "start_time": "2021-02-12T07:03:56.371962Z"
    }
   },
   "outputs": [
    {
     "data": {
      "text/html": [
       "\n",
       "        <div style=\"max-height:1000px;max-width:1500px;overflow:auto\">\n",
       "        <b>total count</b>: 266.0, <b>metadata</b>: {}<br>\n",
       "        <div style=\"display:flex;\">\n",
       "            <div style=\"display:inline;\">\n",
       "                \n",
       "                <table style='border:1px solid black;'\">\n",
       "                    <thead><tr><th>bin</th><th>content</th></tr></thead>\n",
       "                    <tr><td>(0,57.9981)</td><td>20 ± 4.47214</td></tr>\n",
       "<tr><td>(57.9981,115.996)</td><td>33 ± 5.74456</td></tr>\n",
       "<tr><td>(115.996,173.994)</td><td>56 ± 7.48331</td></tr>\n",
       "<tr><td>(173.994,231.992)</td><td>33 ± 5.74456</td></tr>\n",
       "<tr><td colspan='2'><center>[25 rows hidden]</center></td></tr>\n",
       "<tr><td>(1681.95,1739.94)</td><td>1 ± 1</td></tr>\n",
       "<tr><td>(1739.94,1797.94)</td><td>0 ± 0</td></tr>\n",
       "<tr><td>(1797.94,1855.94)</td><td>0 ± 0</td></tr>\n",
       "<tr><td>(1855.94,1913.94)</td><td>1 ± 1</td></tr>\n",
       "                </table>\n",
       "            \n",
       "            </div>\n",
       "            <div style=\"display:inline; margin: auto 2%;\">\n",
       "                <img src='data:image/svg+xml;base64,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'/>\n",
       "            </div>\n",
       "            </div>\n",
       "        </div>\n",
       "        "
      ],
      "text/plain": [
       "[20.00 ± 4.47   33.00 ± 5.74   56.00 ± 7.48   33.00 ± 5.74   45.00 ± 6.71\n",
       " 24.00 ± 4.90   17.00 ± 4.12    8.00 ± 2.83    4.00 ± 2.00    7.00 ± 2.65\n",
       "  3.00 ± 1.73    3.00 ± 1.73    4.00 ± 2.00    3.00 ± 1.73    0.00 ± 0.00\n",
       "  2.00 ± 1.41    0.00 ± 0.00    0.00 ± 0.00    1.00 ± 1.00    0.00 ± 0.00\n",
       "  0.00 ± 0.00    0.00 ± 0.00    0.00 ± 0.00    0.00 ± 0.00    0.00 ± 0.00\n",
       "  0.00 ± 0.00    0.00 ± 0.00    1.00 ± 1.00    0.00 ± 0.00    1.00 ± 1.00\n",
       "  0.00 ± 0.00    0.00 ± 0.00    1.00 ± 1.00]"
      ]
     },
     "execution_count": 24,
     "metadata": {},
     "output_type": "execute_result"
    }
   ],
   "source": [
    "# make a lazy dataframe that materializes as things are drawn/read\n",
    "\n",
    "# see https://github.com/aminnj/pdroot for drawing info and awkward operations\n",
    "df = pdroot.ChunkDataFrame(filename=fnames[0], entry_start=0, entry_stop=1000)\n",
    "df[\"ht\"] = df.draw(\"sum(Jet_pt[Jet_pt>40])\", to_array=True)\n",
    "_ = df[\"run\"]\n",
    "# see https://github.com/aminnj/yahist for histogram operations\n",
    "h = df.draw(\"ht\", \"MET_pt>40\")\n",
    "h"
   ]
  },
  {
   "cell_type": "code",
   "execution_count": 25,
   "metadata": {
    "ExecuteTime": {
     "end_time": "2021-02-12T07:03:57.441540Z",
     "start_time": "2021-02-12T07:03:57.430586Z"
    }
   },
   "outputs": [
    {
     "data": {
      "text/html": [
       "<div>\n",
       "<style scoped>\n",
       "    .dataframe tbody tr th:only-of-type {\n",
       "        vertical-align: middle;\n",
       "    }\n",
       "\n",
       "    .dataframe tbody tr th {\n",
       "        vertical-align: top;\n",
       "    }\n",
       "\n",
       "    .dataframe thead th {\n",
       "        text-align: right;\n",
       "    }\n",
       "</style>\n",
       "<table border=\"1\" class=\"dataframe\">\n",
       "  <thead>\n",
       "    <tr style=\"text-align: right;\">\n",
       "      <th></th>\n",
       "      <th>Jet_pt</th>\n",
       "      <th>ht</th>\n",
       "      <th>run</th>\n",
       "      <th>MET_pt</th>\n",
       "    </tr>\n",
       "  </thead>\n",
       "  <tbody>\n",
       "    <tr>\n",
       "      <th>0</th>\n",
       "      <td>[94.6875 83.8125]</td>\n",
       "      <td>178.50000</td>\n",
       "      <td>274315</td>\n",
       "      <td>33.934940</td>\n",
       "    </tr>\n",
       "    <tr>\n",
       "      <th>1</th>\n",
       "      <td>[83.0625   47.96875  31.234375]</td>\n",
       "      <td>131.03125</td>\n",
       "      <td>274315</td>\n",
       "      <td>29.907625</td>\n",
       "    </tr>\n",
       "    <tr>\n",
       "      <th>2</th>\n",
       "      <td>[41.5625   40.1875   26.515625 21.796875]</td>\n",
       "      <td>81.75000</td>\n",
       "      <td>274315</td>\n",
       "      <td>46.389805</td>\n",
       "    </tr>\n",
       "    <tr>\n",
       "      <th>3</th>\n",
       "      <td>[62.34375   62.1875    61.53125   36.84375   2...</td>\n",
       "      <td>186.06250</td>\n",
       "      <td>274315</td>\n",
       "      <td>30.639101</td>\n",
       "    </tr>\n",
       "    <tr>\n",
       "      <th>4</th>\n",
       "      <td>[211.75     172.25      24.171875  23.28125   ...</td>\n",
       "      <td>384.00000</td>\n",
       "      <td>274315</td>\n",
       "      <td>67.491241</td>\n",
       "    </tr>\n",
       "  </tbody>\n",
       "</table>\n",
       "</div>"
      ],
      "text/plain": [
       "                                              Jet_pt         ht     run  \\\n",
       "0                                  [94.6875 83.8125]  178.50000  274315   \n",
       "1                    [83.0625   47.96875  31.234375]  131.03125  274315   \n",
       "2          [41.5625   40.1875   26.515625 21.796875]   81.75000  274315   \n",
       "3  [62.34375   62.1875    61.53125   36.84375   2...  186.06250  274315   \n",
       "4  [211.75     172.25      24.171875  23.28125   ...  384.00000  274315   \n",
       "\n",
       "      MET_pt  \n",
       "0  33.934940  \n",
       "1  29.907625  \n",
       "2  46.389805  \n",
       "3  30.639101  \n",
       "4  67.491241  "
      ]
     },
     "execution_count": 25,
     "metadata": {},
     "output_type": "execute_result"
    }
   ],
   "source": [
    "# columns from above have materialized\n",
    "df.head()"
   ]
  },
  {
   "cell_type": "code",
   "execution_count": 26,
   "metadata": {
    "ExecuteTime": {
     "end_time": "2021-02-12T07:03:57.452072Z",
     "start_time": "2021-02-12T07:03:57.444885Z"
    }
   },
   "outputs": [],
   "source": [
    "# Now wrap all of this in a function that takes a dataframe\n",
    "# Must return a dictionary of things that can be added with `+`\n",
    "# which, among other things, includes numbers and yahist's Hist1D/Hist2D\n",
    "def process(df):\n",
    "    out = dict()\n",
    "    out[\"hmet\"] = Hist1D(df[\"MET_pt\"], bins=\"1000,0,1000\")\n",
    "    out[\"hnjets\"] = df.draw(\"length(Jet_pt)\", \"MET_pt>40\", bins=\"20,0,20\")\n",
    "    out[\"hlead_vs_sublead\"] = df.draw(\"Jet_pt[0]:Jet_pt[1]\", \"MET_pt>40\", bins=\"50,0,200\")\n",
    "    out[\"mycounter\"] = len(df)\n",
    "    return out"
   ]
  },
  {
   "cell_type": "code",
   "execution_count": 27,
   "metadata": {
    "ExecuteTime": {
     "end_time": "2021-02-12T07:04:07.097643Z",
     "start_time": "2021-02-12T07:03:57.657169Z"
    }
   },
   "outputs": [
    {
     "name": "stdout",
     "output_type": "stream",
     "text": [
      "Making chunks for workers\n",
      "Processing 45 chunks\n"
     ]
    },
    {
     "data": {
      "application/vnd.jupyter.widget-view+json": {
       "model_id": "18ef91346aeb43908e5950e610e3277d",
       "version_major": 2,
       "version_minor": 0
      },
      "text/plain": [
       "  0%|          | 0.00/19.6M [00:00<?, ?events/s]"
      ]
     },
     "metadata": {},
     "output_type": "display_data"
    },
    {
     "name": "stdout",
     "output_type": "stream",
     "text": [
      "Processed 1.9596e+07 input events in 9.1s (2149.46kHz)\n"
     ]
    }
   ],
   "source": [
    "results = get_results(process, fnames[:20], chunksize=500e3, skip_bad_files=True)"
   ]
  },
  {
   "cell_type": "code",
   "execution_count": 28,
   "metadata": {
    "ExecuteTime": {
     "end_time": "2021-02-12T07:04:08.534654Z",
     "start_time": "2021-02-12T07:04:07.100774Z"
    },
    "scrolled": true
   },
   "outputs": [
    {
     "data": {
      "image/png": "[encoded data removed]",
      "text/plain": [
       "<Figure size 432x288 with 1 Axes>"
      ]
     },
     "metadata": {
      "image/png": {
       "height": 263,
       "width": 374
      },
      "needs_background": "light"
     },
     "output_type": "display_data"
    }
   ],
   "source": [
    "fig, ax = plt.subplots()\n",
    "\n",
    "h = results[\"hmet\"]\n",
    "\n",
    "h.plot(histtype=\"step\")\n",
    "h.restrict(50, 150).fit(\"(a*1000)*np.exp(-b*x/1000)\")\n",
    "\n",
    "ax.set_title(str(results[\"mycounter\"]))\n",
    "ax.set_yscale(\"log\")"
   ]
  },
  {
   "cell_type": "code",
   "execution_count": null,
   "metadata": {},
   "outputs": [],
   "source": []
  }
 ],
 "metadata": {
  "kernelspec": {
   "display_name": "Python 3",
   "language": "python",
   "name": "python3"
  },
  "language_info": {
   "codemirror_mode": {
    "name": "ipython",
    "version": 3
   },
   "file_extension": ".py",
   "mimetype": "text/x-python",
   "name": "python",
   "nbconvert_exporter": "python",
   "pygments_lexer": "ipython3",
   "version": "3.7.9"
  }
 },
 "nbformat": 4,
 "nbformat_minor": 2
}
