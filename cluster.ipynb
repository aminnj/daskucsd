{
 "cells": [
  {
   "cell_type": "code",
   "execution_count": 1,
   "metadata": {
    "ExecuteTime": {
     "end_time": "2020-12-03T03:29:28.467392Z",
     "start_time": "2020-12-03T03:29:26.167069Z"
    }
   },
   "outputs": [],
   "source": [
    "%matplotlib inline\n",
    "import pandas as pd\n",
    "import uproot\n",
    "import matplotlib.pyplot as plt\n",
    "import numpy as np\n",
    "import glob\n",
    "\n",
    "from dask.distributed import Client, LocalCluster\n",
    "from yahist import Hist1D, Hist2D\n",
    "\n",
    "from condor_utils import make_htcondor_cluster"
   ]
  },
  {
   "cell_type": "code",
   "execution_count": 2,
   "metadata": {
    "ExecuteTime": {
     "end_time": "2020-12-03T03:29:28.637135Z",
     "start_time": "2020-12-03T03:29:28.470109Z"
    }
   },
   "outputs": [],
   "source": [
    "from utils import get_results, clear_tree_cache, plot_timeflow"
   ]
  },
  {
   "cell_type": "code",
   "execution_count": 3,
   "metadata": {
    "ExecuteTime": {
     "end_time": "2020-12-03T03:29:29.332216Z",
     "start_time": "2020-12-03T03:29:28.640112Z"
    },
    "scrolled": true
   },
   "outputs": [
    {
     "data": {
      "application/vnd.jupyter.widget-view+json": {
       "model_id": "2253cfa9b4984295bc3de5936a17dbe0",
       "version_major": 2,
       "version_minor": 0
      },
      "text/plain": [
       "VBox(children=(HTML(value='<h2>UCSDHTCondorCluster</h2>'), HBox(children=(HTML(value='\\n<div>\\n  <style scoped…"
      ]
     },
     "metadata": {},
     "output_type": "display_data"
    }
   ],
   "source": [
    "cluster = make_htcondor_cluster(dashboard_address=12347)\n",
    "cluster.scale(32)\n",
    "cluster"
   ]
  },
  {
   "cell_type": "code",
   "execution_count": 5,
   "metadata": {
    "ExecuteTime": {
     "end_time": "2020-12-03T03:29:42.904499Z",
     "start_time": "2020-12-03T03:29:42.852871Z"
    }
   },
   "outputs": [
    {
     "data": {
      "text/html": [
       "<table style=\"border: 2px solid white;\">\n",
       "<tr>\n",
       "<td style=\"vertical-align: top; border: 0px solid white\">\n",
       "<h3 style=\"text-align: left;\">Client</h3>\n",
       "<ul style=\"text-align: left; list-style: none; margin: 0; padding: 0;\">\n",
       "  <li><b>Scheduler: </b>tcp://169.228.130.74:14638</li>\n",
       "  <li><b>Dashboard: </b><a href='http://169.228.130.74:12347/status' target='_blank'>http://169.228.130.74:12347/status</a></li>\n",
       "</ul>\n",
       "</td>\n",
       "<td style=\"vertical-align: top; border: 0px solid white\">\n",
       "<h3 style=\"text-align: left;\">Cluster</h3>\n",
       "<ul style=\"text-align: left; list-style:none; margin: 0; padding: 0;\">\n",
       "  <li><b>Workers: </b>0</li>\n",
       "  <li><b>Cores: </b>0</li>\n",
       "  <li><b>Memory: </b>0 B</li>\n",
       "</ul>\n",
       "</td>\n",
       "</tr>\n",
       "</table>"
      ],
      "text/plain": [
       "<Client: 'tcp://169.228.130.74:14638' processes=0 threads=0, memory=0 B>"
      ]
     },
     "execution_count": 5,
     "metadata": {},
     "output_type": "execute_result"
    }
   ],
   "source": [
    "client = Client(cluster)\n",
    "client"
   ]
  },
  {
   "cell_type": "code",
   "execution_count": 6,
   "metadata": {
    "ExecuteTime": {
     "end_time": "2020-12-03T03:31:52.329124Z",
     "start_time": "2020-12-03T03:29:43.891457Z"
    }
   },
   "outputs": [],
   "source": [
    "client.wait_for_workers(24)"
   ]
  },
  {
   "cell_type": "code",
   "execution_count": 7,
   "metadata": {
    "ExecuteTime": {
     "end_time": "2020-12-03T03:31:52.514315Z",
     "start_time": "2020-12-03T03:31:52.332187Z"
    }
   },
   "outputs": [
    {
     "name": "stdout",
     "output_type": "stream",
     "text": [
      "256\n"
     ]
    }
   ],
   "source": [
    "fnames = glob.glob(\"/hadoop/cms/store/user/legianni/ProjectMetis/DoubleEG_Run201*x3/*.root\")\n",
    "print(len(fnames))"
   ]
  },
  {
   "cell_type": "code",
   "execution_count": 8,
   "metadata": {
    "ExecuteTime": {
     "end_time": "2020-12-03T03:31:52.520922Z",
     "start_time": "2020-12-03T03:31:52.518192Z"
    }
   },
   "outputs": [],
   "source": [
    "# thread = utils.monitor_and_kill_stuck_workers(threshold=90.0, dryrun=False)"
   ]
  },
  {
   "cell_type": "code",
   "execution_count": 9,
   "metadata": {
    "ExecuteTime": {
     "end_time": "2020-12-03T03:31:52.527495Z",
     "start_time": "2020-12-03T03:31:52.523818Z"
    }
   },
   "outputs": [],
   "source": [
    "# del thread\n",
    "# client.restart()"
   ]
  },
  {
   "cell_type": "code",
   "execution_count": 10,
   "metadata": {
    "ExecuteTime": {
     "end_time": "2020-12-03T03:31:52.539156Z",
     "start_time": "2020-12-03T03:31:52.530684Z"
    }
   },
   "outputs": [],
   "source": [
    "# Takes in a dataframe-like object based on a chunk of a file\n",
    "# must return a dictionary of things that can be added with `+`\n",
    "def process(df):\n",
    "    out = dict()\n",
    "    out[\"mycounter\"] = len(df)\n",
    "    out[\"hmet\"] = Hist1D(df[\"MET_pt\"], bins=\"1000,0,1000\", label=\"MET_pt\")\n",
    "#     if \"test_nanoaodSkim_34.root\" in df.filename:\n",
    "#         import time\n",
    "#         time.sleep(100)\n",
    "    return out"
   ]
  },
  {
   "cell_type": "code",
   "execution_count": 17,
   "metadata": {
    "ExecuteTime": {
     "end_time": "2020-12-03T03:43:17.676928Z",
     "start_time": "2020-12-03T03:41:31.228974Z"
    }
   },
   "outputs": [
    {
     "name": "stdout",
     "output_type": "stream",
     "text": [
      "Making chunks for workers\n",
      "Processing 715 chunks\n"
     ]
    },
    {
     "data": {
      "application/vnd.jupyter.widget-view+json": {
       "model_id": "5d6ada7981f44f5b8753e1f6d0482a23",
       "version_major": 2,
       "version_minor": 0
      },
      "text/plain": [
       "HBox(children=(HTML(value=''), FloatProgress(value=0.0, max=300252631.0), HTML(value='')))"
      ]
     },
     "metadata": {},
     "output_type": "display_data"
    },
    {
     "name": "stdout",
     "output_type": "stream",
     "text": [
      "\n",
      "Processed 3.0025e+08 input events in 106.1s (2830.36kHz)\n"
     ]
    }
   ],
   "source": [
    "# results = get_results(process, fnames, use_tree_cache=True, chunksize=500e3)\n",
    "results = get_results(process, fnames[:None], use_tree_cache=True, chunksize=500e3, skip_bad_files=True)"
   ]
  },
  {
   "cell_type": "code",
   "execution_count": 18,
   "metadata": {
    "ExecuteTime": {
     "end_time": "2020-12-03T03:47:08.767911Z",
     "start_time": "2020-12-03T03:46:02.214878Z"
    }
   },
   "outputs": [
    {
     "name": "stdout",
     "output_type": "stream",
     "text": [
      "Making chunks for workers\n",
      "Processing 715 chunks\n"
     ]
    },
    {
     "data": {
      "application/vnd.jupyter.widget-view+json": {
       "model_id": "6780d8b453af4f9e86476a2b86b131e2",
       "version_major": 2,
       "version_minor": 0
      },
      "text/plain": [
       "HBox(children=(HTML(value=''), FloatProgress(value=0.0, max=300252631.0), HTML(value='')))"
      ]
     },
     "metadata": {},
     "output_type": "display_data"
    },
    {
     "name": "stdout",
     "output_type": "stream",
     "text": [
      "\n",
      "Processed 3.0025e+08 input events in 66.1s (4542.18kHz)\n"
     ]
    },
    {
     "name": "stderr",
     "output_type": "stream",
     "text": [
      "distributed.scheduler - ERROR - Couldn't gather keys {'wrapper-6812ff48deecee926251354cbf020c71': ['tcp://169.228.132.111:41930']} state: ['memory'] workers: ['tcp://169.228.132.111:41930']\n",
      "NoneType: None\n",
      "distributed.scheduler - ERROR - Workers don't have promised key: ['tcp://169.228.132.111:41930'], wrapper-6812ff48deecee926251354cbf020c71\n",
      "NoneType: None\n",
      "distributed.scheduler - ERROR - Couldn't gather keys {'wrapper-0eff26c94ff8ef54a78f4d964ecd05cd': ['tcp://169.228.132.111:43247']} state: ['memory'] workers: ['tcp://169.228.132.111:43247']\n",
      "NoneType: None\n",
      "distributed.scheduler - ERROR - Workers don't have promised key: ['tcp://169.228.132.111:43247'], wrapper-0eff26c94ff8ef54a78f4d964ecd05cd\n",
      "NoneType: None\n",
      "distributed.scheduler - ERROR - Couldn't gather keys {'wrapper-53ef49af06cc8923c65d34dbf696edd1': ['tcp://169.228.132.103:46160']} state: ['memory'] workers: ['tcp://169.228.132.103:46160']\n",
      "NoneType: None\n",
      "distributed.scheduler - ERROR - Workers don't have promised key: ['tcp://169.228.132.103:46160'], wrapper-53ef49af06cc8923c65d34dbf696edd1\n",
      "NoneType: None\n"
     ]
    }
   ],
   "source": [
    "# use_tree_cache speeds things up the second time you run on the same files (if you're looping on <200 files)\n",
    "# so we run it again. In principle, `process` can be changed and we'll still see a speedup due to the\n",
    "# overhead of opening up a nanoaod ttree with uproot\n",
    "\n",
    "# results = get_results(process, fnames, use_tree_cache=True, chunksize=500e3)\n",
    "results = get_results(process, fnames[:None], use_tree_cache=True, chunksize=500e3, skip_bad_files=True)"
   ]
  },
  {
   "cell_type": "code",
   "execution_count": 16,
   "metadata": {
    "ExecuteTime": {
     "end_time": "2020-12-03T03:41:31.226497Z",
     "start_time": "2020-12-03T03:41:16.429639Z"
    }
   },
   "outputs": [
    {
     "data": {
      "text/html": [
       "<table style=\"border: 2px solid white;\">\n",
       "<tr>\n",
       "<td style=\"vertical-align: top; border: 0px solid white\">\n",
       "<h3 style=\"text-align: left;\">Client</h3>\n",
       "<ul style=\"text-align: left; list-style: none; margin: 0; padding: 0;\">\n",
       "  <li><b>Scheduler: </b>tcp://169.228.130.74:14638</li>\n",
       "  <li><b>Dashboard: </b><a href='http://169.228.130.74:12347/status' target='_blank'>http://169.228.130.74:12347/status</a></li>\n",
       "</ul>\n",
       "</td>\n",
       "<td style=\"vertical-align: top; border: 0px solid white\">\n",
       "<h3 style=\"text-align: left;\">Cluster</h3>\n",
       "<ul style=\"text-align: left; list-style:none; margin: 0; padding: 0;\">\n",
       "  <li><b>Workers: </b>31</li>\n",
       "  <li><b>Cores: </b>31</li>\n",
       "  <li><b>Memory: </b>124.00 GB</li>\n",
       "</ul>\n",
       "</td>\n",
       "</tr>\n",
       "</table>"
      ],
      "text/plain": [
       "<Client: 'tcp://169.228.130.74:14638' processes=30 threads=30, memory=120.00 GB>"
      ]
     },
     "execution_count": 16,
     "metadata": {},
     "output_type": "execute_result"
    }
   ],
   "source": [
    "# clear_tree_cache()"
   ]
  },
  {
   "cell_type": "code",
   "execution_count": 14,
   "metadata": {
    "ExecuteTime": {
     "end_time": "2020-12-03T03:35:12.264262Z",
     "start_time": "2020-12-03T03:35:10.190238Z"
    }
   },
   "outputs": [
    {
     "data": {
      "image/png": "[encoded data removed]",
      "text/plain": [
       "<Figure size 432x288 with 1 Axes>"
      ]
     },
     "metadata": {
      "image/png": {
       "height": 263,
       "width": 374
      },
      "needs_background": "light"
     },
     "output_type": "display_data"
    }
   ],
   "source": [
    "fig, ax = plt.subplots()\n",
    "\n",
    "h = results[\"hmet\"]\n",
    "\n",
    "h.plot(histtype=\"step\")\n",
    "h.restrict(50, 150).fit(\"(a*1000)*np.exp(-b*x/1000)\")\n",
    "\n",
    "ax.set_title(str(results[\"mycounter\"]))\n",
    "ax.set_yscale(\"log\")"
   ]
  },
  {
   "cell_type": "code",
   "execution_count": 15,
   "metadata": {
    "ExecuteTime": {
     "end_time": "2020-12-03T03:35:12.691701Z",
     "start_time": "2020-12-03T03:35:12.266695Z"
    }
   },
   "outputs": [
    {
     "data": {
      "text/html": [
       "\n",
       "    <div class=\"bk-root\">\n",
       "        <a href=\"https://bokeh.org\" target=\"_blank\" class=\"bk-logo bk-logo-small bk-logo-notebook\"></a>\n",
       "        <span id=\"1001\">Loading BokehJS ...</span>\n",
       "    </div>"
      ]
     },
     "metadata": {},
     "output_type": "display_data"
    },
    {
     "data": {
      "application/javascript": [
       "\n",
       "(function(root) {\n",
       "  function now() {\n",
       "    return new Date();\n",
       "  }\n",
       "\n",
       "  var force = true;\n",
       "\n",
       "  if (typeof root._bokeh_onload_callbacks === \"undefined\" || force === true) {\n",
       "    root._bokeh_onload_callbacks = [];\n",
       "    root._bokeh_is_loading = undefined;\n",
       "  }\n",
       "\n",
       "  var JS_MIME_TYPE = 'application/javascript';\n",
       "  var HTML_MIME_TYPE = 'text/html';\n",
       "  var EXEC_MIME_TYPE = 'application/vnd.bokehjs_exec.v0+json';\n",
       "  var CLASS_NAME = 'output_bokeh rendered_html';\n",
       "\n",
       "  /**\n",
       "   * Render data to the DOM node\n",
       "   */\n",
       "  function render(props, node) {\n",
       "    var script = document.createElement(\"script\");\n",
       "    node.appendChild(script);\n",
       "  }\n",
       "\n",
       "  /**\n",
       "   * Handle when an output is cleared or removed\n",
       "   */\n",
       "  function handleClearOutput(event, handle) {\n",
       "    var cell = handle.cell;\n",
       "\n",
       "    var id = cell.output_area._bokeh_element_id;\n",
       "    var server_id = cell.output_area._bokeh_server_id;\n",
       "    // Clean up Bokeh references\n",
       "    if (id != null && id in Bokeh.index) {\n",
       "      Bokeh.index[id].model.document.clear();\n",
       "      delete Bokeh.index[id];\n",
       "    }\n",
       "\n",
       "    if (server_id !== undefined) {\n",
       "      // Clean up Bokeh references\n",
       "      var cmd = \"from bokeh.io.state import curstate; print(curstate().uuid_to_server['\" + server_id + \"'].get_sessions()[0].document.roots[0]._id)\";\n",
       "      cell.notebook.kernel.execute(cmd, {\n",
       "        iopub: {\n",
       "          output: function(msg) {\n",
       "            var id = msg.content.text.trim();\n",
       "            if (id in Bokeh.index) {\n",
       "              Bokeh.index[id].model.document.clear();\n",
       "              delete Bokeh.index[id];\n",
       "            }\n",
       "          }\n",
       "        }\n",
       "      });\n",
       "      // Destroy server and session\n",
       "      var cmd = \"import bokeh.io.notebook as ion; ion.destroy_server('\" + server_id + \"')\";\n",
       "      cell.notebook.kernel.execute(cmd);\n",
       "    }\n",
       "  }\n",
       "\n",
       "  /**\n",
       "   * Handle when a new output is added\n",
       "   */\n",
       "  function handleAddOutput(event, handle) {\n",
       "    var output_area = handle.output_area;\n",
       "    var output = handle.output;\n",
       "\n",
       "    // limit handleAddOutput to display_data with EXEC_MIME_TYPE content only\n",
       "    if ((output.output_type != \"display_data\") || (!output.data.hasOwnProperty(EXEC_MIME_TYPE))) {\n",
       "      return\n",
       "    }\n",
       "\n",
       "    var toinsert = output_area.element.find(\".\" + CLASS_NAME.split(' ')[0]);\n",
       "\n",
       "    if (output.metadata[EXEC_MIME_TYPE][\"id\"] !== undefined) {\n",
       "      toinsert[toinsert.length - 1].firstChild.textContent = output.data[JS_MIME_TYPE];\n",
       "      // store reference to embed id on output_area\n",
       "      output_area._bokeh_element_id = output.metadata[EXEC_MIME_TYPE][\"id\"];\n",
       "    }\n",
       "    if (output.metadata[EXEC_MIME_TYPE][\"server_id\"] !== undefined) {\n",
       "      var bk_div = document.createElement(\"div\");\n",
       "      bk_div.innerHTML = output.data[HTML_MIME_TYPE];\n",
       "      var script_attrs = bk_div.children[0].attributes;\n",
       "      for (var i = 0; i < script_attrs.length; i++) {\n",
       "        toinsert[toinsert.length - 1].firstChild.setAttribute(script_attrs[i].name, script_attrs[i].value);\n",
       "        toinsert[toinsert.length - 1].firstChild.textContent = bk_div.children[0].textContent\n",
       "      }\n",
       "      // store reference to server id on output_area\n",
       "      output_area._bokeh_server_id = output.metadata[EXEC_MIME_TYPE][\"server_id\"];\n",
       "    }\n",
       "  }\n",
       "\n",
       "  function register_renderer(events, OutputArea) {\n",
       "\n",
       "    function append_mime(data, metadata, element) {\n",
       "      // create a DOM node to render to\n",
       "      var toinsert = this.create_output_subarea(\n",
       "        metadata,\n",
       "        CLASS_NAME,\n",
       "        EXEC_MIME_TYPE\n",
       "      );\n",
       "      this.keyboard_manager.register_events(toinsert);\n",
       "      // Render to node\n",
       "      var props = {data: data, metadata: metadata[EXEC_MIME_TYPE]};\n",
       "      render(props, toinsert[toinsert.length - 1]);\n",
       "      element.append(toinsert);\n",
       "      return toinsert\n",
       "    }\n",
       "\n",
       "    /* Handle when an output is cleared or removed */\n",
       "    events.on('clear_output.CodeCell', handleClearOutput);\n",
       "    events.on('delete.Cell', handleClearOutput);\n",
       "\n",
       "    /* Handle when a new output is added */\n",
       "    events.on('output_added.OutputArea', handleAddOutput);\n",
       "\n",
       "    /**\n",
       "     * Register the mime type and append_mime function with output_area\n",
       "     */\n",
       "    OutputArea.prototype.register_mime_type(EXEC_MIME_TYPE, append_mime, {\n",
       "      /* Is output safe? */\n",
       "      safe: true,\n",
       "      /* Index of renderer in `output_area.display_order` */\n",
       "      index: 0\n",
       "    });\n",
       "  }\n",
       "\n",
       "  // register the mime type if in Jupyter Notebook environment and previously unregistered\n",
       "  if (root.Jupyter !== undefined) {\n",
       "    var events = require('base/js/events');\n",
       "    var OutputArea = require('notebook/js/outputarea').OutputArea;\n",
       "\n",
       "    if (OutputArea.prototype.mime_types().indexOf(EXEC_MIME_TYPE) == -1) {\n",
       "      register_renderer(events, OutputArea);\n",
       "    }\n",
       "  }\n",
       "\n",
       "  \n",
       "  if (typeof (root._bokeh_timeout) === \"undefined\" || force === true) {\n",
       "    root._bokeh_timeout = Date.now() + 5000;\n",
       "    root._bokeh_failed_load = false;\n",
       "  }\n",
       "\n",
       "  var NB_LOAD_WARNING = {'data': {'text/html':\n",
       "     \"<div style='background-color: #fdd'>\\n\"+\n",
       "     \"<p>\\n\"+\n",
       "     \"BokehJS does not appear to have successfully loaded. If loading BokehJS from CDN, this \\n\"+\n",
       "     \"may be due to a slow or bad network connection. Possible fixes:\\n\"+\n",
       "     \"</p>\\n\"+\n",
       "     \"<ul>\\n\"+\n",
       "     \"<li>re-rerun `output_notebook()` to attempt to load from CDN again, or</li>\\n\"+\n",
       "     \"<li>use INLINE resources instead, as so:</li>\\n\"+\n",
       "     \"</ul>\\n\"+\n",
       "     \"<code>\\n\"+\n",
       "     \"from bokeh.resources import INLINE\\n\"+\n",
       "     \"output_notebook(resources=INLINE)\\n\"+\n",
       "     \"</code>\\n\"+\n",
       "     \"</div>\"}};\n",
       "\n",
       "  function display_loaded() {\n",
       "    var el = document.getElementById(\"1001\");\n",
       "    if (el != null) {\n",
       "      el.textContent = \"BokehJS is loading...\";\n",
       "    }\n",
       "    if (root.Bokeh !== undefined) {\n",
       "      if (el != null) {\n",
       "        el.textContent = \"BokehJS \" + root.Bokeh.version + \" successfully loaded.\";\n",
       "      }\n",
       "    } else if (Date.now() < root._bokeh_timeout) {\n",
       "      setTimeout(display_loaded, 100)\n",
       "    }\n",
       "  }\n",
       "\n",
       "\n",
       "  function run_callbacks() {\n",
       "    try {\n",
       "      root._bokeh_onload_callbacks.forEach(function(callback) {\n",
       "        if (callback != null)\n",
       "          callback();\n",
       "      });\n",
       "    } finally {\n",
       "      delete root._bokeh_onload_callbacks\n",
       "    }\n",
       "    console.debug(\"Bokeh: all callbacks have finished\");\n",
       "  }\n",
       "\n",
       "  function load_libs(css_urls, js_urls, callback) {\n",
       "    if (css_urls == null) css_urls = [];\n",
       "    if (js_urls == null) js_urls = [];\n",
       "\n",
       "    root._bokeh_onload_callbacks.push(callback);\n",
       "    if (root._bokeh_is_loading > 0) {\n",
       "      console.debug(\"Bokeh: BokehJS is being loaded, scheduling callback at\", now());\n",
       "      return null;\n",
       "    }\n",
       "    if (js_urls == null || js_urls.length === 0) {\n",
       "      run_callbacks();\n",
       "      return null;\n",
       "    }\n",
       "    console.debug(\"Bokeh: BokehJS not loaded, scheduling load and callback at\", now());\n",
       "    root._bokeh_is_loading = css_urls.length + js_urls.length;\n",
       "\n",
       "    function on_load() {\n",
       "      root._bokeh_is_loading--;\n",
       "      if (root._bokeh_is_loading === 0) {\n",
       "        console.debug(\"Bokeh: all BokehJS libraries/stylesheets loaded\");\n",
       "        run_callbacks()\n",
       "      }\n",
       "    }\n",
       "\n",
       "    function on_error() {\n",
       "      console.error(\"failed to load \" + url);\n",
       "    }\n",
       "\n",
       "    for (var i = 0; i < css_urls.length; i++) {\n",
       "      var url = css_urls[i];\n",
       "      const element = document.createElement(\"link\");\n",
       "      element.onload = on_load;\n",
       "      element.onerror = on_error;\n",
       "      element.rel = \"stylesheet\";\n",
       "      element.type = \"text/css\";\n",
       "      element.href = url;\n",
       "      console.debug(\"Bokeh: injecting link tag for BokehJS stylesheet: \", url);\n",
       "      document.body.appendChild(element);\n",
       "    }\n",
       "\n",
       "    const hashes = {\"https://cdn.bokeh.org/bokeh/release/bokeh-2.2.3.min.js\": \"T2yuo9Oe71Cz/I4X9Ac5+gpEa5a8PpJCDlqKYO0CfAuEszu1JrXLl8YugMqYe3sM\", \"https://cdn.bokeh.org/bokeh/release/bokeh-widgets-2.2.3.min.js\": \"98GDGJ0kOMCUMUePhksaQ/GYgB3+NH9h996V88sh3aOiUNX3N+fLXAtry6xctSZ6\", \"https://cdn.bokeh.org/bokeh/release/bokeh-tables-2.2.3.min.js\": \"89bArO+nlbP3sgakeHjCo1JYxYR5wufVgA3IbUvDY+K7w4zyxJqssu7wVnfeKCq8\"};\n",
       "\n",
       "    for (var i = 0; i < js_urls.length; i++) {\n",
       "      var url = js_urls[i];\n",
       "      var element = document.createElement('script');\n",
       "      element.onload = on_load;\n",
       "      element.onerror = on_error;\n",
       "      element.async = false;\n",
       "      element.src = url;\n",
       "      if (url in hashes) {\n",
       "        element.crossOrigin = \"anonymous\";\n",
       "        element.integrity = \"sha384-\" + hashes[url];\n",
       "      }\n",
       "      console.debug(\"Bokeh: injecting script tag for BokehJS library: \", url);\n",
       "      document.head.appendChild(element);\n",
       "    }\n",
       "  };\n",
       "\n",
       "  function inject_raw_css(css) {\n",
       "    const element = document.createElement(\"style\");\n",
       "    element.appendChild(document.createTextNode(css));\n",
       "    document.body.appendChild(element);\n",
       "  }\n",
       "\n",
       "  \n",
       "  var js_urls = [\"https://cdn.bokeh.org/bokeh/release/bokeh-2.2.3.min.js\", \"https://cdn.bokeh.org/bokeh/release/bokeh-widgets-2.2.3.min.js\", \"https://cdn.bokeh.org/bokeh/release/bokeh-tables-2.2.3.min.js\"];\n",
       "  var css_urls = [];\n",
       "  \n",
       "\n",
       "  var inline_js = [\n",
       "    function(Bokeh) {\n",
       "      Bokeh.set_log_level(\"info\");\n",
       "    },\n",
       "    function(Bokeh) {\n",
       "    \n",
       "    \n",
       "    }\n",
       "  ];\n",
       "\n",
       "  function run_inline_js() {\n",
       "    \n",
       "    if (root.Bokeh !== undefined || force === true) {\n",
       "      \n",
       "    for (var i = 0; i < inline_js.length; i++) {\n",
       "      inline_js[i].call(root, root.Bokeh);\n",
       "    }\n",
       "    if (force === true) {\n",
       "        display_loaded();\n",
       "      }} else if (Date.now() < root._bokeh_timeout) {\n",
       "      setTimeout(run_inline_js, 100);\n",
       "    } else if (!root._bokeh_failed_load) {\n",
       "      console.log(\"Bokeh: BokehJS failed to load within specified timeout.\");\n",
       "      root._bokeh_failed_load = true;\n",
       "    } else if (force !== true) {\n",
       "      var cell = $(document.getElementById(\"1001\")).parents('.cell').data().cell;\n",
       "      cell.output_area.append_execute_result(NB_LOAD_WARNING)\n",
       "    }\n",
       "\n",
       "  }\n",
       "\n",
       "  if (root._bokeh_is_loading === 0) {\n",
       "    console.debug(\"Bokeh: BokehJS loaded, going straight to plotting\");\n",
       "    run_inline_js();\n",
       "  } else {\n",
       "    load_libs(css_urls, js_urls, function() {\n",
       "      console.debug(\"Bokeh: BokehJS plotting callback run at\", now());\n",
       "      run_inline_js();\n",
       "    });\n",
       "  }\n",
       "}(window));"
      ],
      "application/vnd.bokehjs_load.v0+json": "\n(function(root) {\n  function now() {\n    return new Date();\n  }\n\n  var force = true;\n\n  if (typeof root._bokeh_onload_callbacks === \"undefined\" || force === true) {\n    root._bokeh_onload_callbacks = [];\n    root._bokeh_is_loading = undefined;\n  }\n\n  \n\n  \n  if (typeof (root._bokeh_timeout) === \"undefined\" || force === true) {\n    root._bokeh_timeout = Date.now() + 5000;\n    root._bokeh_failed_load = false;\n  }\n\n  var NB_LOAD_WARNING = {'data': {'text/html':\n     \"<div style='background-color: #fdd'>\\n\"+\n     \"<p>\\n\"+\n     \"BokehJS does not appear to have successfully loaded. If loading BokehJS from CDN, this \\n\"+\n     \"may be due to a slow or bad network connection. Possible fixes:\\n\"+\n     \"</p>\\n\"+\n     \"<ul>\\n\"+\n     \"<li>re-rerun `output_notebook()` to attempt to load from CDN again, or</li>\\n\"+\n     \"<li>use INLINE resources instead, as so:</li>\\n\"+\n     \"</ul>\\n\"+\n     \"<code>\\n\"+\n     \"from bokeh.resources import INLINE\\n\"+\n     \"output_notebook(resources=INLINE)\\n\"+\n     \"</code>\\n\"+\n     \"</div>\"}};\n\n  function display_loaded() {\n    var el = document.getElementById(\"1001\");\n    if (el != null) {\n      el.textContent = \"BokehJS is loading...\";\n    }\n    if (root.Bokeh !== undefined) {\n      if (el != null) {\n        el.textContent = \"BokehJS \" + root.Bokeh.version + \" successfully loaded.\";\n      }\n    } else if (Date.now() < root._bokeh_timeout) {\n      setTimeout(display_loaded, 100)\n    }\n  }\n\n\n  function run_callbacks() {\n    try {\n      root._bokeh_onload_callbacks.forEach(function(callback) {\n        if (callback != null)\n          callback();\n      });\n    } finally {\n      delete root._bokeh_onload_callbacks\n    }\n    console.debug(\"Bokeh: all callbacks have finished\");\n  }\n\n  function load_libs(css_urls, js_urls, callback) {\n    if (css_urls == null) css_urls = [];\n    if (js_urls == null) js_urls = [];\n\n    root._bokeh_onload_callbacks.push(callback);\n    if (root._bokeh_is_loading > 0) {\n      console.debug(\"Bokeh: BokehJS is being loaded, scheduling callback at\", now());\n      return null;\n    }\n    if (js_urls == null || js_urls.length === 0) {\n      run_callbacks();\n      return null;\n    }\n    console.debug(\"Bokeh: BokehJS not loaded, scheduling load and callback at\", now());\n    root._bokeh_is_loading = css_urls.length + js_urls.length;\n\n    function on_load() {\n      root._bokeh_is_loading--;\n      if (root._bokeh_is_loading === 0) {\n        console.debug(\"Bokeh: all BokehJS libraries/stylesheets loaded\");\n        run_callbacks()\n      }\n    }\n\n    function on_error() {\n      console.error(\"failed to load \" + url);\n    }\n\n    for (var i = 0; i < css_urls.length; i++) {\n      var url = css_urls[i];\n      const element = document.createElement(\"link\");\n      element.onload = on_load;\n      element.onerror = on_error;\n      element.rel = \"stylesheet\";\n      element.type = \"text/css\";\n      element.href = url;\n      console.debug(\"Bokeh: injecting link tag for BokehJS stylesheet: \", url);\n      document.body.appendChild(element);\n    }\n\n    const hashes = {\"https://cdn.bokeh.org/bokeh/release/bokeh-2.2.3.min.js\": \"T2yuo9Oe71Cz/I4X9Ac5+gpEa5a8PpJCDlqKYO0CfAuEszu1JrXLl8YugMqYe3sM\", \"https://cdn.bokeh.org/bokeh/release/bokeh-widgets-2.2.3.min.js\": \"98GDGJ0kOMCUMUePhksaQ/GYgB3+NH9h996V88sh3aOiUNX3N+fLXAtry6xctSZ6\", \"https://cdn.bokeh.org/bokeh/release/bokeh-tables-2.2.3.min.js\": \"89bArO+nlbP3sgakeHjCo1JYxYR5wufVgA3IbUvDY+K7w4zyxJqssu7wVnfeKCq8\"};\n\n    for (var i = 0; i < js_urls.length; i++) {\n      var url = js_urls[i];\n      var element = document.createElement('script');\n      element.onload = on_load;\n      element.onerror = on_error;\n      element.async = false;\n      element.src = url;\n      if (url in hashes) {\n        element.crossOrigin = \"anonymous\";\n        element.integrity = \"sha384-\" + hashes[url];\n      }\n      console.debug(\"Bokeh: injecting script tag for BokehJS library: \", url);\n      document.head.appendChild(element);\n    }\n  };\n\n  function inject_raw_css(css) {\n    const element = document.createElement(\"style\");\n    element.appendChild(document.createTextNode(css));\n    document.body.appendChild(element);\n  }\n\n  \n  var js_urls = [\"https://cdn.bokeh.org/bokeh/release/bokeh-2.2.3.min.js\", \"https://cdn.bokeh.org/bokeh/release/bokeh-widgets-2.2.3.min.js\", \"https://cdn.bokeh.org/bokeh/release/bokeh-tables-2.2.3.min.js\"];\n  var css_urls = [];\n  \n\n  var inline_js = [\n    function(Bokeh) {\n      Bokeh.set_log_level(\"info\");\n    },\n    function(Bokeh) {\n    \n    \n    }\n  ];\n\n  function run_inline_js() {\n    \n    if (root.Bokeh !== undefined || force === true) {\n      \n    for (var i = 0; i < inline_js.length; i++) {\n      inline_js[i].call(root, root.Bokeh);\n    }\n    if (force === true) {\n        display_loaded();\n      }} else if (Date.now() < root._bokeh_timeout) {\n      setTimeout(run_inline_js, 100);\n    } else if (!root._bokeh_failed_load) {\n      console.log(\"Bokeh: BokehJS failed to load within specified timeout.\");\n      root._bokeh_failed_load = true;\n    } else if (force !== true) {\n      var cell = $(document.getElementById(\"1001\")).parents('.cell').data().cell;\n      cell.output_area.append_execute_result(NB_LOAD_WARNING)\n    }\n\n  }\n\n  if (root._bokeh_is_loading === 0) {\n    console.debug(\"Bokeh: BokehJS loaded, going straight to plotting\");\n    run_inline_js();\n  } else {\n    load_libs(css_urls, js_urls, function() {\n      console.debug(\"Bokeh: BokehJS plotting callback run at\", now());\n      run_inline_js();\n    });\n  }\n}(window));"
     },
     "metadata": {},
     "output_type": "display_data"
    },
    {
     "data": {
      "text/html": [
       "\n",
       "\n",
       "\n",
       "\n",
       "\n",
       "\n",
       "  <div class=\"bk-root\" id=\"77f6c896-5c63-4529-9042-b19ef14d0717\" data-root-id=\"1003\"></div>\n"
      ]
     },
     "metadata": {},
     "output_type": "display_data"
    },
    {
     "data": {
      "application/javascript": [
       "(function(root) {\n",
       "  function embed_document(root) {\n",
       "    \n",
       "  var docs_json = {\"4013ee5a-e65e-4bc1-9fa1-97ed1ca47d4f\":{\"roots\":{\"references\":[{\"attributes\":{\"below\":[{\"id\":\"1014\"}],\"center\":[{\"id\":\"1017\"},{\"id\":\"1021\"}],\"left\":[{\"id\":\"1018\"}],\"plot_height\":300,\"renderers\":[{\"id\":\"1042\"}],\"title\":{\"id\":\"1004\"},\"toolbar\":{\"id\":\"1030\"},\"x_range\":{\"id\":\"1006\"},\"x_scale\":{\"id\":\"1010\"},\"y_range\":{\"id\":\"1008\"},\"y_scale\":{\"id\":\"1012\"}},\"id\":\"1003\",\"subtype\":\"Figure\",\"type\":\"Plot\"},{\"attributes\":{\"axis\":{\"id\":\"1018\"},\"dimension\":1,\"ticker\":null},\"id\":\"1021\",\"type\":\"Grid\"},{\"attributes\":{\"active_drag\":\"auto\",\"active_inspect\":\"auto\",\"active_multi\":null,\"active_scroll\":\"auto\",\"active_tap\":\"auto\",\"tools\":[{\"id\":\"1022\"},{\"id\":\"1023\"},{\"id\":\"1024\"},{\"id\":\"1025\"},{\"id\":\"1026\"},{\"id\":\"1027\"},{\"id\":\"1029\"}]},\"id\":\"1030\",\"type\":\"Toolbar\"},{\"attributes\":{\"fill_alpha\":{\"value\":0.1},\"fill_color\":{\"value\":\"#1f77b4\"},\"height\":{\"value\":1.0},\"left\":{\"field\":\"tstart\"},\"line_alpha\":{\"value\":0.1},\"right\":{\"field\":\"tstop\"},\"y\":{\"field\":\"worker\"}},\"id\":\"1041\",\"type\":\"HBar\"},{\"attributes\":{\"source\":{\"id\":\"1038\"}},\"id\":\"1043\",\"type\":\"CDSView\"},{\"attributes\":{},\"id\":\"1023\",\"type\":\"WheelZoomTool\"},{\"attributes\":{\"text\":\"31 workers, efficiency = 35.1%, median task time = 0.28s, median intertask time = 0.00s\"},\"id\":\"1004\",\"type\":\"Title\"},{\"attributes\":{\"overlay\":{\"id\":\"1028\"}},\"id\":\"1024\",\"type\":\"BoxZoomTool\"},{\"attributes\":{},\"id\":\"1045\",\"type\":\"BasicTickFormatter\"},{\"attributes\":{\"fill_color\":{\"value\":\"#1f77b4\"},\"height\":{\"value\":1.0},\"left\":{\"field\":\"tstart\"},\"right\":{\"field\":\"tstop\"},\"y\":{\"field\":\"worker\"}},\"id\":\"1040\",\"type\":\"HBar\"},{\"attributes\":{},\"id\":\"1049\",\"type\":\"UnionRenderers\"},{\"attributes\":{\"data_source\":{\"id\":\"1038\"},\"glyph\":{\"id\":\"1040\"},\"hover_glyph\":null,\"muted_glyph\":null,\"nonselection_glyph\":{\"id\":\"1041\"},\"selection_glyph\":null,\"view\":{\"id\":\"1043\"}},\"id\":\"1042\",\"type\":\"GlyphRenderer\"},{\"attributes\":{\"bottom_units\":\"screen\",\"fill_alpha\":0.5,\"fill_color\":\"lightgrey\",\"left_units\":\"screen\",\"level\":\"overlay\",\"line_alpha\":1.0,\"line_color\":\"black\",\"line_dash\":[4,4],\"line_width\":2,\"right_units\":\"screen\",\"top_units\":\"screen\"},\"id\":\"1028\",\"type\":\"BoxAnnotation\"},{\"attributes\":{\"axis_label\":\"worker\",\"formatter\":{\"id\":\"1047\"},\"ticker\":{\"id\":\"1019\"}},\"id\":\"1018\",\"type\":\"LinearAxis\"},{\"attributes\":{\"callback\":null,\"tooltips\":[[\"worker\",\"@worker\"],[\"start\",\"@{tstart}s\"],[\"stop\",\"@{tstop}s\"],[\"duration\",\"@{duration}s\"]]},\"id\":\"1029\",\"type\":\"HoverTool\"},{\"attributes\":{},\"id\":\"1015\",\"type\":\"BasicTicker\"},{\"attributes\":{},\"id\":\"1019\",\"type\":\"BasicTicker\"},{\"attributes\":{},\"id\":\"1050\",\"type\":\"Selection\"},{\"attributes\":{},\"id\":\"1012\",\"type\":\"LinearScale\"},{\"attributes\":{},\"id\":\"1022\",\"type\":\"PanTool\"},{\"attributes\":{\"axis\":{\"id\":\"1014\"},\"ticker\":null},\"id\":\"1017\",\"type\":\"Grid\"},{\"attributes\":{},\"id\":\"1008\",\"type\":\"DataRange1d\"},{\"attributes\":{},\"id\":\"1047\",\"type\":\"BasicTickFormatter\"},{\"attributes\":{},\"id\":\"1026\",\"type\":\"ResetTool\"},{\"attributes\":{},\"id\":\"1010\",\"type\":\"LinearScale\"},{\"attributes\":{\"data\":{\"duration\":{\"__ndarray__\":\"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\",\"dtype\":\"float64\",\"order\":\"little\",\"shape\":[715]},\"index\":[0,1,2,3,4,5,6,7,8,9,10,11,12,13,14,15,16,17,18,19,20,21,22,23,24,25,26,27,28,29,30,31,32,33,34,35,36,37,38,39,40,41,42,43,44,45,46,47,48,49,50,51,52,53,54,55,56,57,58,59,60,61,62,63,64,65,66,67,68,69,70,71,72,73,74,75,76,77,78,79,80,81,82,83,84,85,86,87,88,89,90,91,92,93,94,95,96,97,98,99,100,101,102,103,104,105,106,107,108,109,110,111,112,113,114,115,116,117,118,119,120,121,122,123,124,125,126,127,128,129,130,131,132,133,134,135,136,137,138,139,140,141,142,143,144,145,146,147,148,149,150,151,152,153,154,155,156,157,158,159,160,161,162,163,164,165,166,167,168,169,170,171,172,173,174,175,176,177,178,179,180,181,182,183,184,185,186,187,188,189,190,191,192,193,194,195,196,197,198,199,200,201,202,203,204,205,206,207,208,209,210,211,212,213,214,215,216,217,218,219,220,221,222,223,224,225,226,227,228,229,230,231,232,233,234,235,236,237,238,239,240,241,242,243,244,245,246,247,248,249,250,251,252,253,254,255,256,257,258,259,260,261,262,263,264,265,266,267,268,269,270,271,272,273,274,275,276,277,278,279,280,281,282,283,284,285,286,287,288,289,290,291,292,293,294,295,296,297,298,299,300,301,302,303,304,305,306,307,308,309,310,311,312,313,314,315,316,317,318,319,320,321,322,323,324,325,326,327,328,329,330,331,332,333,334,335,336,337,338,339,340,341,342,343,344,345,346,347,348,349,350,351,352,353,354,355,356,357,358,359,360,361,362,363,364,365,366,367,368,369,370,371,372,373,374,375,376,377,378,379,380,381,382,383,384,385,386,387,388,389,390,391,392,393,394,395,396,397,398,399,400,401,402,403,404,405,406,407,408,409,410,411,412,413,414,415,416,417,418,419,420,421,422,423,424,425,426,427,428,429,430,431,432,433,434,435,436,437,438,439,440,441,442,443,444,445,446,447,448,449,450,451,452,453,454,455,456,457,458,459,460,461,462,463,464,465,466,467,468,469,470,471,472,473,474,475,476,477,478,479,480,481,482,483,484,485,486,487,488,489,490,491,492,493,494,495,496,497,498,499,500,501,502,503,504,505,506,507,508,509,510,511,512,513,514,515,516,517,518,519,520,521,522,523,524,525,526,527,528,529,530,531,532,533,534,535,536,537,538,539,540,541,542,543,544,545,546,547,548,549,550,551,552,553,554,555,556,557,558,559,560,561,562,563,564,565,566,567,568,569,570,571,572,573,574,575,576,577,578,579,580,581,582,583,584,585,586,587,588,589,590,591,592,593,594,595,596,597,598,599,600,601,602,603,604,605,606,607,608,609,610,611,612,613,614,615,616,617,618,619,620,621,622,623,624,625,626,627,628,629,630,631,632,633,634,635,636,637,638,639,640,641,642,643,644,645,646,647,648,649,650,651,652,653,654,655,656,657,658,659,660,661,662,663,664,665,666,667,668,669,670,671,672,673,674,675,676,677,678,679,680,681,682,683,684,685,686,687,688,689,690,691,692,693,694,695,696,697,698,699,700,701,702,703,704,705,706,707,708,709,710,711,712,713,714],\"tstart\":{\"__ndarray__\":\"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\",\"dtype\":\"float64\",\"order\":\"little\",\"shape\":[715]},\"tstop\":{\"__ndarray__\":\"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\",\"dtype\":\"float64\",\"order\":\"little\",\"shape\":[715]},\"worker\":{\"__ndarray__\":\"Fg4IBwQcAAYTFA0bHAcGFBMcFBMWARQTFAYIExMTGBgTExMTExwcAQYDGwYbHQYGHhkCDQ0EBg4WFxcJGAkYDQsABRoBDBoBEBoQAQgSAQgBCBUBCBEVBwQDExgTGA4CFA4TFA4eGw4SFg0NFhwQEBMVCRwTCR4aGgYMBxsHGxkLBBgAGAMcAgIdGxUUFhQNCA0NHAESCRoFDhUQGQsLDAsAFhscAhscGAMcGAYYHhQQEAkJBBUJEhMLHAEFCgAICBkZCBsZDBscGx4DGAUVDh0QDQ0EGhoaBwISAgcLGwUeEBAQDBgYCxsbBhMBFhUZFgUTDgAWABYUCBwNCx0NHRkSEh4YEgMaDAEUGx0GFg4TFBUTFAUBGAQQHBwNFhQaAQcLGhoBGxsAFB0MHRAdEAoZGQYYDhgOExISHAUVCAgQDQMHHh0QGgEEARsAARQZDBkMHhYWChYdARMdAwYBBhoFDgwSGQAABxsbBxgcCAQHEAQeEBwZDQoKAQoBFB0GGgEQHAsFCwwAFQMTDBkAAxISCAgTEwwODhsQGBUVARUeAQoZFAYaFAYBAAYQARQdCw0NAwobBBUbGwgSGQ8SGBwSHAMaFgYAARwGBQAeHBUcDAAVAA0BExQKCggTCBMaGgQDGxwcBgkcCAkPGhIaDRIADRILHgALBQMTEwEEAQwJCwMbCxscHB0eDw8PABoJCRIGEwENCAQICBoLAwscHA8PAAAeBR4eHQkdBgYBExISExMNGhoEAwkLChMADwAbExwFDwgcAREGBAQSHRILAwELHAERHRoFEwAJBA0NDw8PGxsSCBIdHRwaGgUFCwMLAw8dEQQcGxMTExoaGg0PHAMLGxsaExoaEQsLDQ0TExsPDw8TGxsaDw8RGhEaExMbEw8bGxMPDxMTDw8PGhoaGhoaGhoaGhoPGhoaGhoPDxoPGhoaDw8PDw8PDw==\",\"dtype\":\"int8\",\"order\":\"little\",\"shape\":[715]}},\"selected\":{\"id\":\"1050\"},\"selection_policy\":{\"id\":\"1049\"}},\"id\":\"1038\",\"type\":\"ColumnDataSource\"},{\"attributes\":{},\"id\":\"1025\",\"type\":\"SaveTool\"},{\"attributes\":{},\"id\":\"1027\",\"type\":\"HelpTool\"},{\"attributes\":{\"axis_label\":\"elapsed time since start (s)\",\"formatter\":{\"id\":\"1045\"},\"ticker\":{\"id\":\"1015\"}},\"id\":\"1014\",\"type\":\"LinearAxis\"},{\"attributes\":{},\"id\":\"1006\",\"type\":\"DataRange1d\"}],\"root_ids\":[\"1003\"]},\"title\":\"Bokeh Application\",\"version\":\"2.2.3\"}};\n",
       "  var render_items = [{\"docid\":\"4013ee5a-e65e-4bc1-9fa1-97ed1ca47d4f\",\"root_ids\":[\"1003\"],\"roots\":{\"1003\":\"77f6c896-5c63-4529-9042-b19ef14d0717\"}}];\n",
       "  root.Bokeh.embed.embed_items_notebook(docs_json, render_items);\n",
       "\n",
       "  }\n",
       "  if (root.Bokeh !== undefined) {\n",
       "    embed_document(root);\n",
       "  } else {\n",
       "    var attempts = 0;\n",
       "    var timer = setInterval(function(root) {\n",
       "      if (root.Bokeh !== undefined) {\n",
       "        clearInterval(timer);\n",
       "        embed_document(root);\n",
       "      } else {\n",
       "        attempts++;\n",
       "        if (attempts > 100) {\n",
       "          clearInterval(timer);\n",
       "          console.log(\"Bokeh: ERROR: Unable to run BokehJS code because BokehJS library is missing\");\n",
       "        }\n",
       "      }\n",
       "    }, 10, root)\n",
       "  }\n",
       "})(window);"
      ],
      "application/vnd.bokehjs_exec.v0+json": ""
     },
     "metadata": {
      "application/vnd.bokehjs_exec.v0+json": {
       "id": "1003"
      }
     },
     "output_type": "display_data"
    }
   ],
   "source": [
    "plot_timeflow(results)"
   ]
  },
  {
   "cell_type": "code",
   "execution_count": 36,
   "metadata": {
    "ExecuteTime": {
     "end_time": "2020-12-03T01:28:43.619394Z",
     "start_time": "2020-12-03T01:28:43.612823Z"
    }
   },
   "outputs": [
    {
     "data": {
      "text/plain": [
       "[10, 11, 10, 11, 10, 11, 12, 11]"
      ]
     },
     "execution_count": 36,
     "metadata": {},
     "output_type": "execute_result"
    }
   ],
   "source": [
    "[v[\"metrics\"][\"numtreescached\"] for v in client._scheduler_identity[\"workers\"].values()]"
   ]
  },
  {
   "cell_type": "code",
   "execution_count": 34,
   "metadata": {
    "ExecuteTime": {
     "end_time": "2020-12-03T01:27:45.909264Z",
     "start_time": "2020-12-03T01:27:41.685223Z"
    }
   },
   "outputs": [],
   "source": [
    "import utils\n",
    "chunks = utils.get_chunking(tuple(fnames[:2]), 500e3)[0]\n",
    "chunk = chunks[0]"
   ]
  },
  {
   "cell_type": "code",
   "execution_count": 14,
   "metadata": {
    "ExecuteTime": {
     "end_time": "2020-12-03T01:15:39.080775Z",
     "start_time": "2020-12-03T01:15:39.071725Z"
    }
   },
   "outputs": [],
   "source": [
    "from utils import use_chunk_input, DataFrameWrapper\n",
    "\n",
    "def testproc(df):\n",
    "    out = dict()\n",
    "    out[\"mycounter\"] = len(df)\n",
    "    _ = df[\"MET_pt\"]\n",
    "    return out\n",
    "\n",
    "testproc = use_chunk_input(testproc, use_tree_cache=True)"
   ]
  },
  {
   "cell_type": "code",
   "execution_count": 21,
   "metadata": {
    "ExecuteTime": {
     "end_time": "2020-12-03T01:16:33.205476Z",
     "start_time": "2020-12-03T01:16:33.191717Z"
    }
   },
   "outputs": [
    {
     "data": {
      "text/plain": [
       "{'tcp://169.228.131.202:46093': []}"
      ]
     },
     "execution_count": 21,
     "metadata": {},
     "output_type": "execute_result"
    }
   ],
   "source": [
    "def f():\n",
    "    worker = get_worker()\n",
    "    return list(worker.tree_cache.keys())\n",
    "    \n",
    "client.run(f, workers=[\"tcp://169.228.131.202:46093\"])"
   ]
  },
  {
   "cell_type": "code",
   "execution_count": 22,
   "metadata": {
    "ExecuteTime": {
     "end_time": "2020-12-03T01:16:35.760972Z",
     "start_time": "2020-12-03T01:16:34.229583Z"
    }
   },
   "outputs": [
    {
     "name": "stdout",
     "output_type": "stream",
     "text": [
      "0.2763335704803467\n",
      "CPU times: user 95 ms, sys: 7 ms, total: 102 ms\n",
      "Wall time: 1.52 s\n"
     ]
    }
   ],
   "source": [
    "%%time\n",
    "res = client.gather(client.submit(testproc,chunk, workers=[\"tcp://169.228.131.202:46093\"]))\n",
    "# print(res)\n",
    "print(res[\"t_stop\"][0]-res[\"t_start\"][0])\n",
    "# client.gather(client.submit(testproc,chunk, workers=[]))"
   ]
  }
 ],
 "metadata": {
  "kernelspec": {
   "display_name": "Python 3",
   "language": "python",
   "name": "python3"
  },
  "language_info": {
   "codemirror_mode": {
    "name": "ipython",
    "version": 3
   },
   "file_extension": ".py",
   "mimetype": "text/x-python",
   "name": "python",
   "nbconvert_exporter": "python",
   "pygments_lexer": "ipython3",
   "version": "3.7.8"
  }
 },
 "nbformat": 4,
 "nbformat_minor": 2
}
