{
 "cells": [
  {
   "cell_type": "code",
   "execution_count": 91,
   "metadata": {},
   "outputs": [
    {
     "data": {
      "text/html": [
       "\n",
       "    <div class=\"bk-root\">\n",
       "        <a href=\"https://bokeh.pydata.org\" target=\"_blank\" class=\"bk-logo bk-logo-small bk-logo-notebook\"></a>\n",
       "        <span id=\"1575\">Loading BokehJS ...</span>\n",
       "    </div>"
      ]
     },
     "metadata": {},
     "output_type": "display_data"
    },
    {
     "data": {
      "application/javascript": [
       "\n",
       "(function(root) {\n",
       "  function now() {\n",
       "    return new Date();\n",
       "  }\n",
       "\n",
       "  var force = true;\n",
       "\n",
       "  if (typeof root._bokeh_onload_callbacks === \"undefined\" || force === true) {\n",
       "    root._bokeh_onload_callbacks = [];\n",
       "    root._bokeh_is_loading = undefined;\n",
       "  }\n",
       "\n",
       "  var JS_MIME_TYPE = 'application/javascript';\n",
       "  var HTML_MIME_TYPE = 'text/html';\n",
       "  var EXEC_MIME_TYPE = 'application/vnd.bokehjs_exec.v0+json';\n",
       "  var CLASS_NAME = 'output_bokeh rendered_html';\n",
       "\n",
       "  /**\n",
       "   * Render data to the DOM node\n",
       "   */\n",
       "  function render(props, node) {\n",
       "    var script = document.createElement(\"script\");\n",
       "    node.appendChild(script);\n",
       "  }\n",
       "\n",
       "  /**\n",
       "   * Handle when an output is cleared or removed\n",
       "   */\n",
       "  function handleClearOutput(event, handle) {\n",
       "    var cell = handle.cell;\n",
       "\n",
       "    var id = cell.output_area._bokeh_element_id;\n",
       "    var server_id = cell.output_area._bokeh_server_id;\n",
       "    // Clean up Bokeh references\n",
       "    if (id != null && id in Bokeh.index) {\n",
       "      Bokeh.index[id].model.document.clear();\n",
       "      delete Bokeh.index[id];\n",
       "    }\n",
       "\n",
       "    if (server_id !== undefined) {\n",
       "      // Clean up Bokeh references\n",
       "      var cmd = \"from bokeh.io.state import curstate; print(curstate().uuid_to_server['\" + server_id + \"'].get_sessions()[0].document.roots[0]._id)\";\n",
       "      cell.notebook.kernel.execute(cmd, {\n",
       "        iopub: {\n",
       "          output: function(msg) {\n",
       "            var id = msg.content.text.trim();\n",
       "            if (id in Bokeh.index) {\n",
       "              Bokeh.index[id].model.document.clear();\n",
       "              delete Bokeh.index[id];\n",
       "            }\n",
       "          }\n",
       "        }\n",
       "      });\n",
       "      // Destroy server and session\n",
       "      var cmd = \"import bokeh.io.notebook as ion; ion.destroy_server('\" + server_id + \"')\";\n",
       "      cell.notebook.kernel.execute(cmd);\n",
       "    }\n",
       "  }\n",
       "\n",
       "  /**\n",
       "   * Handle when a new output is added\n",
       "   */\n",
       "  function handleAddOutput(event, handle) {\n",
       "    var output_area = handle.output_area;\n",
       "    var output = handle.output;\n",
       "\n",
       "    // limit handleAddOutput to display_data with EXEC_MIME_TYPE content only\n",
       "    if ((output.output_type != \"display_data\") || (!output.data.hasOwnProperty(EXEC_MIME_TYPE))) {\n",
       "      return\n",
       "    }\n",
       "\n",
       "    var toinsert = output_area.element.find(\".\" + CLASS_NAME.split(' ')[0]);\n",
       "\n",
       "    if (output.metadata[EXEC_MIME_TYPE][\"id\"] !== undefined) {\n",
       "      toinsert[toinsert.length - 1].firstChild.textContent = output.data[JS_MIME_TYPE];\n",
       "      // store reference to embed id on output_area\n",
       "      output_area._bokeh_element_id = output.metadata[EXEC_MIME_TYPE][\"id\"];\n",
       "    }\n",
       "    if (output.metadata[EXEC_MIME_TYPE][\"server_id\"] !== undefined) {\n",
       "      var bk_div = document.createElement(\"div\");\n",
       "      bk_div.innerHTML = output.data[HTML_MIME_TYPE];\n",
       "      var script_attrs = bk_div.children[0].attributes;\n",
       "      for (var i = 0; i < script_attrs.length; i++) {\n",
       "        toinsert[toinsert.length - 1].firstChild.setAttribute(script_attrs[i].name, script_attrs[i].value);\n",
       "      }\n",
       "      // store reference to server id on output_area\n",
       "      output_area._bokeh_server_id = output.metadata[EXEC_MIME_TYPE][\"server_id\"];\n",
       "    }\n",
       "  }\n",
       "\n",
       "  function register_renderer(events, OutputArea) {\n",
       "\n",
       "    function append_mime(data, metadata, element) {\n",
       "      // create a DOM node to render to\n",
       "      var toinsert = this.create_output_subarea(\n",
       "        metadata,\n",
       "        CLASS_NAME,\n",
       "        EXEC_MIME_TYPE\n",
       "      );\n",
       "      this.keyboard_manager.register_events(toinsert);\n",
       "      // Render to node\n",
       "      var props = {data: data, metadata: metadata[EXEC_MIME_TYPE]};\n",
       "      render(props, toinsert[toinsert.length - 1]);\n",
       "      element.append(toinsert);\n",
       "      return toinsert\n",
       "    }\n",
       "\n",
       "    /* Handle when an output is cleared or removed */\n",
       "    events.on('clear_output.CodeCell', handleClearOutput);\n",
       "    events.on('delete.Cell', handleClearOutput);\n",
       "\n",
       "    /* Handle when a new output is added */\n",
       "    events.on('output_added.OutputArea', handleAddOutput);\n",
       "\n",
       "    /**\n",
       "     * Register the mime type and append_mime function with output_area\n",
       "     */\n",
       "    OutputArea.prototype.register_mime_type(EXEC_MIME_TYPE, append_mime, {\n",
       "      /* Is output safe? */\n",
       "      safe: true,\n",
       "      /* Index of renderer in `output_area.display_order` */\n",
       "      index: 0\n",
       "    });\n",
       "  }\n",
       "\n",
       "  // register the mime type if in Jupyter Notebook environment and previously unregistered\n",
       "  if (root.Jupyter !== undefined) {\n",
       "    var events = require('base/js/events');\n",
       "    var OutputArea = require('notebook/js/outputarea').OutputArea;\n",
       "\n",
       "    if (OutputArea.prototype.mime_types().indexOf(EXEC_MIME_TYPE) == -1) {\n",
       "      register_renderer(events, OutputArea);\n",
       "    }\n",
       "  }\n",
       "\n",
       "  \n",
       "  if (typeof (root._bokeh_timeout) === \"undefined\" || force === true) {\n",
       "    root._bokeh_timeout = Date.now() + 5000;\n",
       "    root._bokeh_failed_load = false;\n",
       "  }\n",
       "\n",
       "  var NB_LOAD_WARNING = {'data': {'text/html':\n",
       "     \"<div style='background-color: #fdd'>\\n\"+\n",
       "     \"<p>\\n\"+\n",
       "     \"BokehJS does not appear to have successfully loaded. If loading BokehJS from CDN, this \\n\"+\n",
       "     \"may be due to a slow or bad network connection. Possible fixes:\\n\"+\n",
       "     \"</p>\\n\"+\n",
       "     \"<ul>\\n\"+\n",
       "     \"<li>re-rerun `output_notebook()` to attempt to load from CDN again, or</li>\\n\"+\n",
       "     \"<li>use INLINE resources instead, as so:</li>\\n\"+\n",
       "     \"</ul>\\n\"+\n",
       "     \"<code>\\n\"+\n",
       "     \"from bokeh.resources import INLINE\\n\"+\n",
       "     \"output_notebook(resources=INLINE)\\n\"+\n",
       "     \"</code>\\n\"+\n",
       "     \"</div>\"}};\n",
       "\n",
       "  function display_loaded() {\n",
       "    var el = document.getElementById(\"1575\");\n",
       "    if (el != null) {\n",
       "      el.textContent = \"BokehJS is loading...\";\n",
       "    }\n",
       "    if (root.Bokeh !== undefined) {\n",
       "      if (el != null) {\n",
       "        el.textContent = \"BokehJS \" + root.Bokeh.version + \" successfully loaded.\";\n",
       "      }\n",
       "    } else if (Date.now() < root._bokeh_timeout) {\n",
       "      setTimeout(display_loaded, 100)\n",
       "    }\n",
       "  }\n",
       "\n",
       "\n",
       "  function run_callbacks() {\n",
       "    try {\n",
       "      root._bokeh_onload_callbacks.forEach(function(callback) {\n",
       "        if (callback != null)\n",
       "          callback();\n",
       "      });\n",
       "    } finally {\n",
       "      delete root._bokeh_onload_callbacks\n",
       "    }\n",
       "    console.debug(\"Bokeh: all callbacks have finished\");\n",
       "  }\n",
       "\n",
       "  function load_libs(css_urls, js_urls, callback) {\n",
       "    if (css_urls == null) css_urls = [];\n",
       "    if (js_urls == null) js_urls = [];\n",
       "\n",
       "    root._bokeh_onload_callbacks.push(callback);\n",
       "    if (root._bokeh_is_loading > 0) {\n",
       "      console.debug(\"Bokeh: BokehJS is being loaded, scheduling callback at\", now());\n",
       "      return null;\n",
       "    }\n",
       "    if (js_urls == null || js_urls.length === 0) {\n",
       "      run_callbacks();\n",
       "      return null;\n",
       "    }\n",
       "    console.debug(\"Bokeh: BokehJS not loaded, scheduling load and callback at\", now());\n",
       "    root._bokeh_is_loading = css_urls.length + js_urls.length;\n",
       "\n",
       "    function on_load() {\n",
       "      root._bokeh_is_loading--;\n",
       "      if (root._bokeh_is_loading === 0) {\n",
       "        console.debug(\"Bokeh: all BokehJS libraries/stylesheets loaded\");\n",
       "        run_callbacks()\n",
       "      }\n",
       "    }\n",
       "\n",
       "    function on_error() {\n",
       "      console.error(\"failed to load \" + url);\n",
       "    }\n",
       "\n",
       "    for (var i = 0; i < css_urls.length; i++) {\n",
       "      var url = css_urls[i];\n",
       "      const element = document.createElement(\"link\");\n",
       "      element.onload = on_load;\n",
       "      element.onerror = on_error;\n",
       "      element.rel = \"stylesheet\";\n",
       "      element.type = \"text/css\";\n",
       "      element.href = url;\n",
       "      console.debug(\"Bokeh: injecting link tag for BokehJS stylesheet: \", url);\n",
       "      document.body.appendChild(element);\n",
       "    }\n",
       "\n",
       "    for (var i = 0; i < js_urls.length; i++) {\n",
       "      var url = js_urls[i];\n",
       "      var element = document.createElement('script');\n",
       "      element.onload = on_load;\n",
       "      element.onerror = on_error;\n",
       "      element.async = false;\n",
       "      element.src = url;\n",
       "      console.debug(\"Bokeh: injecting script tag for BokehJS library: \", url);\n",
       "      document.head.appendChild(element);\n",
       "    }\n",
       "  };var element = document.getElementById(\"1575\");\n",
       "  if (element == null) {\n",
       "    console.error(\"Bokeh: ERROR: autoload.js configured with elementid '1575' but no matching script tag was found. \")\n",
       "    return false;\n",
       "  }\n",
       "\n",
       "  function inject_raw_css(css) {\n",
       "    const element = document.createElement(\"style\");\n",
       "    element.appendChild(document.createTextNode(css));\n",
       "    document.body.appendChild(element);\n",
       "  }\n",
       "\n",
       "  var js_urls = [\"https://cdn.pydata.org/bokeh/release/bokeh-1.3.4.min.js\", \"https://cdn.pydata.org/bokeh/release/bokeh-widgets-1.3.4.min.js\", \"https://cdn.pydata.org/bokeh/release/bokeh-tables-1.3.4.min.js\", \"https://cdn.pydata.org/bokeh/release/bokeh-gl-1.3.4.min.js\"];\n",
       "  var css_urls = [];\n",
       "\n",
       "  var inline_js = [\n",
       "    function(Bokeh) {\n",
       "      Bokeh.set_log_level(\"info\");\n",
       "    },\n",
       "    \n",
       "    function(Bokeh) {\n",
       "      \n",
       "    },\n",
       "    function(Bokeh) {} // ensure no trailing comma for IE\n",
       "  ];\n",
       "\n",
       "  function run_inline_js() {\n",
       "    \n",
       "    if ((root.Bokeh !== undefined) || (force === true)) {\n",
       "      for (var i = 0; i < inline_js.length; i++) {\n",
       "        inline_js[i].call(root, root.Bokeh);\n",
       "      }if (force === true) {\n",
       "        display_loaded();\n",
       "      }} else if (Date.now() < root._bokeh_timeout) {\n",
       "      setTimeout(run_inline_js, 100);\n",
       "    } else if (!root._bokeh_failed_load) {\n",
       "      console.log(\"Bokeh: BokehJS failed to load within specified timeout.\");\n",
       "      root._bokeh_failed_load = true;\n",
       "    } else if (force !== true) {\n",
       "      var cell = $(document.getElementById(\"1575\")).parents('.cell').data().cell;\n",
       "      cell.output_area.append_execute_result(NB_LOAD_WARNING)\n",
       "    }\n",
       "\n",
       "  }\n",
       "\n",
       "  if (root._bokeh_is_loading === 0) {\n",
       "    console.debug(\"Bokeh: BokehJS loaded, going straight to plotting\");\n",
       "    run_inline_js();\n",
       "  } else {\n",
       "    load_libs(css_urls, js_urls, function() {\n",
       "      console.debug(\"Bokeh: BokehJS plotting callback run at\", now());\n",
       "      run_inline_js();\n",
       "    });\n",
       "  }\n",
       "}(window));"
      ],
      "application/vnd.bokehjs_load.v0+json": "\n(function(root) {\n  function now() {\n    return new Date();\n  }\n\n  var force = true;\n\n  if (typeof root._bokeh_onload_callbacks === \"undefined\" || force === true) {\n    root._bokeh_onload_callbacks = [];\n    root._bokeh_is_loading = undefined;\n  }\n\n  \n\n  \n  if (typeof (root._bokeh_timeout) === \"undefined\" || force === true) {\n    root._bokeh_timeout = Date.now() + 5000;\n    root._bokeh_failed_load = false;\n  }\n\n  var NB_LOAD_WARNING = {'data': {'text/html':\n     \"<div style='background-color: #fdd'>\\n\"+\n     \"<p>\\n\"+\n     \"BokehJS does not appear to have successfully loaded. If loading BokehJS from CDN, this \\n\"+\n     \"may be due to a slow or bad network connection. Possible fixes:\\n\"+\n     \"</p>\\n\"+\n     \"<ul>\\n\"+\n     \"<li>re-rerun `output_notebook()` to attempt to load from CDN again, or</li>\\n\"+\n     \"<li>use INLINE resources instead, as so:</li>\\n\"+\n     \"</ul>\\n\"+\n     \"<code>\\n\"+\n     \"from bokeh.resources import INLINE\\n\"+\n     \"output_notebook(resources=INLINE)\\n\"+\n     \"</code>\\n\"+\n     \"</div>\"}};\n\n  function display_loaded() {\n    var el = document.getElementById(\"1575\");\n    if (el != null) {\n      el.textContent = \"BokehJS is loading...\";\n    }\n    if (root.Bokeh !== undefined) {\n      if (el != null) {\n        el.textContent = \"BokehJS \" + root.Bokeh.version + \" successfully loaded.\";\n      }\n    } else if (Date.now() < root._bokeh_timeout) {\n      setTimeout(display_loaded, 100)\n    }\n  }\n\n\n  function run_callbacks() {\n    try {\n      root._bokeh_onload_callbacks.forEach(function(callback) {\n        if (callback != null)\n          callback();\n      });\n    } finally {\n      delete root._bokeh_onload_callbacks\n    }\n    console.debug(\"Bokeh: all callbacks have finished\");\n  }\n\n  function load_libs(css_urls, js_urls, callback) {\n    if (css_urls == null) css_urls = [];\n    if (js_urls == null) js_urls = [];\n\n    root._bokeh_onload_callbacks.push(callback);\n    if (root._bokeh_is_loading > 0) {\n      console.debug(\"Bokeh: BokehJS is being loaded, scheduling callback at\", now());\n      return null;\n    }\n    if (js_urls == null || js_urls.length === 0) {\n      run_callbacks();\n      return null;\n    }\n    console.debug(\"Bokeh: BokehJS not loaded, scheduling load and callback at\", now());\n    root._bokeh_is_loading = css_urls.length + js_urls.length;\n\n    function on_load() {\n      root._bokeh_is_loading--;\n      if (root._bokeh_is_loading === 0) {\n        console.debug(\"Bokeh: all BokehJS libraries/stylesheets loaded\");\n        run_callbacks()\n      }\n    }\n\n    function on_error() {\n      console.error(\"failed to load \" + url);\n    }\n\n    for (var i = 0; i < css_urls.length; i++) {\n      var url = css_urls[i];\n      const element = document.createElement(\"link\");\n      element.onload = on_load;\n      element.onerror = on_error;\n      element.rel = \"stylesheet\";\n      element.type = \"text/css\";\n      element.href = url;\n      console.debug(\"Bokeh: injecting link tag for BokehJS stylesheet: \", url);\n      document.body.appendChild(element);\n    }\n\n    for (var i = 0; i < js_urls.length; i++) {\n      var url = js_urls[i];\n      var element = document.createElement('script');\n      element.onload = on_load;\n      element.onerror = on_error;\n      element.async = false;\n      element.src = url;\n      console.debug(\"Bokeh: injecting script tag for BokehJS library: \", url);\n      document.head.appendChild(element);\n    }\n  };var element = document.getElementById(\"1575\");\n  if (element == null) {\n    console.error(\"Bokeh: ERROR: autoload.js configured with elementid '1575' but no matching script tag was found. \")\n    return false;\n  }\n\n  function inject_raw_css(css) {\n    const element = document.createElement(\"style\");\n    element.appendChild(document.createTextNode(css));\n    document.body.appendChild(element);\n  }\n\n  var js_urls = [\"https://cdn.pydata.org/bokeh/release/bokeh-1.3.4.min.js\", \"https://cdn.pydata.org/bokeh/release/bokeh-widgets-1.3.4.min.js\", \"https://cdn.pydata.org/bokeh/release/bokeh-tables-1.3.4.min.js\", \"https://cdn.pydata.org/bokeh/release/bokeh-gl-1.3.4.min.js\"];\n  var css_urls = [];\n\n  var inline_js = [\n    function(Bokeh) {\n      Bokeh.set_log_level(\"info\");\n    },\n    \n    function(Bokeh) {\n      \n    },\n    function(Bokeh) {} // ensure no trailing comma for IE\n  ];\n\n  function run_inline_js() {\n    \n    if ((root.Bokeh !== undefined) || (force === true)) {\n      for (var i = 0; i < inline_js.length; i++) {\n        inline_js[i].call(root, root.Bokeh);\n      }if (force === true) {\n        display_loaded();\n      }} else if (Date.now() < root._bokeh_timeout) {\n      setTimeout(run_inline_js, 100);\n    } else if (!root._bokeh_failed_load) {\n      console.log(\"Bokeh: BokehJS failed to load within specified timeout.\");\n      root._bokeh_failed_load = true;\n    } else if (force !== true) {\n      var cell = $(document.getElementById(\"1575\")).parents('.cell').data().cell;\n      cell.output_area.append_execute_result(NB_LOAD_WARNING)\n    }\n\n  }\n\n  if (root._bokeh_is_loading === 0) {\n    console.debug(\"Bokeh: BokehJS loaded, going straight to plotting\");\n    run_inline_js();\n  } else {\n    load_libs(css_urls, js_urls, function() {\n      console.debug(\"Bokeh: BokehJS plotting callback run at\", now());\n      run_inline_js();\n    });\n  }\n}(window));"
     },
     "metadata": {},
     "output_type": "display_data"
    }
   ],
   "source": [
    "%matplotlib inline\n",
    "\n",
    "import distributed\n",
    "from dask.distributed import Client, progress\n",
    "from dask.diagnostics import Profiler, ResourceProfiler, CacheProfiler\n",
    "import numpy as np\n",
    "import pandas as pd\n",
    "import uproot\n",
    "import backports.lzma\n",
    "\n",
    "import sys\n",
    "sys.path.insert(0,\"../\")\n",
    "import utils\n",
    "import glob\n",
    "import uproot_methods\n",
    "import matplotlib.pyplot as plt\n",
    "\n",
    "utils.bokeh_output_notebook()"
   ]
  },
  {
   "cell_type": "markdown",
   "metadata": {},
   "source": [
    "### useful links\n",
    "* [custom use cases](https://webcache.googleusercontent.com/search?q=cache:ibMAJ_NTsgAJ:https://github.com/dask/dask/blob/master/docs/source/use-cases.rst+&cd=6&hl=en&ct=clnk&gl=us)\n",
    "* [profiling/scaling](http://matthewrocklin.com/blog/work/2017/07/03/scaling)"
   ]
  },
  {
   "cell_type": "code",
   "execution_count": 92,
   "metadata": {},
   "outputs": [
    {
     "data": {
      "text/html": [
       "<table style=\"border: 2px solid white;\">\n",
       "<tr>\n",
       "<td style=\"vertical-align: top; border: 0px solid white\">\n",
       "<h3 style=\"text-align: left;\">Client</h3>\n",
       "<ul style=\"text-align: left; list-style: none; margin: 0; padding: 0;\">\n",
       "  <li><b>Scheduler: </b>tcp://uaf-1.t2.ucsd.edu:50123</li>\n",
       "  <li><b>Dashboard: </b><a href='http://uaf-1.t2.ucsd.edu:8787/status' target='_blank'>http://uaf-1.t2.ucsd.edu:8787/status</a>\n",
       "</ul>\n",
       "</td>\n",
       "<td style=\"vertical-align: top; border: 0px solid white\">\n",
       "<h3 style=\"text-align: left;\">Cluster</h3>\n",
       "<ul style=\"text-align: left; list-style:none; margin: 0; padding: 0;\">\n",
       "  <li><b>Workers: </b>30</li>\n",
       "  <li><b>Cores: </b>30</li>\n",
       "  <li><b>Memory: </b>240.00 GB</li>\n",
       "</ul>\n",
       "</td>\n",
       "</tr>\n",
       "</table>"
      ],
      "text/plain": [
       "<Client: scheduler='tcp://169.228.130.37:50123' processes=30 cores=30>"
      ]
     },
     "execution_count": 92,
     "metadata": {},
     "output_type": "execute_result"
    }
   ],
   "source": [
    "c = Client(\"uaf-1.t2.ucsd.edu:50123\")\n",
    "c"
   ]
  },
  {
   "cell_type": "code",
   "execution_count": 93,
   "metadata": {},
   "outputs": [
    {
     "data": {
      "text/html": [
       "<iframe src=\"http://localhost:8787/status\" width=\"100%\" height=\"500px\"></iframe>\n"
      ],
      "text/plain": [
       "<IPython.core.display.HTML object>"
      ]
     },
     "metadata": {},
     "output_type": "display_data"
    }
   ],
   "source": [
    "%%html\n",
    "<iframe src=\"http://localhost:8787/status\" width=\"100%\" height=\"500px\"></iframe>"
   ]
  },
  {
   "cell_type": "markdown",
   "metadata": {},
   "source": [
    "Initialize a cache for branches and also one for tree objects on each worker"
   ]
  },
  {
   "cell_type": "code",
   "execution_count": 164,
   "metadata": {},
   "outputs": [],
   "source": [
    "def initialize_arraycache():\n",
    "    from distributed import get_worker\n",
    "    import uproot\n",
    "    worker = get_worker()\n",
    "    worker.cache = uproot.ArrayCache(\"6 GB\")\n",
    "    worker.treecache = {}\n",
    "    \n",
    "c.run(initialize_arraycache);"
   ]
  },
  {
   "cell_type": "markdown",
   "metadata": {},
   "source": [
    "Register a custom metric for the dashboard \"Workers\" tab\n",
    "to report the uproot ArrayCache size, and also the number of\n",
    "tree objects we have cached. Dask distributed web info [here](https://distributed.readthedocs.io/en/latest/web.html)."
   ]
  },
  {
   "cell_type": "code",
   "execution_count": 165,
   "metadata": {},
   "outputs": [],
   "source": [
    "def cachesize_metric():\n",
    "    def f(worker):\n",
    "        if hasattr(worker,\"cache\"):\n",
    "            return \"{:.2f}GB\".format(worker.cache._cache.currsize/1e9)\n",
    "        return 0\n",
    "    return f\n",
    "\n",
    "def treecache_metric():\n",
    "    def f(worker):\n",
    "        if hasattr(worker,\"treecache\"):\n",
    "            return len(list(worker.treecache.keys()))\n",
    "        return 0\n",
    "    return f\n",
    "\n",
    "def register_metrics(dask_worker):\n",
    "    dask_worker.metrics[\"cachesize\"] = cachesize_metric()\n",
    "    dask_worker.metrics[\"treecache\"] = treecache_metric()\n",
    "\n",
    "c.run(register_metrics);"
   ]
  },
  {
   "cell_type": "code",
   "execution_count": 166,
   "metadata": {},
   "outputs": [
    {
     "name": "stdout",
     "output_type": "stream",
     "text": [
      "CPU times: user 46 ms, sys: 7 ms, total: 53 ms\n",
      "Wall time: 210 ms\n"
     ]
    },
    {
     "data": {
      "text/plain": [
       "(100,)"
      ]
     },
     "execution_count": 166,
     "metadata": {},
     "output_type": "execute_result"
    }
   ],
   "source": [
    "%%time\n",
    "futures = c.map(lambda x:x, range(100),pure=False)\n",
    "np.array(c.gather(futures)).shape"
   ]
  },
  {
   "cell_type": "code",
   "execution_count": 167,
   "metadata": {},
   "outputs": [
    {
     "name": "stdout",
     "output_type": "stream",
     "text": [
      "223 chunks of 100 files, with a total of 1.7276e+08 events\n"
     ]
    }
   ],
   "source": [
    "fnames = sorted(glob.glob(\"/hadoop/cms/store/group/snt/nanoaod/DoubleMuon__Run*/*.root\"))[:100]\n",
    "chunks, total_nevents = utils.get_chunking(tuple(fnames),int(1.0e6))\n",
    "print(\"{} chunks of {} files, with a total of {:.5g} events\".format(len(chunks),len(fnames),total_nevents))"
   ]
  },
  {
   "cell_type": "code",
   "execution_count": 168,
   "metadata": {},
   "outputs": [
    {
     "name": "stdout",
     "output_type": "stream",
     "text": [
      "CPU times: user 1.01 s, sys: 74 ms, total: 1.08 s\n",
      "Wall time: 1.69 s\n"
     ]
    },
    {
     "data": {
      "text/plain": [
       "5489"
      ]
     },
     "execution_count": 168,
     "metadata": {},
     "output_type": "execute_result"
    }
   ],
   "source": [
    "%%time\n",
    "def get_hist(args):\n",
    "    fname,entrystart,entrystop = args\n",
    "    try:\n",
    "        from distributed import get_worker\n",
    "        worker = get_worker()\n",
    "        # array cache\n",
    "        cache = worker.cache\n",
    "        # also cache the tree object (otherwise opening file+getting tree is ~0.7s overhead)\n",
    "        if fname in worker.treecache:\n",
    "            t = worker.treecache[fname]\n",
    "        else:\n",
    "            f = uproot.open(fname)\n",
    "            t = f[\"Events\"]\n",
    "            worker.treecache[fname] = t\n",
    "    except:\n",
    "        cache = None\n",
    "        f = uproot.open(fname)\n",
    "        t = f[\"Events\"]\n",
    "    extra = dict(outputtype=tuple,namedecode=\"ascii\",entrystart=entrystart,entrystop=entrystop,cache=cache)\n",
    "    mus = uproot_methods.TLorentzVectorArray.from_ptetaphim(\n",
    "        *t.arrays([\"Muon_pt\",\"Muon_eta\",\"Muon_phi\",\"Muon_mass\"],**extra)\n",
    "    )\n",
    "    mus = mus[mus.counts==2]\n",
    "    mll = (mus[:,0]+mus[:,1]).mass\n",
    "    bins = np.logspace(np.log10(0.5),np.log10(1000),num=300)\n",
    "    counts,_ = np.histogram(np.clip(mll,bins[0],bins[-1]),bins=bins)\n",
    "    return counts\n",
    "\n",
    "x = get_hist((chunks[0][0],chunks[0][1],chunks[0][2]//20))\n",
    "x.sum()"
   ]
  },
  {
   "cell_type": "markdown",
   "metadata": {},
   "source": [
    "Run the invariant mass example. `pure=False` to prevent dask caching results, so that we can run multiple times for studying purposes."
   ]
  },
  {
   "cell_type": "code",
   "execution_count": 169,
   "metadata": {},
   "outputs": [
    {
     "name": "stdout",
     "output_type": "stream",
     "text": [
      "CPU times: user 1.45 s, sys: 131 ms, total: 1.58 s\n",
      "Wall time: 1min 40s\n"
     ]
    },
    {
     "data": {
      "text/plain": [
       "223"
      ]
     },
     "execution_count": 169,
     "metadata": {},
     "output_type": "execute_result"
    }
   ],
   "source": [
    "%%time\n",
    "futures = c.map(get_hist,chunks,pure=False)\n",
    "results = c.gather(futures)\n",
    "len(results)"
   ]
  },
  {
   "cell_type": "markdown",
   "metadata": {},
   "source": [
    "Get the task stream from the scheduler (only the last `len(futures)` tasks, to correspond to the previous `map`).\n",
    "Then plot the tasks stream and an estimate of the event rate, which additionally needs the chunking information."
   ]
  },
  {
   "cell_type": "code",
   "execution_count": 170,
   "metadata": {},
   "outputs": [
    {
     "data": {
      "text/html": [
       "\n",
       "\n",
       "\n",
       "\n",
       "\n",
       "\n",
       "  <div class=\"bk-root\" id=\"6514ab6c-39cc-427f-bcdf-8fdf14e40c7a\" data-root-id=\"2905\"></div>\n"
      ]
     },
     "metadata": {},
     "output_type": "display_data"
    },
    {
     "data": {
      "application/javascript": [
       "(function(root) {\n",
       "  function embed_document(root) {\n",
       "    \n",
       "  var docs_json = {\"dd43e6e9-bc96-4e45-b719-15badf28ddac\":{\"roots\":{\"references\":[{\"attributes\":{\"below\":[{\"id\":\"2916\",\"type\":\"LinearAxis\"}],\"center\":[{\"id\":\"2920\",\"type\":\"Grid\"},{\"id\":\"2924\",\"type\":\"Grid\"}],\"left\":[{\"id\":\"2921\",\"type\":\"CategoricalAxis\"}],\"plot_height\":350,\"plot_width\":800,\"renderers\":[{\"id\":\"2944\",\"type\":\"GlyphRenderer\"}],\"title\":{\"id\":\"2906\",\"type\":\"Title\"},\"toolbar\":{\"id\":\"2932\",\"type\":\"Toolbar\"},\"x_range\":{\"id\":\"2908\",\"type\":\"Range1d\"},\"x_scale\":{\"id\":\"2912\",\"type\":\"LinearScale\"},\"y_range\":{\"id\":\"2910\",\"type\":\"FactorRange\"},\"y_scale\":{\"id\":\"2914\",\"type\":\"CategoricalScale\"}},\"id\":\"2905\",\"subtype\":\"Figure\",\"type\":\"Plot\"},{\"attributes\":{\"overlay\":{\"id\":\"3057\",\"type\":\"BoxAnnotation\"}},\"id\":\"2927\",\"type\":\"BoxZoomTool\"},{\"attributes\":{\"text\":\"efficiency (filled/total) = 85.6%, median task time = 11.93s, median intertask time = 0.00s\"},\"id\":\"2906\",\"type\":\"Title\"},{\"attributes\":{},\"id\":\"2929\",\"type\":\"ResetTool\"},{\"attributes\":{},\"id\":\"2925\",\"type\":\"PanTool\"},{\"attributes\":{\"data_source\":{\"id\":\"2940\",\"type\":\"ColumnDataSource\"},\"glyph\":{\"id\":\"2942\",\"type\":\"HBar\"},\"hover_glyph\":null,\"muted_glyph\":null,\"nonselection_glyph\":{\"id\":\"2943\",\"type\":\"HBar\"},\"selection_glyph\":null,\"view\":{\"id\":\"2945\",\"type\":\"CDSView\"}},\"id\":\"2944\",\"type\":\"GlyphRenderer\"},{\"attributes\":{\"dimension\":1,\"ticker\":{\"id\":\"2922\",\"type\":\"CategoricalTicker\"}},\"id\":\"2924\",\"type\":\"Grid\"},{\"attributes\":{},\"id\":\"2930\",\"type\":\"HelpTool\"},{\"attributes\":{\"callback\":null,\"factors\":[\"169.228.130.140:33979\",\"169.228.130.140:34342\",\"169.228.130.140:37420\",\"169.228.130.140:40632\",\"169.228.130.140:40682\",\"169.228.130.140:46822\",\"169.228.130.152:34137\",\"169.228.130.209:37328\",\"169.228.130.211:42681\",\"169.228.131.223:34631\",\"169.228.131.227:45058\",\"169.228.131.227:45827\",\"169.228.131.228:42478\",\"169.228.131.233:35635\",\"169.228.131.252:42023\",\"169.228.131.35:35053\",\"169.228.131.37:34380\",\"169.228.131.37:39450\",\"169.228.131.37:39454\",\"169.228.131.76:39800\",\"169.228.131.98:33676\",\"169.228.132.139:32849\",\"169.228.132.139:38456\",\"169.228.132.139:39876\",\"169.228.132.156:33816\",\"169.228.132.156:34147\",\"169.228.132.156:39066\",\"169.228.132.156:45183\",\"169.228.132.156:46658\",\"169.228.132.181:7452\"]},\"id\":\"2910\",\"type\":\"FactorRange\"},{\"attributes\":{\"source\":{\"id\":\"2940\",\"type\":\"ColumnDataSource\"}},\"id\":\"2945\",\"type\":\"CDSView\"},{\"attributes\":{},\"id\":\"2917\",\"type\":\"BasicTicker\"},{\"attributes\":{},\"id\":\"2912\",\"type\":\"LinearScale\"},{\"attributes\":{\"fill_alpha\":{\"value\":0.1},\"fill_color\":{\"value\":\"#1f77b4\"},\"height\":{\"value\":1.0},\"left\":{\"field\":\"tstart\"},\"line_alpha\":{\"value\":0.1},\"line_color\":{\"value\":\"#1f77b4\"},\"right\":{\"field\":\"tstop\"},\"y\":{\"field\":\"worker\"}},\"id\":\"2943\",\"type\":\"HBar\"},{\"attributes\":{},\"id\":\"2922\",\"type\":\"CategoricalTicker\"},{\"attributes\":{},\"id\":\"2914\",\"type\":\"CategoricalScale\"},{\"attributes\":{},\"id\":\"2928\",\"type\":\"SaveTool\"},{\"attributes\":{},\"id\":\"3051\",\"type\":\"BasicTickFormatter\"},{\"attributes\":{\"callback\":null,\"end\":100.54504537582397},\"id\":\"2908\",\"type\":\"Range1d\"},{\"attributes\":{},\"id\":\"2926\",\"type\":\"WheelZoomTool\"},{\"attributes\":{\"active_drag\":\"auto\",\"active_inspect\":\"auto\",\"active_multi\":null,\"active_scroll\":\"auto\",\"active_tap\":\"auto\",\"tools\":[{\"id\":\"2925\",\"type\":\"PanTool\"},{\"id\":\"2926\",\"type\":\"WheelZoomTool\"},{\"id\":\"2927\",\"type\":\"BoxZoomTool\"},{\"id\":\"2928\",\"type\":\"SaveTool\"},{\"id\":\"2929\",\"type\":\"ResetTool\"},{\"id\":\"2930\",\"type\":\"HelpTool\"},{\"id\":\"2931\",\"type\":\"HoverTool\"}]},\"id\":\"2932\",\"type\":\"Toolbar\"},{\"attributes\":{},\"id\":\"3053\",\"type\":\"CategoricalTickFormatter\"},{\"attributes\":{\"axis_label\":\"elapsed time since start (s)\",\"formatter\":{\"id\":\"3051\",\"type\":\"BasicTickFormatter\"},\"ticker\":{\"id\":\"2917\",\"type\":\"BasicTicker\"}},\"id\":\"2916\",\"type\":\"LinearAxis\"},{\"attributes\":{\"ticker\":{\"id\":\"2917\",\"type\":\"BasicTicker\"}},\"id\":\"2920\",\"type\":\"Grid\"},{\"attributes\":{},\"id\":\"3055\",\"type\":\"Selection\"},{\"attributes\":{\"fill_color\":{\"value\":\"#1f77b4\"},\"height\":{\"value\":1.0},\"left\":{\"field\":\"tstart\"},\"right\":{\"field\":\"tstop\"},\"y\":{\"field\":\"worker\"}},\"id\":\"2942\",\"type\":\"HBar\"},{\"attributes\":{\"axis_label\":\"worker\",\"formatter\":{\"id\":\"3053\",\"type\":\"CategoricalTickFormatter\"},\"ticker\":{\"id\":\"2922\",\"type\":\"CategoricalTicker\"}},\"id\":\"2921\",\"type\":\"CategoricalAxis\"},{\"attributes\":{},\"id\":\"3056\",\"type\":\"UnionRenderers\"},{\"attributes\":{\"callback\":null,\"data\":{\"duration\":{\"__ndarray__\":\"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\",\"dtype\":\"float64\",\"shape\":[223]},\"index\":[2,49,70,113,157,203,5,7,54,73,116,183,215,24,67,74,114,156,159,189,199,25,41,96,126,169,214,14,50,100,133,180,222,23,61,76,86,123,129,163,208,32,62,84,122,166,192,1,28,38,64,79,111,128,155,188,196,15,48,90,120,152,190,220,19,58,95,139,171,219,9,34,46,68,85,94,98,118,131,147,162,193,221,17,35,66,107,124,148,181,218,10,51,92,102,146,164,205,29,40,78,125,140,191,211,21,55,88,115,168,216,27,56,99,119,151,187,195,22,47,75,106,109,144,175,198,6,44,80,101,134,158,194,12,43,72,104,138,167,177,201,4,39,89,137,182,197,16,42,59,65,69,105,135,143,161,186,210,36,53,97,141,185,202,71,117,132,176,213,8,30,81,130,178,212,18,45,77,110,145,150,173,206,0,31,37,60,103,142,170,204,13,20,57,87,127,153,184,209,26,63,93,112,149,172,207,3,11,52,83,91,121,154,160,200,33,82,108,136,165,174,179,217],\"tstart\":{\"__ndarray__\":\"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\",\"dtype\":\"float64\",\"shape\":[223]},\"tstop\":{\"__ndarray__\":\"AAAAQP4bBkAAAAA82s41QAAAALyzlDxAAAAAZDxuR0AAAABwSQBQQAAAAJDgxFRAAAAAgBVVFUAAAAAAYBIeQAAAACSGEjZAAAAALAtlPUAAAABmcLJHQAAAAM8KdVJAAAAA7Go8VkAAAABg8hgrQAAAADzWWTpAAAAAhE0zPkAAAAC2ro5HQAAAABCt+09AAAAAus52UEAAAAAEFARTQAAAAJASjlRAAAAAgAc1K0AAAABcr8MzQAAAALgpP0JAAAAABpoGSUAAAACD9QxRQAAAAJyGJVZAAAAAULfUJEAAAADQW9E1QAAAALpfkENAAAAAKMB0SkAAAADEvUJSQAAAAAbiIllAAAAA4OQQK0AAAADoZq04QAAAACg4oj5AAAAAXnn8QEAAAAByT4dIQAAAAD7+kUlAAAAA6b+xUEAAAABCCD1VQAAAAEip4i9AAAAAoCZZOUAAAAB82KhAQAAAALCOekhAAAAALmjzUEAAAADdYZhTQAAAAGBSnQFAAAAACLWuLEAAAAD84yszQAAAAOxnsTlAAAAAsIV1P0AAAABc6+VGQAAAAEIoGElAAAAAQC+yT0AAAACBWM5SQAAAACsqclRAAAAASBcMJUAAAAA8Y4k1QAAAALTLl0FAAAAACKVXSEAAAAAW+sROQAAAAK5VD1NAAAAAvHcgWEAAAADApvQnQAAAAMCVYThAAAAATh42QkAAAABY3sJKQAAAANNWSlFAAAAA1lwPWEAAAAAgJxkjQAAAAIwfTzFAAAAARGNWNUAAAACYsZs7QAAAALw32kBAAAAA1EIyQkAAAACwIKdCQAAAAKwTN0hAAAAASoopSkAAAAA2WA9OQAAAAI5nmlBAAAAACIadU0AAAAArvHtYQAAAAJBYFydAAAAAmBG2MUAAAAAEsko6QAAAAJB+U0VAAAAAhvO0SEAAAACyZhJOQAAAAPR6ZFJAAAAA6yewVkAAAADQKIYjQAAAAPQZ3jVAAAAADlHvQUAAAADA2CJEQAAAACat2k1AAAAAzJDfUEAAAAD6udFUQAAAAMC11S5AAAAAwP2KM0AAAADg6Ps+QAAAAGw03khAAAAA3LMtS0AAAACbOJVTQAAAANu/YFVAAAAAKJ9/KEAAAACslqI2QAAAAAIbSEFAAAAA6mSUR0AAAAA8dANRQAAAAJSdSFZAAAAASOfXK0AAAACwIU04QAAAAPC8U0NAAAAAppZBSEAAAAAYGI9OQAAAAEj0zFJAAAAAJfLbU0AAAADY7AwpQAAAADj/WTVAAAAAaGJZPkAAAAAuNVFFQAAAAI6u4kVAAAAARP/lTEAAAADbq15RQAAAANqCgFRAAAAA4ACSGEAAAABM2C40QAAAAOwapj9AAAAAtu78Q0AAAAB+3IVKQAAAAOMQI1BAAAAAGVnRU0AAAACYe0EkQAAAADD99zNAAAAAaLcZPUAAAAD6RVhEQAAAAK5kwUpAAAAAdfP0UEAAAADpp5VRQAAAAEJEs1RAAAAAoNAZFEAAAAD0gFIzQAAAAHI/i0FAAAAA/rjASkAAAAD6jGhSQAAAAGkOfFRAAAAAIM8hJUAAAAA81O4zQAAAABD7YzhAAAAACC7YOUAAAAAcRs47QAAAAOKaN0VAAAAAaFqNSkAAAACIoQZMQAAAAJAhllBAAAAABtnKUkAAAACQkl5VQAAAAASfGzJAAAAArIkHNkAAAAC4mFlCQAAAAJ5YjUtAAAAANiS/UkAAAABbBsNUQAAAAKjKBD1AAAAA/KjhR0AAAAAyZVpKQAAAADLqhlFAAAAANu/3VUAAAABQJA8hQAAAAJDuPy9AAAAAEmMHQEAAAACCFCVKQAAAAGM1rlFAAAAAelbaVUAAAABgSY4nQAAAAIRZNzVAAAAAlGXqPkAAAAB0bOdFQAAAABTLu01AAAAAxF9pTkAAAAAEM1BRQAAAANV02FRAAAAAwLMc/D8AAABgHUsvQAAAAEiDIDJAAAAAlFebOEAAAAA4iC5EQAAAAFR69ktAAAAAWGA8UUAAAAAo781UQAAAAOgoliRAAAAAsLcHKEAAAADYlV84QAAAADKlR0FAAAAAyOwGSUAAAAAqsgVPQAAAAOOIsVJAAAAALc8+VUAAAABQU7ErQAAAAGzEsDlAAAAANsMlQkAAAAAsOFRHQAAAAIT9J05AAAAAv3ZPUUAAAABOWPZUQAAAALAqwxNAAAAAqH43JEAAAAAoUeQ1QAAAAGBpn0BAAAAAVJylQUAAAAAgpW5IQAAAAB5yYk9AAAAAi/h5UEAAAACry45UQAAAAGj8jjBAAAAAqAoxQEAAAADCooVFQAAAAKJhpkpAAAAACE3oUEAAAAAf4lBRQAAAAMilI1JAAAAAs9VOVkA=\",\"dtype\":\"float64\",\"shape\":[223]},\"worker\":[\"169.228.130.140:33979\",\"169.228.130.140:33979\",\"169.228.130.140:33979\",\"169.228.130.140:33979\",\"169.228.130.140:33979\",\"169.228.130.140:33979\",\"169.228.130.140:34342\",\"169.228.130.140:34342\",\"169.228.130.140:34342\",\"169.228.130.140:34342\",\"169.228.130.140:34342\",\"169.228.130.140:34342\",\"169.228.130.140:34342\",\"169.228.130.140:37420\",\"169.228.130.140:37420\",\"169.228.130.140:37420\",\"169.228.130.140:37420\",\"169.228.130.140:37420\",\"169.228.130.140:37420\",\"169.228.130.140:37420\",\"169.228.130.140:37420\",\"169.228.130.140:40632\",\"169.228.130.140:40632\",\"169.228.130.140:40632\",\"169.228.130.140:40632\",\"169.228.130.140:40632\",\"169.228.130.140:40632\",\"169.228.130.140:40682\",\"169.228.130.140:40682\",\"169.228.130.140:40682\",\"169.228.130.140:40682\",\"169.228.130.140:40682\",\"169.228.130.140:40682\",\"169.228.130.140:46822\",\"169.228.130.140:46822\",\"169.228.130.140:46822\",\"169.228.130.140:46822\",\"169.228.130.140:46822\",\"169.228.130.140:46822\",\"169.228.130.140:46822\",\"169.228.130.140:46822\",\"169.228.130.152:34137\",\"169.228.130.152:34137\",\"169.228.130.152:34137\",\"169.228.130.152:34137\",\"169.228.130.152:34137\",\"169.228.130.152:34137\",\"169.228.130.209:37328\",\"169.228.130.209:37328\",\"169.228.130.209:37328\",\"169.228.130.209:37328\",\"169.228.130.209:37328\",\"169.228.130.209:37328\",\"169.228.130.209:37328\",\"169.228.130.209:37328\",\"169.228.130.209:37328\",\"169.228.130.209:37328\",\"169.228.130.211:42681\",\"169.228.130.211:42681\",\"169.228.130.211:42681\",\"169.228.130.211:42681\",\"169.228.130.211:42681\",\"169.228.130.211:42681\",\"169.228.130.211:42681\",\"169.228.131.223:34631\",\"169.228.131.223:34631\",\"169.228.131.223:34631\",\"169.228.131.223:34631\",\"169.228.131.223:34631\",\"169.228.131.223:34631\",\"169.228.131.227:45058\",\"169.228.131.227:45058\",\"169.228.131.227:45058\",\"169.228.131.227:45058\",\"169.228.131.227:45058\",\"169.228.131.227:45058\",\"169.228.131.227:45058\",\"169.228.131.227:45058\",\"169.228.131.227:45058\",\"169.228.131.227:45058\",\"169.228.131.227:45058\",\"169.228.131.227:45058\",\"169.228.131.227:45058\",\"169.228.131.227:45827\",\"169.228.131.227:45827\",\"169.228.131.227:45827\",\"169.228.131.227:45827\",\"169.228.131.227:45827\",\"169.228.131.227:45827\",\"169.228.131.227:45827\",\"169.228.131.227:45827\",\"169.228.131.228:42478\",\"169.228.131.228:42478\",\"169.228.131.228:42478\",\"169.228.131.228:42478\",\"169.228.131.228:42478\",\"169.228.131.228:42478\",\"169.228.131.228:42478\",\"169.228.131.233:35635\",\"169.228.131.233:35635\",\"169.228.131.233:35635\",\"169.228.131.233:35635\",\"169.228.131.233:35635\",\"169.228.131.233:35635\",\"169.228.131.233:35635\",\"169.228.131.252:42023\",\"169.228.131.252:42023\",\"169.228.131.252:42023\",\"169.228.131.252:42023\",\"169.228.131.252:42023\",\"169.228.131.252:42023\",\"169.228.131.35:35053\",\"169.228.131.35:35053\",\"169.228.131.35:35053\",\"169.228.131.35:35053\",\"169.228.131.35:35053\",\"169.228.131.35:35053\",\"169.228.131.35:35053\",\"169.228.131.37:34380\",\"169.228.131.37:34380\",\"169.228.131.37:34380\",\"169.228.131.37:34380\",\"169.228.131.37:34380\",\"169.228.131.37:34380\",\"169.228.131.37:34380\",\"169.228.131.37:34380\",\"169.228.131.37:39450\",\"169.228.131.37:39450\",\"169.228.131.37:39450\",\"169.228.131.37:39450\",\"169.228.131.37:39450\",\"169.228.131.37:39450\",\"169.228.131.37:39450\",\"169.228.131.37:39454\",\"169.228.131.37:39454\",\"169.228.131.37:39454\",\"169.228.131.37:39454\",\"169.228.131.37:39454\",\"169.228.131.37:39454\",\"169.228.131.37:39454\",\"169.228.131.37:39454\",\"169.228.131.76:39800\",\"169.228.131.76:39800\",\"169.228.131.76:39800\",\"169.228.131.76:39800\",\"169.228.131.76:39800\",\"169.228.131.76:39800\",\"169.228.131.98:33676\",\"169.228.131.98:33676\",\"169.228.131.98:33676\",\"169.228.131.98:33676\",\"169.228.131.98:33676\",\"169.228.131.98:33676\",\"169.228.131.98:33676\",\"169.228.131.98:33676\",\"169.228.131.98:33676\",\"169.228.131.98:33676\",\"169.228.131.98:33676\",\"169.228.132.139:32849\",\"169.228.132.139:32849\",\"169.228.132.139:32849\",\"169.228.132.139:32849\",\"169.228.132.139:32849\",\"169.228.132.139:32849\",\"169.228.132.139:38456\",\"169.228.132.139:38456\",\"169.228.132.139:38456\",\"169.228.132.139:38456\",\"169.228.132.139:38456\",\"169.228.132.139:39876\",\"169.228.132.139:39876\",\"169.228.132.139:39876\",\"169.228.132.139:39876\",\"169.228.132.139:39876\",\"169.228.132.139:39876\",\"169.228.132.156:33816\",\"169.228.132.156:33816\",\"169.228.132.156:33816\",\"169.228.132.156:33816\",\"169.228.132.156:33816\",\"169.228.132.156:33816\",\"169.228.132.156:33816\",\"169.228.132.156:33816\",\"169.228.132.156:34147\",\"169.228.132.156:34147\",\"169.228.132.156:34147\",\"169.228.132.156:34147\",\"169.228.132.156:34147\",\"169.228.132.156:34147\",\"169.228.132.156:34147\",\"169.228.132.156:34147\",\"169.228.132.156:39066\",\"169.228.132.156:39066\",\"169.228.132.156:39066\",\"169.228.132.156:39066\",\"169.228.132.156:39066\",\"169.228.132.156:39066\",\"169.228.132.156:39066\",\"169.228.132.156:39066\",\"169.228.132.156:45183\",\"169.228.132.156:45183\",\"169.228.132.156:45183\",\"169.228.132.156:45183\",\"169.228.132.156:45183\",\"169.228.132.156:45183\",\"169.228.132.156:45183\",\"169.228.132.156:46658\",\"169.228.132.156:46658\",\"169.228.132.156:46658\",\"169.228.132.156:46658\",\"169.228.132.156:46658\",\"169.228.132.156:46658\",\"169.228.132.156:46658\",\"169.228.132.156:46658\",\"169.228.132.156:46658\",\"169.228.132.181:7452\",\"169.228.132.181:7452\",\"169.228.132.181:7452\",\"169.228.132.181:7452\",\"169.228.132.181:7452\",\"169.228.132.181:7452\",\"169.228.132.181:7452\",\"169.228.132.181:7452\"]},\"selected\":{\"id\":\"3055\",\"type\":\"Selection\"},\"selection_policy\":{\"id\":\"3056\",\"type\":\"UnionRenderers\"}},\"id\":\"2940\",\"type\":\"ColumnDataSource\"},{\"attributes\":{\"bottom_units\":\"screen\",\"fill_alpha\":{\"value\":0.5},\"fill_color\":{\"value\":\"lightgrey\"},\"left_units\":\"screen\",\"level\":\"overlay\",\"line_alpha\":{\"value\":1.0},\"line_color\":{\"value\":\"black\"},\"line_dash\":[4,4],\"line_width\":{\"value\":2},\"render_mode\":\"css\",\"right_units\":\"screen\",\"top_units\":\"screen\"},\"id\":\"3057\",\"type\":\"BoxAnnotation\"},{\"attributes\":{\"callback\":null,\"tooltips\":[[\"worker\",\"@worker\"],[\"start\",\"@{tstart}s\"],[\"stop\",\"@{tstop}s\"],[\"duration\",\"@{duration}s\"]]},\"id\":\"2931\",\"type\":\"HoverTool\"}],\"root_ids\":[\"2905\"]},\"title\":\"Bokeh Application\",\"version\":\"1.3.4\"}};\n",
       "  var render_items = [{\"docid\":\"dd43e6e9-bc96-4e45-b719-15badf28ddac\",\"roots\":{\"2905\":\"6514ab6c-39cc-427f-bcdf-8fdf14e40c7a\"}}];\n",
       "  root.Bokeh.embed.embed_items_notebook(docs_json, render_items);\n",
       "\n",
       "  }\n",
       "  if (root.Bokeh !== undefined) {\n",
       "    embed_document(root);\n",
       "  } else {\n",
       "    var attempts = 0;\n",
       "    var timer = setInterval(function(root) {\n",
       "      if (root.Bokeh !== undefined) {\n",
       "        embed_document(root);\n",
       "        clearInterval(timer);\n",
       "      }\n",
       "      attempts++;\n",
       "      if (attempts > 100) {\n",
       "        console.log(\"Bokeh: ERROR: Unable to run BokehJS code because BokehJS library is missing\");\n",
       "        clearInterval(timer);\n",
       "      }\n",
       "    }, 10, root)\n",
       "  }\n",
       "})(window);"
      ],
      "application/vnd.bokehjs_exec.v0+json": ""
     },
     "metadata": {
      "application/vnd.bokehjs_exec.v0+json": {
       "id": "2905"
      }
     },
     "output_type": "display_data"
    },
    {
     "data": {
      "image/png": "[encoded data removed]",
      "text/plain": [
       "<Figure size 432x288 with 1 Axes>"
      ]
     },
     "metadata": {
      "needs_background": "light"
     },
     "output_type": "display_data"
    }
   ],
   "source": [
    "utils.plot_timeflow(c.get_task_stream(count=len(futures)))\n",
    "utils.plot_cumulative_events(c.get_task_stream(count=len(futures)),futures,chunks)"
   ]
  },
  {
   "cell_type": "markdown",
   "metadata": {},
   "source": [
    "OK, that was fast. Now get the list of workers that were used in the same order as the chunking.\n",
    "We use this in another `map` call. To take advantage of caching, each chunk gets sent to the worker \n",
    "that ran it previously."
   ]
  },
  {
   "cell_type": "code",
   "execution_count": 171,
   "metadata": {},
   "outputs": [],
   "source": [
    "d = c.who_has(futures)\n",
    "workers = [set(d[f.key]) for f in futures]"
   ]
  },
  {
   "cell_type": "code",
   "execution_count": 172,
   "metadata": {},
   "outputs": [],
   "source": [
    "futures = c.map(get_hist,chunks,workers=workers,pure=False)"
   ]
  },
  {
   "cell_type": "code",
   "execution_count": 173,
   "metadata": {},
   "outputs": [
    {
     "data": {
      "application/vnd.jupyter.widget-view+json": {
       "model_id": "18a58e9886024671880c345c0f39988a",
       "version_major": 2,
       "version_minor": 0
      },
      "text/plain": [
       "VBox()"
      ]
     },
     "metadata": {},
     "output_type": "display_data"
    }
   ],
   "source": [
    "# asynchronous progress bar. Don't really need it if the monitoring page is above\n",
    "progress(futures)"
   ]
  },
  {
   "cell_type": "code",
   "execution_count": 174,
   "metadata": {},
   "outputs": [],
   "source": [
    "results = c.gather(futures)"
   ]
  },
  {
   "cell_type": "code",
   "execution_count": 175,
   "metadata": {},
   "outputs": [
    {
     "data": {
      "text/html": [
       "\n",
       "\n",
       "\n",
       "\n",
       "\n",
       "\n",
       "  <div class=\"bk-root\" id=\"4a051711-fb76-4e86-b90e-8af0bffe3b83\" data-root-id=\"3107\"></div>\n"
      ]
     },
     "metadata": {},
     "output_type": "display_data"
    },
    {
     "data": {
      "application/javascript": [
       "(function(root) {\n",
       "  function embed_document(root) {\n",
       "    \n",
       "  var docs_json = {\"e947c2b3-f23d-4246-bf43-92c05a62261b\":{\"roots\":{\"references\":[{\"attributes\":{\"below\":[{\"id\":\"3118\",\"type\":\"LinearAxis\"}],\"center\":[{\"id\":\"3122\",\"type\":\"Grid\"},{\"id\":\"3126\",\"type\":\"Grid\"}],\"left\":[{\"id\":\"3123\",\"type\":\"CategoricalAxis\"}],\"plot_height\":350,\"plot_width\":800,\"renderers\":[{\"id\":\"3146\",\"type\":\"GlyphRenderer\"}],\"title\":{\"id\":\"3108\",\"type\":\"Title\"},\"toolbar\":{\"id\":\"3134\",\"type\":\"Toolbar\"},\"x_range\":{\"id\":\"3110\",\"type\":\"Range1d\"},\"x_scale\":{\"id\":\"3114\",\"type\":\"LinearScale\"},\"y_range\":{\"id\":\"3112\",\"type\":\"FactorRange\"},\"y_scale\":{\"id\":\"3116\",\"type\":\"CategoricalScale\"}},\"id\":\"3107\",\"subtype\":\"Figure\",\"type\":\"Plot\"},{\"attributes\":{},\"id\":\"3119\",\"type\":\"BasicTicker\"},{\"attributes\":{},\"id\":\"3130\",\"type\":\"SaveTool\"},{\"attributes\":{\"active_drag\":\"auto\",\"active_inspect\":\"auto\",\"active_multi\":null,\"active_scroll\":\"auto\",\"active_tap\":\"auto\",\"tools\":[{\"id\":\"3127\",\"type\":\"PanTool\"},{\"id\":\"3128\",\"type\":\"WheelZoomTool\"},{\"id\":\"3129\",\"type\":\"BoxZoomTool\"},{\"id\":\"3130\",\"type\":\"SaveTool\"},{\"id\":\"3131\",\"type\":\"ResetTool\"},{\"id\":\"3132\",\"type\":\"HelpTool\"},{\"id\":\"3133\",\"type\":\"HoverTool\"}]},\"id\":\"3134\",\"type\":\"Toolbar\"},{\"attributes\":{\"source\":{\"id\":\"3142\",\"type\":\"ColumnDataSource\"}},\"id\":\"3147\",\"type\":\"CDSView\"},{\"attributes\":{},\"id\":\"3132\",\"type\":\"HelpTool\"},{\"attributes\":{\"fill_alpha\":{\"value\":0.1},\"fill_color\":{\"value\":\"#1f77b4\"},\"height\":{\"value\":1.0},\"left\":{\"field\":\"tstart\"},\"line_alpha\":{\"value\":0.1},\"line_color\":{\"value\":\"#1f77b4\"},\"right\":{\"field\":\"tstop\"},\"y\":{\"field\":\"worker\"}},\"id\":\"3145\",\"type\":\"HBar\"},{\"attributes\":{\"overlay\":{\"id\":\"3267\",\"type\":\"BoxAnnotation\"}},\"id\":\"3129\",\"type\":\"BoxZoomTool\"},{\"attributes\":{\"callback\":null,\"tooltips\":[[\"worker\",\"@worker\"],[\"start\",\"@{tstart}ms\"],[\"stop\",\"@{tstop}ms\"],[\"duration\",\"@{duration}ms\"]]},\"id\":\"3133\",\"type\":\"HoverTool\"},{\"attributes\":{\"callback\":null,\"data\":{\"duration\":{\"__ndarray__\":\"AAAAAOC3kj8AAADAsZX0PwAAAACQ56w/AAAAAHxX0j8AAAAAIrnQPwAAAAClkdU/AAAAABRquT8AAAAAIPKdPwAAAACIvPE/AAAAAJwGwj8AAAAAe1jTPwAAAAALRdg/AAAAAFBhyj8AAADAQ+/xPwAAAAD6jc0/AAAAAHg0oz8AAAAADtDPPwAAAACGAtE/AAAAAHCVkD8AAAAAoNS8PwAAAACoX8Y/AAAAAIVI0j8AAAAAIgDCPwAAAEBlpPM/AAAAAIwT0j8AAAAAndDUPwAAAEBq2/A/AAAAALokyT8AAACA+T/uPwAAAADX4NM/AAAAALog0z8AAAAAA1zaPwAAAAC0RvA/AAAAAP/00T8AAADA/qjxPwAAAAAw/7Y/AAAAAHiaqz8AAAAAZrfPPwAAAAD4YKA/AAAAAFzwzj8AAADAhQrxPwAAAAAs9Mc/AAAAAPASxT8AAAAAAOq8PwAAAAC2is4/AAAAABDSzz8AAAAAzH7MPwAAAABw8ZQ/AAAAADZozj8AAAAA0KG1PwAAAAAcHr0/AAAAALh1yT8AAAAAxJq/PwAAAACktNE/AAAAACBIuD8AAACAHBPkPwAAAACoHcU/AAAAAOxBwz8AAAAA6GjNPwAAAAB8TMU/AAAAAO1O0j8AAAAAKa/SPwAAAAD3lNM/AAAAAFd81D8AAAAAyBTKPwAAAACaBsw/AAAAAIhWwz8AAAAAs3fSPwAAAAAdyNQ/AAAAANXo0j8AAAAAaM2+PwAAAABYncE/AAAAAAhOoz8AAAAA4AG7PwAAAACIz7w/AAAAAEAMzz8AAAAASA2nPwAAAABYbbQ/AAAAAEhnxj8AAAAAQFN6PwAAAAA4mNM/AAAAAITSwD8AAAAAcJrSPwAAAADSMcg/AAAAAHwxtj8AAAAAohjAPwAAAAD+Ucw/AAAAAEwRxT8AAAAArNzJPwAAAAC09M4/AAAAABT2zz8AAAAApF/DPwAAAACETMo/AAAAAJRlyT8AAAAArKG0PwAAAAAxMtY/AAAAgFxu+T8AAAAAWE3OPwAAAAD2as0/AAAAAIBtsD8AAAAASEDKPwAAAAAY8dA/AAAAANSvuj8AAAAAW5vQPwAAAACYFcE/AAAAAAeq0D8AAAAArIW9PwAAAABKdco/AAAAAGa50D8AAAAAqxTSPwAAAABcDtM/AAAAAPrnyz8AAAAAwl3HPwAAAAAc78w/AAAAADgiuT8AAAAAGurOPwAAAAAB0tI/AAAAANREsD8AAAAABPi7PwAAAADWOcY/AAAAABYewz8AAAAAuqzNPwAAAAABQNE/AAAAAMD5gj8AAAAApqrRPwAAAACUyNQ/AAAAAKzLtD8AAAAA7g/JPwAAAADoVc4/AAAAACz7wD8AAAAA8tfQPwAAAADH89M/AAAAADOp0D8AAAAAbiTCPwAAAACq+8o/AAAAAKCsxD8AAAAAQm/CPwAAAABQNtA/AAAAACFJ0D8AAAAAbGXQPwAAAADYV6U/AAAAALB6qz8AAAAAGJbrPwAAAADGc8g/AAAAAGidwD8AAADA0ZD0PwAAAAD+McA/AAAAADoGzz8AAAAAZirNPwAAAAAw7rM/AAAAAAh5yT8AAAAAYD6HPwAAAABY46g/AAAAAICzlz8AAAAAvQ7RPwAAAADdsdE/AAAAANyR0T8AAAAAAKPQPwAAAADkdr8/AAAAAPgypD8AAAAABmvLPwAAAABYFdc/AAAAgJaQ5D8AAAAAEJ7FPwAAAACkW9E/AAAAAGu63z8AAAAAQLyoPwAAAAAc4c0/AAAAACw+1z8AAAAABJOxPwAAAACgO68/AAAAAD1v2D8AAAAAenbSPwAAAAAvAd8/AAAAAIxH3z8AAAAAhnjTPwAAAAByYck/AAAAADUe0j8AAAAAQvXNPwAAAACiS9A/AAAAADGw1D8AAAAAwLaHPwAAAACee80/AAAAAABilz8AAAAARCrOPwAAAADg+qI/AAAAAE4yxD8AAAAAfQXTPwAAAABrrNQ/AAAAAOKwzz8AAAAAX0PUPwAAAABWmcI/AAAAAOBRhj8AAAAAqsjRPwAAAAB289A/AAAAACU11D8AAAAAETvWPwAAAADrY9c/AAAAAEYeyz8AAAAASMDCPwAAAACwvtA/AAAAAGZpxj8AAAAACmHSPwAAAABJxtE/AAAAAN0u0D8AAAAAjG7VPwAAAACW9sA/AAAAADD6tz8AAAAAYpvFPwAAAAAYBM8/AAAAALB/mT8AAAAAtk/UPwAAAACzUNY/AAAAAHeC0z8AAAAAaOqtPwAAAAACHc4/AAAAANHe1D8AAAAAwB/FPwAAAACQsM8/AAAAAGI81j8AAAAAcMm2PwAAAABwzJQ/AAAAADQI1T8=\",\"dtype\":\"float64\",\"shape\":[223]},\"index\":[0,148,155,184,201,213,7,10,143,159,188,210,214,130,154,161,183,202,203,208,212,37,58,186,206,215,222,23,134,170,192,211,221,34,158,172,177,194,199,209,220,20,45,61,86,115,138,2,31,43,60,83,97,123,135,196,207,16,49,69,103,131,168,193,22,54,72,106,139,173,8,29,40,50,66,91,99,109,124,126,157,176,197,21,35,51,76,98,120,144,175,18,46,71,78,118,217,219,25,42,64,94,107,133,145,32,48,74,105,132,167,24,53,77,87,116,147,151,6,33,55,79,113,114,140,178,5,38,67,82,112,141,174,11,44,65,81,110,136,164,171,3,111,128,142,216,218,30,62,70,92,93,101,104,129,162,187,204,9,19,47,88,160,179,36,95,102,125,165,4,13,68,100,149,198,41,63,96,122,146,180,181,200,1,27,39,59,90,127,150,182,12,15,57,85,121,156,190,205,17,56,75,108,137,163,191,14,26,52,80,84,119,153,185,189,28,73,89,117,152,166,169,195],\"tstart\":{\"__ndarray__\":\"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\",\"dtype\":\"float64\",\"shape\":[223]},\"tstop\":{\"__ndarray__\":\"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\",\"dtype\":\"float64\",\"shape\":[223]},\"worker\":[\"169.228.130.140:33979\",\"169.228.130.140:33979\",\"169.228.130.140:33979\",\"169.228.130.140:33979\",\"169.228.130.140:33979\",\"169.228.130.140:33979\",\"169.228.130.140:34342\",\"169.228.130.140:34342\",\"169.228.130.140:34342\",\"169.228.130.140:34342\",\"169.228.130.140:34342\",\"169.228.130.140:34342\",\"169.228.130.140:34342\",\"169.228.130.140:37420\",\"169.228.130.140:37420\",\"169.228.130.140:37420\",\"169.228.130.140:37420\",\"169.228.130.140:37420\",\"169.228.130.140:37420\",\"169.228.130.140:37420\",\"169.228.130.140:37420\",\"169.228.130.140:40632\",\"169.228.130.140:40632\",\"169.228.130.140:40632\",\"169.228.130.140:40632\",\"169.228.130.140:40632\",\"169.228.130.140:40632\",\"169.228.130.140:40682\",\"169.228.130.140:40682\",\"169.228.130.140:40682\",\"169.228.130.140:40682\",\"169.228.130.140:40682\",\"169.228.130.140:40682\",\"169.228.130.140:46822\",\"169.228.130.140:46822\",\"169.228.130.140:46822\",\"169.228.130.140:46822\",\"169.228.130.140:46822\",\"169.228.130.140:46822\",\"169.228.130.140:46822\",\"169.228.130.140:46822\",\"169.228.130.152:34137\",\"169.228.130.152:34137\",\"169.228.130.152:34137\",\"169.228.130.152:34137\",\"169.228.130.152:34137\",\"169.228.130.152:34137\",\"169.228.130.209:37328\",\"169.228.130.209:37328\",\"169.228.130.209:37328\",\"169.228.130.209:37328\",\"169.228.130.209:37328\",\"169.228.130.209:37328\",\"169.228.130.209:37328\",\"169.228.130.209:37328\",\"169.228.130.209:37328\",\"169.228.130.209:37328\",\"169.228.130.211:42681\",\"169.228.130.211:42681\",\"169.228.130.211:42681\",\"169.228.130.211:42681\",\"169.228.130.211:42681\",\"169.228.130.211:42681\",\"169.228.130.211:42681\",\"169.228.131.223:34631\",\"169.228.131.223:34631\",\"169.228.131.223:34631\",\"169.228.131.223:34631\",\"169.228.131.223:34631\",\"169.228.131.223:34631\",\"169.228.131.227:45058\",\"169.228.131.227:45058\",\"169.228.131.227:45058\",\"169.228.131.227:45058\",\"169.228.131.227:45058\",\"169.228.131.227:45058\",\"169.228.131.227:45058\",\"169.228.131.227:45058\",\"169.228.131.227:45058\",\"169.228.131.227:45058\",\"169.228.131.227:45058\",\"169.228.131.227:45058\",\"169.228.131.227:45058\",\"169.228.131.227:45827\",\"169.228.131.227:45827\",\"169.228.131.227:45827\",\"169.228.131.227:45827\",\"169.228.131.227:45827\",\"169.228.131.227:45827\",\"169.228.131.227:45827\",\"169.228.131.227:45827\",\"169.228.131.228:42478\",\"169.228.131.228:42478\",\"169.228.131.228:42478\",\"169.228.131.228:42478\",\"169.228.131.228:42478\",\"169.228.131.228:42478\",\"169.228.131.228:42478\",\"169.228.131.233:35635\",\"169.228.131.233:35635\",\"169.228.131.233:35635\",\"169.228.131.233:35635\",\"169.228.131.233:35635\",\"169.228.131.233:35635\",\"169.228.131.233:35635\",\"169.228.131.252:42023\",\"169.228.131.252:42023\",\"169.228.131.252:42023\",\"169.228.131.252:42023\",\"169.228.131.252:42023\",\"169.228.131.252:42023\",\"169.228.131.35:35053\",\"169.228.131.35:35053\",\"169.228.131.35:35053\",\"169.228.131.35:35053\",\"169.228.131.35:35053\",\"169.228.131.35:35053\",\"169.228.131.35:35053\",\"169.228.131.37:34380\",\"169.228.131.37:34380\",\"169.228.131.37:34380\",\"169.228.131.37:34380\",\"169.228.131.37:34380\",\"169.228.131.37:34380\",\"169.228.131.37:34380\",\"169.228.131.37:34380\",\"169.228.131.37:39450\",\"169.228.131.37:39450\",\"169.228.131.37:39450\",\"169.228.131.37:39450\",\"169.228.131.37:39450\",\"169.228.131.37:39450\",\"169.228.131.37:39450\",\"169.228.131.37:39454\",\"169.228.131.37:39454\",\"169.228.131.37:39454\",\"169.228.131.37:39454\",\"169.228.131.37:39454\",\"169.228.131.37:39454\",\"169.228.131.37:39454\",\"169.228.131.37:39454\",\"169.228.131.76:39800\",\"169.228.131.76:39800\",\"169.228.131.76:39800\",\"169.228.131.76:39800\",\"169.228.131.76:39800\",\"169.228.131.76:39800\",\"169.228.131.98:33676\",\"169.228.131.98:33676\",\"169.228.131.98:33676\",\"169.228.131.98:33676\",\"169.228.131.98:33676\",\"169.228.131.98:33676\",\"169.228.131.98:33676\",\"169.228.131.98:33676\",\"169.228.131.98:33676\",\"169.228.131.98:33676\",\"169.228.131.98:33676\",\"169.228.132.139:32849\",\"169.228.132.139:32849\",\"169.228.132.139:32849\",\"169.228.132.139:32849\",\"169.228.132.139:32849\",\"169.228.132.139:32849\",\"169.228.132.139:38456\",\"169.228.132.139:38456\",\"169.228.132.139:38456\",\"169.228.132.139:38456\",\"169.228.132.139:38456\",\"169.228.132.139:39876\",\"169.228.132.139:39876\",\"169.228.132.139:39876\",\"169.228.132.139:39876\",\"169.228.132.139:39876\",\"169.228.132.139:39876\",\"169.228.132.156:33816\",\"169.228.132.156:33816\",\"169.228.132.156:33816\",\"169.228.132.156:33816\",\"169.228.132.156:33816\",\"169.228.132.156:33816\",\"169.228.132.156:33816\",\"169.228.132.156:33816\",\"169.228.132.156:34147\",\"169.228.132.156:34147\",\"169.228.132.156:34147\",\"169.228.132.156:34147\",\"169.228.132.156:34147\",\"169.228.132.156:34147\",\"169.228.132.156:34147\",\"169.228.132.156:34147\",\"169.228.132.156:39066\",\"169.228.132.156:39066\",\"169.228.132.156:39066\",\"169.228.132.156:39066\",\"169.228.132.156:39066\",\"169.228.132.156:39066\",\"169.228.132.156:39066\",\"169.228.132.156:39066\",\"169.228.132.156:45183\",\"169.228.132.156:45183\",\"169.228.132.156:45183\",\"169.228.132.156:45183\",\"169.228.132.156:45183\",\"169.228.132.156:45183\",\"169.228.132.156:45183\",\"169.228.132.156:46658\",\"169.228.132.156:46658\",\"169.228.132.156:46658\",\"169.228.132.156:46658\",\"169.228.132.156:46658\",\"169.228.132.156:46658\",\"169.228.132.156:46658\",\"169.228.132.156:46658\",\"169.228.132.156:46658\",\"169.228.132.181:7452\",\"169.228.132.181:7452\",\"169.228.132.181:7452\",\"169.228.132.181:7452\",\"169.228.132.181:7452\",\"169.228.132.181:7452\",\"169.228.132.181:7452\",\"169.228.132.181:7452\"]},\"selected\":{\"id\":\"3265\",\"type\":\"Selection\"},\"selection_policy\":{\"id\":\"3266\",\"type\":\"UnionRenderers\"}},\"id\":\"3142\",\"type\":\"ColumnDataSource\"},{\"attributes\":{\"axis_label\":\"elapsed time since start (ms)\",\"formatter\":{\"id\":\"3261\",\"type\":\"BasicTickFormatter\"},\"ticker\":{\"id\":\"3119\",\"type\":\"BasicTicker\"}},\"id\":\"3118\",\"type\":\"LinearAxis\"},{\"attributes\":{},\"id\":\"3131\",\"type\":\"ResetTool\"},{\"attributes\":{},\"id\":\"3116\",\"type\":\"CategoricalScale\"},{\"attributes\":{\"data_source\":{\"id\":\"3142\",\"type\":\"ColumnDataSource\"},\"glyph\":{\"id\":\"3144\",\"type\":\"HBar\"},\"hover_glyph\":null,\"muted_glyph\":null,\"nonselection_glyph\":{\"id\":\"3145\",\"type\":\"HBar\"},\"selection_glyph\":null,\"view\":{\"id\":\"3147\",\"type\":\"CDSView\"}},\"id\":\"3146\",\"type\":\"GlyphRenderer\"},{\"attributes\":{\"fill_color\":{\"value\":\"#1f77b4\"},\"height\":{\"value\":1.0},\"left\":{\"field\":\"tstart\"},\"right\":{\"field\":\"tstop\"},\"y\":{\"field\":\"worker\"}},\"id\":\"3144\",\"type\":\"HBar\"},{\"attributes\":{\"dimension\":1,\"ticker\":{\"id\":\"3124\",\"type\":\"CategoricalTicker\"}},\"id\":\"3126\",\"type\":\"Grid\"},{\"attributes\":{},\"id\":\"3261\",\"type\":\"BasicTickFormatter\"},{\"attributes\":{},\"id\":\"3128\",\"type\":\"WheelZoomTool\"},{\"attributes\":{\"text\":\"efficiency (filled/total) = 57.0%, median task time = 230.33ms, median intertask time = 1.81ms\"},\"id\":\"3108\",\"type\":\"Title\"},{\"attributes\":{\"bottom_units\":\"screen\",\"fill_alpha\":{\"value\":0.5},\"fill_color\":{\"value\":\"lightgrey\"},\"left_units\":\"screen\",\"level\":\"overlay\",\"line_alpha\":{\"value\":1.0},\"line_color\":{\"value\":\"black\"},\"line_dash\":[4,4],\"line_width\":{\"value\":2},\"render_mode\":\"css\",\"right_units\":\"screen\",\"top_units\":\"screen\"},\"id\":\"3267\",\"type\":\"BoxAnnotation\"},{\"attributes\":{\"callback\":null,\"factors\":[\"169.228.130.140:33979\",\"169.228.130.140:34342\",\"169.228.130.140:37420\",\"169.228.130.140:40632\",\"169.228.130.140:40682\",\"169.228.130.140:46822\",\"169.228.130.152:34137\",\"169.228.130.209:37328\",\"169.228.130.211:42681\",\"169.228.131.223:34631\",\"169.228.131.227:45058\",\"169.228.131.227:45827\",\"169.228.131.228:42478\",\"169.228.131.233:35635\",\"169.228.131.252:42023\",\"169.228.131.35:35053\",\"169.228.131.37:34380\",\"169.228.131.37:39450\",\"169.228.131.37:39454\",\"169.228.131.76:39800\",\"169.228.131.98:33676\",\"169.228.132.139:32849\",\"169.228.132.139:38456\",\"169.228.132.139:39876\",\"169.228.132.156:33816\",\"169.228.132.156:34147\",\"169.228.132.156:39066\",\"169.228.132.156:45183\",\"169.228.132.156:46658\",\"169.228.132.181:7452\"]},\"id\":\"3112\",\"type\":\"FactorRange\"},{\"attributes\":{},\"id\":\"3124\",\"type\":\"CategoricalTicker\"},{\"attributes\":{},\"id\":\"3266\",\"type\":\"UnionRenderers\"},{\"attributes\":{},\"id\":\"3263\",\"type\":\"CategoricalTickFormatter\"},{\"attributes\":{},\"id\":\"3127\",\"type\":\"PanTool\"},{\"attributes\":{},\"id\":\"3265\",\"type\":\"Selection\"},{\"attributes\":{\"callback\":null,\"end\":3341.996908187866},\"id\":\"3110\",\"type\":\"Range1d\"},{\"attributes\":{\"axis_label\":\"worker\",\"formatter\":{\"id\":\"3263\",\"type\":\"CategoricalTickFormatter\"},\"ticker\":{\"id\":\"3124\",\"type\":\"CategoricalTicker\"}},\"id\":\"3123\",\"type\":\"CategoricalAxis\"},{\"attributes\":{\"ticker\":{\"id\":\"3119\",\"type\":\"BasicTicker\"}},\"id\":\"3122\",\"type\":\"Grid\"},{\"attributes\":{},\"id\":\"3114\",\"type\":\"LinearScale\"}],\"root_ids\":[\"3107\"]},\"title\":\"Bokeh Application\",\"version\":\"1.3.4\"}};\n",
       "  var render_items = [{\"docid\":\"e947c2b3-f23d-4246-bf43-92c05a62261b\",\"roots\":{\"3107\":\"4a051711-fb76-4e86-b90e-8af0bffe3b83\"}}];\n",
       "  root.Bokeh.embed.embed_items_notebook(docs_json, render_items);\n",
       "\n",
       "  }\n",
       "  if (root.Bokeh !== undefined) {\n",
       "    embed_document(root);\n",
       "  } else {\n",
       "    var attempts = 0;\n",
       "    var timer = setInterval(function(root) {\n",
       "      if (root.Bokeh !== undefined) {\n",
       "        embed_document(root);\n",
       "        clearInterval(timer);\n",
       "      }\n",
       "      attempts++;\n",
       "      if (attempts > 100) {\n",
       "        console.log(\"Bokeh: ERROR: Unable to run BokehJS code because BokehJS library is missing\");\n",
       "        clearInterval(timer);\n",
       "      }\n",
       "    }, 10, root)\n",
       "  }\n",
       "})(window);"
      ],
      "application/vnd.bokehjs_exec.v0+json": ""
     },
     "metadata": {
      "application/vnd.bokehjs_exec.v0+json": {
       "id": "3107"
      }
     },
     "output_type": "display_data"
    },
    {
     "data": {
      "image/png": "[encoded data removed]",
      "text/plain": [
       "<Figure size 432x288 with 1 Axes>"
      ]
     },
     "metadata": {
      "needs_background": "light"
     },
     "output_type": "display_data"
    }
   ],
   "source": [
    "utils.plot_timeflow(c.get_task_stream(count=len(futures)))\n",
    "utils.plot_cumulative_events(c.get_task_stream(count=len(futures)),futures,chunks)"
   ]
  },
  {
   "cell_type": "markdown",
   "metadata": {},
   "source": [
    "OK, that was faster, as it should be. Each task returned histogrammed bin counts, so we sum them up and plot."
   ]
  },
  {
   "cell_type": "code",
   "execution_count": 176,
   "metadata": {},
   "outputs": [
    {
     "data": {
      "image/png": "[encoded data removed]",
      "text/plain": [
       "<Figure size 1080x360 with 1 Axes>"
      ]
     },
     "metadata": {
      "needs_background": "light"
     },
     "output_type": "display_data"
    }
   ],
   "source": [
    "bins = np.logspace(np.log10(0.5),np.log10(1000),num=300)\n",
    "counts = sum(results)\n",
    "\n",
    "fig,ax = plt.subplots(figsize=(15,5))\n",
    "ax.step(x=bins, y=np.append(counts,0), where=\"post\")\n",
    "ax.fill_between(x=bins, y1=np.append(counts,0), step=\"post\",alpha=0.5)\n",
    "ax.set_xlim(bins[0],bins[-1])\n",
    "# ax.set_ylim([0,ax.get_ylim()[1]])\n",
    "ax.set_xlabel(\"Invariant mass (GeV)\")\n",
    "ax.set_title(\"{:.5g} total muons\".format(counts.sum()))\n",
    "ax.set_ylabel(\"Entries\");\n",
    "ax.set_xscale(\"log\")\n",
    "ax.set_yscale(\"log\")"
   ]
  }
 ],
 "metadata": {
  "kernelspec": {
   "display_name": "Python 3",
   "language": "python",
   "name": "python3"
  },
  "language_info": {
   "codemirror_mode": {
    "name": "ipython",
    "version": 3
   },
   "file_extension": ".py",
   "mimetype": "text/x-python",
   "name": "python",
   "nbconvert_exporter": "python",
   "pygments_lexer": "ipython3",
   "version": "3.7.3"
  }
 },
 "nbformat": 4,
 "nbformat_minor": 2
}
